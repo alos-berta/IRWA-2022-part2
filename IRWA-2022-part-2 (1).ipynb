{
  "nbformat": 4,
  "nbformat_minor": 0,
  "metadata": {
    "colab": {
      "provenance": [],
      "collapsed_sections": [],
      "toc_visible": true
    },
    "kernelspec": {
      "name": "python3",
      "display_name": "Python 3"
    },
    "language_info": {
      "name": "python"
    }
  },
  "cells": [
    {
      "cell_type": "markdown",
      "source": [
        "Ana Isabel Urdapilleta Martin - u172960\n",
        "\n",
        "Júlia Ruiz Valero - u172955\n"
      ],
      "metadata": {
        "id": "cd-uhS83Hbus"
      }
    },
    {
      "cell_type": "markdown",
      "source": [
        "#**Information Retrieval and Web Analytics: FINAL PROJECT**\n",
        "## PART 1: TEXT PROCESSING\n"
      ],
      "metadata": {
        "id": "dXwlYl4Z3zIm"
      }
    },
    {
      "cell_type": "code",
      "execution_count": null,
      "metadata": {
        "colab": {
          "base_uri": "https://localhost:8080/"
        },
        "id": "obp3D5kKqEOz",
        "outputId": "84cc5ae2-6cd0-44af-caad-cb1b614ef2b9"
      },
      "outputs": [
        {
          "output_type": "stream",
          "name": "stdout",
          "text": [
            "Drive already mounted at /content/drive; to attempt to forcibly remount, call drive.mount(\"/content/drive\", force_remount=True).\n"
          ]
        }
      ],
      "source": [
        "from google.colab import drive\n",
        "drive.mount('/content/drive')"
      ]
    },
    {
      "cell_type": "code",
      "source": [
        "# if you do not have 'nltk', the following command should work \"python -m pip install nltk\"\n",
        "import nltk\n",
        "nltk.download('stopwords')\n",
        "nltk.download('omw-1.4')\n",
        "nltk.download('wordnet')"
      ],
      "metadata": {
        "colab": {
          "base_uri": "https://localhost:8080/"
        },
        "id": "QbNUueO0qYSv",
        "outputId": "81532257-bde4-4b63-99b0-1d44620ef77d"
      },
      "execution_count": null,
      "outputs": [
        {
          "output_type": "stream",
          "name": "stderr",
          "text": [
            "[nltk_data] Downloading package stopwords to /root/nltk_data...\n",
            "[nltk_data]   Package stopwords is already up-to-date!\n",
            "[nltk_data] Downloading package omw-1.4 to /root/nltk_data...\n",
            "[nltk_data]   Package omw-1.4 is already up-to-date!\n",
            "[nltk_data] Downloading package wordnet to /root/nltk_data...\n",
            "[nltk_data]   Package wordnet is already up-to-date!\n"
          ]
        },
        {
          "output_type": "execute_result",
          "data": {
            "text/plain": [
              "True"
            ]
          },
          "metadata": {},
          "execution_count": 246
        }
      ]
    },
    {
      "cell_type": "code",
      "source": [
        "from collections import defaultdict\n",
        "from array import array\n",
        "from nltk.stem import PorterStemmer\n",
        "from nltk.corpus import stopwords\n",
        "import math\n",
        "import numpy as np\n",
        "import collections\n",
        "from numpy import linalg as la\n",
        "import json\n",
        "import re\n",
        "from nltk.stem import WordNetLemmatizer"
      ],
      "metadata": {
        "id": "Q8emUHoFqYZX"
      },
      "execution_count": null,
      "outputs": []
    },
    {
      "cell_type": "code",
      "source": [
        "docs_path = 'drive/My Drive/tw_hurricane_data.json' # CHANGE according to the path\n",
        "with open(docs_path) as fp:\n",
        "    lines = fp.readlines()\n",
        "\n",
        "lines = [l.strip().replace(' +', ' ') for l in lines]\n"
      ],
      "metadata": {
        "id": "Wxp-bXnlqacy"
      },
      "execution_count": null,
      "outputs": []
    },
    {
      "cell_type": "code",
      "source": [
        "print(\"Total number of docs in the corpus: {}\".format(len(lines)))"
      ],
      "metadata": {
        "colab": {
          "base_uri": "https://localhost:8080/"
        },
        "id": "fB9UL9TSrLFb",
        "outputId": "b4158016-b4a6-4fe5-c771-22978552dd06"
      },
      "execution_count": null,
      "outputs": [
        {
          "output_type": "stream",
          "name": "stdout",
          "text": [
            "Total number of docs in the corpus: 4000\n"
          ]
        }
      ]
    },
    {
      "cell_type": "markdown",
      "source": [
        "## Reduce the information to keep\n",
        "\n",
        "We create a function called reduce to keep the information that we are asked: Id | Tweet | Username | Date | Hashtags | Likes | Retweets | Url\n",
        "The function returns the reduced tweet as a dictionary and the text of the tweet as a string. This last one will we the one that we will preprocess later on."
      ],
      "metadata": {
        "id": "AxJgc0ofCwcU"
      }
    },
    {
      "cell_type": "code",
      "source": [
        "def reduce(tweet):\n",
        "  reduced_tweet = {}\n",
        "  tweet = json.loads(tweet)\n",
        "  reduced_tweet['Id'] = tweet['id']\n",
        "  reduced_tweet['Tweet'] = tweet['full_text']\n",
        "  reduced_tweet['Username'] = tweet['user']['screen_name']\n",
        "  reduced_tweet['Date'] = tweet['created_at']\n",
        "  reduced_tweet['Hashtags'] = [hashtag['text'] for hashtag in tweet['entities']['hashtags']]\n",
        "  reduced_tweet['Likes'] = tweet['favorite_count']\n",
        "  reduced_tweet['Retweets'] = tweet['retweet_count']\n",
        "  reduced_tweet['Url'] = 'https://twitter.com/_/status/'+str(tweet['id'])\n",
        "  return reduced_tweet,  str(reduced_tweet['Tweet'])"
      ],
      "metadata": {
        "id": "eyNJdDHcChZu"
      },
      "execution_count": null,
      "outputs": []
    },
    {
      "cell_type": "markdown",
      "source": [
        "### Preprocess the text of the tweets\n",
        "We create a function called build_terms that preprocesses the text as follows:\n",
        "- Reduce tweet to get the string\n",
        "- Lowercase\n",
        "- Remove URLs\n",
        "- Remove mentions\n",
        "- Remove punctuation\n",
        "- Split the text\n",
        "- Remove newlines\n",
        "- Remove hashtag symbols\n",
        "- Remove emojis\n",
        "- Remove stop words\n",
        "- Stem\n",
        "- Lematize\n",
        "- Remove empty strings"
      ],
      "metadata": {
        "id": "iXjiZJhiDkeP"
      }
    },
    {
      "cell_type": "code",
      "source": [
        "def build_terms(line):\n",
        "    emoji_pattern = re.compile(\"[\"\n",
        "        u\"\\U0001F600-\\U0001F64F\"  # emoticons\n",
        "                               u\"\\U0001F300-\\U0001F5FF\"  # symbols & pictographs\n",
        "                               u\"\\U0001F680-\\U0001F6FF\"  # transport & map symbols\n",
        "                               u\"\\U0001F1E0-\\U0001F1FF\"  # flags (iOS)\n",
        "                               u\"\\U00002500-\\U00002BEF\"  # chinese char\n",
        "                               u\"\\U00002702-\\U000027B0\"\n",
        "                               u\"\\U00002702-\\U000027B0\"\n",
        "                               u\"\\U000024C2-\\U0001F251\"\n",
        "                               u\"\\U0001f926-\\U0001f937\"\n",
        "                               u\"\\U00010000-\\U0010ffff\"\n",
        "                               u\"\\u2640-\\u2642\"\n",
        "                               u\"\\u2600-\\u2B55\"\n",
        "                               u\"\\u200d\"\n",
        "                               u\"\\u23cf\"\n",
        "                               u\"\\u23e9\"\n",
        "                               u\"\\u231a\"\n",
        "                               u\"\\ufe0f\"  # dingbats\n",
        "                               u\"\\u3030\"\n",
        "                               \"]+\", flags=re.UNICODE)\n",
        "\n",
        "    \n",
        "    \n",
        "    stemmer = PorterStemmer()\n",
        "    lemmatizer = WordNetLemmatizer()\n",
        "    stop_words = set(stopwords.words(\"english\"))\n",
        "    \n",
        "    text = line.lower() # Transform in lowercase\n",
        "    \n",
        "    text = re.sub(r'http\\S+', ' ', text) # remove urls\n",
        "    text = re.sub(r'@\\S+',' ', text) #remove mentions\n",
        "    text = re.sub(r'[^\\w\\s]', ' ', text) #remove punctuation\n",
        "    text =  text.split() # Tokenize the text to get a list of terms\n",
        "    text = [re.sub(r'\\\\n', '', x) for x in text]  # remove newline signs \\\\n\n",
        "    text = [x.replace('#', '') for x in text] # remove # symbol\n",
        "    text = [re.sub(emoji_pattern,'',x) for x in text] # remove emojis\n",
        "    \n",
        "    text = [x for x in text if x not in stop_words]  # delete the stopwords\n",
        "    text =[stemmer.stem(x) for x in text] # perform stemming\n",
        "    text =[lemmatizer.lemmatize(x) for x in text]\n",
        "    empty = ['', ' ']\n",
        "    text = [x for x in text if x not in empty] #remove empty strings '', ' '\n",
        "    \n",
        "    return text"
      ],
      "metadata": {
        "id": "16jDeqm6rOen"
      },
      "execution_count": null,
      "outputs": []
    },
    {
      "cell_type": "code",
      "source": [
        "preprocessed_lines = []\n",
        "for i in range(len(lines)):\n",
        "  tweet, text = reduce(lines[i])  # reduce tweet info to what we are asked\n",
        "  text = build_terms(text)\n",
        "  tweet['Tweet'] = text\n",
        "  preprocessed_lines.append(tweet)"
      ],
      "metadata": {
        "id": "47F5mnAtYJyT"
      },
      "execution_count": null,
      "outputs": []
    },
    {
      "cell_type": "markdown",
      "source": [
        "Following we print all the fields of the second tweet to show how it works:"
      ],
      "metadata": {
        "id": "qhdUPI42Ex6P"
      }
    },
    {
      "cell_type": "code",
      "source": [
        "# We print the Tweet | Username | Date | Hashtags | Likes | Retweets | Url of the first preprocessed tweet\n",
        "print(preprocessed_lines[1]['Tweet'])\n",
        "print(preprocessed_lines[1]['Username'])\n",
        "print(preprocessed_lines[1]['Date'])\n",
        "print(preprocessed_lines[1]['Hashtags'])\n",
        "print(preprocessed_lines[1]['Likes'])\n",
        "print(preprocessed_lines[1]['Retweets'])\n",
        "print(preprocessed_lines[1]['Url'])"
      ],
      "metadata": {
        "colab": {
          "base_uri": "https://localhost:8080/"
        },
        "id": "gEqa-l-nrt5M",
        "outputId": "35995c78-03a9-4eb5-c0ae-552c1fb52136"
      },
      "execution_count": null,
      "outputs": [
        {
          "output_type": "stream",
          "name": "stdout",
          "text": [
            "['heart', 'go', 'affect', 'hurricaneian', 'wish', 'everyon', 'road', 'current', 'brave', 'condit', 'safe', 'travel']\n",
            "lytx\n",
            "Fri Sep 30 18:39:01 0000 2022\n",
            "['HurricaneIan']\n",
            "0\n",
            "0\n",
            "https://twitter.com/_/status/1575918151862304768\n"
          ]
        }
      ]
    },
    {
      "cell_type": "markdown",
      "source": [
        "In this last step, we check if the tweet’s Id coincides with the document Id:"
      ],
      "metadata": {
        "id": "V1-eTVmsLOFO"
      }
    },
    {
      "cell_type": "code",
      "source": [
        "#first of all, we import the csv file\n",
        "import pandas as pd\n",
        "docs_path = 'drive/My Drive/tweet_document_ids_map.csv' # CHANGE according to the path\n",
        "df = pd.read_csv(docs_path, sep='\\t', header = None)\n",
        "df"
      ],
      "metadata": {
        "colab": {
          "base_uri": "https://localhost:8080/",
          "height": 424
        },
        "id": "k-H5j5rM8G-m",
        "outputId": "2a3e3580-a37e-4f4a-ebf3-0d2744388cd5"
      },
      "execution_count": null,
      "outputs": [
        {
          "output_type": "execute_result",
          "data": {
            "text/plain": [
              "             0                    1\n",
              "0        doc_1  1575918182698979328\n",
              "1        doc_2  1575918151862304768\n",
              "2        doc_3  1575918140839673873\n",
              "3        doc_4  1575918135009738752\n",
              "4        doc_5  1575918119251419136\n",
              "...        ...                  ...\n",
              "3995  doc_3996  1575856268022992896\n",
              "3996  doc_3997  1575856245650919424\n",
              "3997  doc_3998  1575856228886089728\n",
              "3998  doc_3999  1575856226139017216\n",
              "3999  doc_4000  1575856225908326400\n",
              "\n",
              "[4000 rows x 2 columns]"
            ],
            "text/html": [
              "\n",
              "  <div id=\"df-8478cda5-48f5-4466-ada0-b55fbd37c0c4\">\n",
              "    <div class=\"colab-df-container\">\n",
              "      <div>\n",
              "<style scoped>\n",
              "    .dataframe tbody tr th:only-of-type {\n",
              "        vertical-align: middle;\n",
              "    }\n",
              "\n",
              "    .dataframe tbody tr th {\n",
              "        vertical-align: top;\n",
              "    }\n",
              "\n",
              "    .dataframe thead th {\n",
              "        text-align: right;\n",
              "    }\n",
              "</style>\n",
              "<table border=\"1\" class=\"dataframe\">\n",
              "  <thead>\n",
              "    <tr style=\"text-align: right;\">\n",
              "      <th></th>\n",
              "      <th>0</th>\n",
              "      <th>1</th>\n",
              "    </tr>\n",
              "  </thead>\n",
              "  <tbody>\n",
              "    <tr>\n",
              "      <th>0</th>\n",
              "      <td>doc_1</td>\n",
              "      <td>1575918182698979328</td>\n",
              "    </tr>\n",
              "    <tr>\n",
              "      <th>1</th>\n",
              "      <td>doc_2</td>\n",
              "      <td>1575918151862304768</td>\n",
              "    </tr>\n",
              "    <tr>\n",
              "      <th>2</th>\n",
              "      <td>doc_3</td>\n",
              "      <td>1575918140839673873</td>\n",
              "    </tr>\n",
              "    <tr>\n",
              "      <th>3</th>\n",
              "      <td>doc_4</td>\n",
              "      <td>1575918135009738752</td>\n",
              "    </tr>\n",
              "    <tr>\n",
              "      <th>4</th>\n",
              "      <td>doc_5</td>\n",
              "      <td>1575918119251419136</td>\n",
              "    </tr>\n",
              "    <tr>\n",
              "      <th>...</th>\n",
              "      <td>...</td>\n",
              "      <td>...</td>\n",
              "    </tr>\n",
              "    <tr>\n",
              "      <th>3995</th>\n",
              "      <td>doc_3996</td>\n",
              "      <td>1575856268022992896</td>\n",
              "    </tr>\n",
              "    <tr>\n",
              "      <th>3996</th>\n",
              "      <td>doc_3997</td>\n",
              "      <td>1575856245650919424</td>\n",
              "    </tr>\n",
              "    <tr>\n",
              "      <th>3997</th>\n",
              "      <td>doc_3998</td>\n",
              "      <td>1575856228886089728</td>\n",
              "    </tr>\n",
              "    <tr>\n",
              "      <th>3998</th>\n",
              "      <td>doc_3999</td>\n",
              "      <td>1575856226139017216</td>\n",
              "    </tr>\n",
              "    <tr>\n",
              "      <th>3999</th>\n",
              "      <td>doc_4000</td>\n",
              "      <td>1575856225908326400</td>\n",
              "    </tr>\n",
              "  </tbody>\n",
              "</table>\n",
              "<p>4000 rows × 2 columns</p>\n",
              "</div>\n",
              "      <button class=\"colab-df-convert\" onclick=\"convertToInteractive('df-8478cda5-48f5-4466-ada0-b55fbd37c0c4')\"\n",
              "              title=\"Convert this dataframe to an interactive table.\"\n",
              "              style=\"display:none;\">\n",
              "        \n",
              "  <svg xmlns=\"http://www.w3.org/2000/svg\" height=\"24px\"viewBox=\"0 0 24 24\"\n",
              "       width=\"24px\">\n",
              "    <path d=\"M0 0h24v24H0V0z\" fill=\"none\"/>\n",
              "    <path d=\"M18.56 5.44l.94 2.06.94-2.06 2.06-.94-2.06-.94-.94-2.06-.94 2.06-2.06.94zm-11 1L8.5 8.5l.94-2.06 2.06-.94-2.06-.94L8.5 2.5l-.94 2.06-2.06.94zm10 10l.94 2.06.94-2.06 2.06-.94-2.06-.94-.94-2.06-.94 2.06-2.06.94z\"/><path d=\"M17.41 7.96l-1.37-1.37c-.4-.4-.92-.59-1.43-.59-.52 0-1.04.2-1.43.59L10.3 9.45l-7.72 7.72c-.78.78-.78 2.05 0 2.83L4 21.41c.39.39.9.59 1.41.59.51 0 1.02-.2 1.41-.59l7.78-7.78 2.81-2.81c.8-.78.8-2.07 0-2.86zM5.41 20L4 18.59l7.72-7.72 1.47 1.35L5.41 20z\"/>\n",
              "  </svg>\n",
              "      </button>\n",
              "      \n",
              "  <style>\n",
              "    .colab-df-container {\n",
              "      display:flex;\n",
              "      flex-wrap:wrap;\n",
              "      gap: 12px;\n",
              "    }\n",
              "\n",
              "    .colab-df-convert {\n",
              "      background-color: #E8F0FE;\n",
              "      border: none;\n",
              "      border-radius: 50%;\n",
              "      cursor: pointer;\n",
              "      display: none;\n",
              "      fill: #1967D2;\n",
              "      height: 32px;\n",
              "      padding: 0 0 0 0;\n",
              "      width: 32px;\n",
              "    }\n",
              "\n",
              "    .colab-df-convert:hover {\n",
              "      background-color: #E2EBFA;\n",
              "      box-shadow: 0px 1px 2px rgba(60, 64, 67, 0.3), 0px 1px 3px 1px rgba(60, 64, 67, 0.15);\n",
              "      fill: #174EA6;\n",
              "    }\n",
              "\n",
              "    [theme=dark] .colab-df-convert {\n",
              "      background-color: #3B4455;\n",
              "      fill: #D2E3FC;\n",
              "    }\n",
              "\n",
              "    [theme=dark] .colab-df-convert:hover {\n",
              "      background-color: #434B5C;\n",
              "      box-shadow: 0px 1px 3px 1px rgba(0, 0, 0, 0.15);\n",
              "      filter: drop-shadow(0px 1px 2px rgba(0, 0, 0, 0.3));\n",
              "      fill: #FFFFFF;\n",
              "    }\n",
              "  </style>\n",
              "\n",
              "      <script>\n",
              "        const buttonEl =\n",
              "          document.querySelector('#df-8478cda5-48f5-4466-ada0-b55fbd37c0c4 button.colab-df-convert');\n",
              "        buttonEl.style.display =\n",
              "          google.colab.kernel.accessAllowed ? 'block' : 'none';\n",
              "\n",
              "        async function convertToInteractive(key) {\n",
              "          const element = document.querySelector('#df-8478cda5-48f5-4466-ada0-b55fbd37c0c4');\n",
              "          const dataTable =\n",
              "            await google.colab.kernel.invokeFunction('convertToInteractive',\n",
              "                                                     [key], {});\n",
              "          if (!dataTable) return;\n",
              "\n",
              "          const docLinkHtml = 'Like what you see? Visit the ' +\n",
              "            '<a target=\"_blank\" href=https://colab.research.google.com/notebooks/data_table.ipynb>data table notebook</a>'\n",
              "            + ' to learn more about interactive tables.';\n",
              "          element.innerHTML = '';\n",
              "          dataTable['output_type'] = 'display_data';\n",
              "          await google.colab.output.renderOutput(dataTable, element);\n",
              "          const docLink = document.createElement('div');\n",
              "          docLink.innerHTML = docLinkHtml;\n",
              "          element.appendChild(docLink);\n",
              "        }\n",
              "      </script>\n",
              "    </div>\n",
              "  </div>\n",
              "  "
            ]
          },
          "metadata": {},
          "execution_count": 254
        }
      ]
    },
    {
      "cell_type": "code",
      "source": [
        "#checking the tweet id of the first 3 tweets\n",
        "print(preprocessed_lines[0]['Id'])\n",
        "print(preprocessed_lines[1]['Id'])\n",
        "print(preprocessed_lines[2]['Id'])"
      ],
      "metadata": {
        "colab": {
          "base_uri": "https://localhost:8080/"
        },
        "id": "DcFbWbutAU6s",
        "outputId": "50fcea4f-119d-442e-9930-d4f47e401a77"
      },
      "execution_count": null,
      "outputs": [
        {
          "output_type": "stream",
          "name": "stdout",
          "text": [
            "1575918182698979328\n",
            "1575918151862304768\n",
            "1575918140839673873\n"
          ]
        }
      ]
    },
    {
      "cell_type": "markdown",
      "source": [
        "As it can be seen above, if we take a look to the first three rows of the document id and we compare them with the id of the tweet, we can easily see that they are identical. So, according to that, we can conclude that the mapping has been correctly done."
      ],
      "metadata": {
        "id": "lXC5edLfPWRS"
      }
    },
    {
      "cell_type": "markdown",
      "source": [
        "## PART 2: INDEXING AND EVALUATION\n"
      ],
      "metadata": {
        "id": "b0dtthaaC03n"
      }
    },
    {
      "cell_type": "markdown",
      "source": [
        "### INDEXING"
      ],
      "metadata": {
        "id": "s9jEjQfq7lAu"
      }
    },
    {
      "cell_type": "code",
      "source": [
        "import time"
      ],
      "metadata": {
        "id": "B4Ehmez_C7Bd"
      },
      "execution_count": null,
      "outputs": []
    },
    {
      "cell_type": "code",
      "source": [
        "def create_index_tfidf(lines, num_documents):\n",
        "    \"\"\"\n",
        "    Implement the inverted index and compute tf, df and idf\n",
        "    \n",
        "    Argument:\n",
        "    lines -- collection of tweets\n",
        "    num_documents -- total number of documents\n",
        "    \n",
        "    Returns:\n",
        "    index - the inverted index (implemented through a Python dictionary) containing terms as keys and the corresponding\n",
        "    list of document these keys appears in (and the positions) as values.\n",
        "    tf - normalized term frequency for each term in each document\n",
        "    df - number of documents each term appear in\n",
        "    idf - inverse document frequency of each term\n",
        "    \"\"\"\n",
        "\n",
        "    index = defaultdict(list)\n",
        "    tf = defaultdict(list)  #term frequencies of terms in documents (documents in the same order as in the main index)\n",
        "    df = defaultdict(int)  #document frequencies of terms in the corpus\n",
        "    title_index = defaultdict(str)\n",
        "    idf = defaultdict(float)\n",
        "    for i,line in enumerate(lines): \n",
        "        page_id = i+1 #according to the mapping that we did, doc id is the position of tweet + 1\n",
        "        line, text = reduce(line)  # reduce tweet info to what we are asked\n",
        "        terms = build_terms(text)  # tweet\n",
        "        current_page_index = {}\n",
        "\n",
        "        for position, term in enumerate(terms):  ## terms contains tweets\n",
        "            try:\n",
        "                # if the term is already in the dict append the position to the corresponding list\n",
        "                current_page_index[term][1].append(position) \n",
        "            except:\n",
        "                # Add the new term as dict key and initialize the array of positions and add the position\n",
        "                current_page_index[term] = [page_id, array('I', [position])]  #'I' --> unsigned int\n",
        "\n",
        "        # normalize term frequencies\n",
        "        norm = 0\n",
        "        for term, posting in current_page_index.items():\n",
        "            # posting will contain the list of positions for current term in current document. \n",
        "            norm += len(posting[1]) ** 2\n",
        "        norm = math.sqrt(norm)\n",
        "\n",
        "        #calculate the tf(dividing the term frequency by the above computed norm) and df weights\n",
        "        for term, posting in current_page_index.items():\n",
        "            # append the tf for current term (tf = term frequency in current doc/norm)\n",
        "            tf[term].append(np.round(len(posting[1]) / norm, 4))\n",
        "            #increment the document frequency of current term (number of documents containing the current term)\n",
        "            df[term] += 1 # increment DF for current term\n",
        "\n",
        "        #merge the current page index with the main index\n",
        "        for term_page, posting_page in current_page_index.items():\n",
        "            index[term_page].append(posting_page)\n",
        "\n",
        "        # Compute IDF\n",
        "        for term in df:\n",
        "            idf[term] = np.round(np.log(float(num_documents / df[term])), 4)\n",
        "\n",
        "    return index, tf, df, idf, title_index\n"
      ],
      "metadata": {
        "id": "X5uHujOOJ7Ci"
      },
      "execution_count": null,
      "outputs": []
    },
    {
      "cell_type": "code",
      "source": [
        "start_time = time.time()\n",
        "num_documents = len(lines)\n",
        "index, tf, df, idf, title_index = create_index_tfidf(lines, num_documents)\n",
        "print(\"Total time to create the TD-IDF index: {} seconds\" .format(np.round(time.time() - start_time, 2)))"
      ],
      "metadata": {
        "colab": {
          "base_uri": "https://localhost:8080/"
        },
        "id": "MWgoJbbJKZjY",
        "outputId": "e40ce817-c92c-4ce9-d098-0256ad88072e"
      },
      "execution_count": null,
      "outputs": [
        {
          "output_type": "stream",
          "name": "stdout",
          "text": [
            "Total time to create the TD-IDF index: 205.41 seconds\n"
          ]
        }
      ]
    },
    {
      "cell_type": "code",
      "source": [
        "def search_tf_idf(query, index):\n",
        "    \"\"\"\n",
        "    output is the list of documents that contain any of the query terms. \n",
        "    So, we will get the list of documents for each query term, and take the intersection of them.\n",
        "    \"\"\"\n",
        "    query = build_terms(query)\n",
        "    docs = set()\n",
        "    for term in query:\n",
        "        try:\n",
        "            # store in term_docs the ids of the docs that contain \"term\"                        \n",
        "            term_docs = [posting[0] for posting in index[term]]\n",
        "            \n",
        "            # docs = docs intersection term_docs, unless first term (where docs = set())\n",
        "            if len(docs) == 0:\n",
        "              docs = set(term_docs)\n",
        "            else:\n",
        "              docs = docs.intersection(set(term_docs))\n",
        "\n",
        "        except:\n",
        "            #term is not in index. As we want docs with all query words, if a word is not in any doc we will return an empty set\n",
        "            return set()\n",
        "    docs = list(docs)\n",
        "    ranked_docs = rank_documents(query, docs, index, idf, tf, title_index)\n",
        "    return ranked_docs"
      ],
      "metadata": {
        "id": "z1jzofYRKkc-"
      },
      "execution_count": null,
      "outputs": []
    },
    {
      "cell_type": "code",
      "source": [
        "def rank_documents(terms, docs, index, idf, tf, title_index):\n",
        "    \"\"\"\n",
        "    Perform the ranking of the results of a search based on the tf-idf weights\n",
        "    \n",
        "    Argument:\n",
        "    terms -- list of query terms\n",
        "    docs -- list of documents, to rank, matching the query\n",
        "    index -- inverted index data structure\n",
        "    idf -- inverted document frequencies\n",
        "    tf -- term frequencies\n",
        "    title_index -- mapping between doc id and doc\n",
        "    \n",
        "    Returns:\n",
        "    Print the list of ranked documents\n",
        "    \"\"\"\n",
        "\n",
        "    # Elelement of the docVector corresponding to the query terms \n",
        "    # Remaining elements would became 0 when multiplied to the query_vector\n",
        "    doc_vectors = defaultdict(lambda: [0] * len(terms)) \n",
        "    query_vector = [0] * len(terms)\n",
        "\n",
        "    # compute the norm for the query tf\n",
        "    query_terms_count = collections.Counter(terms)  # get the frequency of each term in the query \n",
        "\n",
        "    query_norm = la.norm(list(query_terms_count.values()))\n",
        "\n",
        "    for termIndex, term in enumerate(terms):  #termIndex is the index of term in query\n",
        "        if term not in index:\n",
        "            continue\n",
        "\n",
        "        ## Compute tf*idf(normalize TF)\n",
        "        query_vector[termIndex] = query_terms_count[term] / query_norm * idf[term]\n",
        "\n",
        "        # Generate doc_vectors for matching docs\n",
        "        for doc_index, (doc, postings) in enumerate(index[term]):\n",
        "            # [doc_index, (doc, postings)]          \n",
        "            if doc in docs:\n",
        "                doc_vectors[doc][termIndex] = tf[term][doc_index] * idf[term]\n",
        "\n",
        "    # Calculate the score of each doc, compute the cosine similarity between queyVector and each docVector\n",
        "    doc_scores = [[np.dot(curDocVec, query_vector), doc] for doc, curDocVec in doc_vectors.items()]\n",
        "    doc_scores.sort(reverse=True)\n",
        "    result_docs = [x[1] for x in doc_scores]\n",
        "    result_scores = [x[0] for x in doc_scores]\n",
        "    if len(result_docs) == 0: #if there is no results\n",
        "        print(\"No results found, try again\")\n",
        "        query = input()\n",
        "        docs = search_tf_idf(query, index)\n",
        "    return result_docs, result_scores"
      ],
      "metadata": {
        "id": "nCu-zqXeKceg"
      },
      "execution_count": null,
      "outputs": []
    },
    {
      "cell_type": "code",
      "source": [
        "query = 'hurricane Ian'\n",
        "ranked_docs, ranked_scores = search_tf_idf(query, index)\n",
        "top = 10\n",
        "print(\"\\n======================\\nTop {} results out of {} for the searched query:\\n\".format(top, len(ranked_docs)))\n",
        "for d_id in ranked_docs[:top]:\n",
        "    print(\"pagse_id= {} \".format(d_id))"
      ],
      "metadata": {
        "colab": {
          "base_uri": "https://localhost:8080/"
        },
        "id": "ywtCZAxAKppb",
        "outputId": "b979c49f-8299-4550-ca67-48efeec62dba"
      },
      "execution_count": null,
      "outputs": [
        {
          "output_type": "stream",
          "name": "stdout",
          "text": [
            "\n",
            "======================\n",
            "Top 10 results out of 506 for the searched query:\n",
            "\n",
            "pagse_id= 640 \n",
            "pagse_id= 634 \n",
            "pagse_id= 495 \n",
            "pagse_id= 2140 \n",
            "pagse_id= 1217 \n",
            "pagse_id= 1025 \n",
            "pagse_id= 1933 \n",
            "pagse_id= 3526 \n",
            "pagse_id= 807 \n",
            "pagse_id= 1907 \n"
          ]
        }
      ]
    },
    {
      "cell_type": "markdown",
      "source": [
        "### EVALUATION"
      ],
      "metadata": {
        "id": "vRTmorRe5W2t"
      }
    },
    {
      "cell_type": "markdown",
      "source": [
        "#### Define the functions\n",
        "We define the functions that we are going to use for Precision, Recall, Avg Precision, F1-score, MAP, MRR and NDCG"
      ],
      "metadata": {
        "id": "_2fqRMXWjQxn"
      }
    },
    {
      "cell_type": "code",
      "source": [
        "def precision_at_k(doc_score, y_score, k=10):\n",
        "    \"\"\"\n",
        "    Parameters\n",
        "    ----------\n",
        "    doc_score: Ground truth (true relevance labels).\n",
        "    y_score: Predicted scores.\n",
        "    k : number of doc to consider.\n",
        "\n",
        "    Returns\n",
        "    -------\n",
        "    precision @k : float\n",
        "\n",
        "    \"\"\"\n",
        "    \n",
        "    order = np.argsort(y_score)[::-1] #get ranking of docs according to the predicted score. Descending order\n",
        "\n",
        "    doc_score = np.take(doc_score, order[:k]) #align the binary relevance to the corresponding doc\n",
        "    relevant = sum(doc_score==1) # get number of relevant docs\n",
        "    return float(relevant)/k #calculate precision at k as number of relevant docs trieved at k"
      ],
      "metadata": {
        "id": "jARlp_QI6tac"
      },
      "execution_count": null,
      "outputs": []
    },
    {
      "cell_type": "code",
      "source": [
        "def recall_at_k(doc_score, y_score, k=10):\n",
        "    \"\"\"\n",
        "    Parameters\n",
        "    ----------\n",
        "    doc_score: Ground truth (true relevance labels).\n",
        "    y_score: Predicted scores.\n",
        "    k : number of doc to consider.\n",
        "\n",
        "    Returns\n",
        "    -------\n",
        "    recall @k : float\n",
        "    \"\"\"\n",
        "    relevant_total = sum (doc_score ==1)\n",
        "    order = np.argsort(y_score)[::-1] #get ranking of docs according to the predicted score. Descending order\n",
        "    doc_score = np.take(doc_score, order[:k]) #align the binary relevance to the corresponding doc\n",
        "    relevant = sum(doc_score==1) # get number of relevant docs\n",
        "    return float(relevant)/relevant_total #calculate recall at k"
      ],
      "metadata": {
        "id": "Hjt7fkijOkJ2"
      },
      "execution_count": null,
      "outputs": []
    },
    {
      "cell_type": "code",
      "source": [
        "def avg_precision_at_k(doc_score, y_score, k=10):\n",
        "    \"\"\"\n",
        "    Parameters\n",
        "    ----------\n",
        "    doc_score: Ground truth (true relevance labels).\n",
        "    y_score: Predicted scores.\n",
        "    k : number of doc to consider.\n",
        "\n",
        "    Returns\n",
        "    -------\n",
        "    average precision @k : float\n",
        "    \"\"\"\n",
        "    gtp = np.sum(doc_score==1)\n",
        "    order = np.argsort(y_score)[::-1]\n",
        "    doc_score = np.take(doc_score, order[:k])\n",
        "    ## if all documents are not relevant\n",
        "    if gtp == 0:\n",
        "        return 0\n",
        "    n_relevant_at_i = 0\n",
        "    prec_at_i = 0\n",
        "    for i in range(len(doc_score)):\n",
        "        if doc_score[i] == 1:\n",
        "            n_relevant_at_i += 1\n",
        "            prec_at_i += n_relevant_at_i/ (i+1) #add the number relevant at i\n",
        "    return prec_at_i/gtp #compute avg precision at k"
      ],
      "metadata": {
        "id": "D43NGZPL66Cy"
      },
      "execution_count": null,
      "outputs": []
    },
    {
      "cell_type": "code",
      "source": [
        "def f1_score(doc_score, y_score, k=10):\n",
        "  #compute the f1 score according to recall at k and precision t k\n",
        "  return float(2*precision_at_k(doc_score,y_score,k)*recall_at_k(doc_score,y_score,k)/(precision_at_k(doc_score,y_score,k)+recall_at_k(doc_score,y_score,k)))"
      ],
      "metadata": {
        "id": "g7TeUFa4R5g8"
      },
      "execution_count": null,
      "outputs": []
    },
    {
      "cell_type": "code",
      "source": [
        "def map_at_k(search_res, k=10):\n",
        "    \"\"\"\n",
        "    Parameters\n",
        "    ----------\n",
        "    search_res: search results dataset containing:\n",
        "        query_id: query id.\n",
        "        doc_id: document id.\n",
        "        predicted_relevance: relevance predicted through LightGBM.\n",
        "        doc_score: actual score of the document for the query (ground truth).\n",
        "\n",
        "    Returns\n",
        "    -------\n",
        "    mean average precision @ k : float\n",
        "    \"\"\"\n",
        "    avp = []\n",
        "    for q in search_res['query_id'].unique():  # loop over all query id\n",
        "        curr_data = search_res[search_res['query_id']==q]  # select data for current query\n",
        "        avp.append(avg_precision_at_k(np.array(curr_data['label']), np.array(curr_data['predicted_scores']), k))  #append average precision for current query\n",
        "    return np.sum(avp)/len(avp), avp  # return mean average precision"
      ],
      "metadata": {
        "id": "8f4GviT87Kfu"
      },
      "execution_count": null,
      "outputs": []
    },
    {
      "cell_type": "code",
      "source": [
        "def rr_at_k(doc_score, y_score, k=10):\n",
        "    \"\"\"\n",
        "    Parameters\n",
        "    ----------\n",
        "    doc_score: Ground truth (true relevance labels).\n",
        "    y_score: Predicted scores.\n",
        "    k : number of doc to consider.\n",
        "\n",
        "    Returns\n",
        "    -------\n",
        "    Reciprocal Rank for qurrent query\n",
        "    \"\"\"\n",
        "\n",
        "    order = np.argsort(y_score)[::-1] # get the list of indexes of the predicted score sorted in descending order.\n",
        "    doc_score = np.take(doc_score,order[:k])  # sort the actual relevance label of the documents based on predicted score and take first k.\n",
        "    if np.sum(doc_score)==0:  # if there are not relevant doument return 0\n",
        "        return 0\n",
        "    return 1/(np.argmax(doc_score==1)+1)  "
      ],
      "metadata": {
        "id": "qGuBI-I_7O8W"
      },
      "execution_count": null,
      "outputs": []
    },
    {
      "cell_type": "code",
      "source": [
        "def dcg_at_k(doc_score, y_score, k=10):\n",
        "    order =  np.argsort(y_score[::-1])# get the list of indexes of the predicted score sorted in descending order.\n",
        "    doc_score = np.take(doc_score, order[:k])   # sort the actual relevance label of the documents based on predicted score and take first k.\n",
        "    gain = 2*doc_score-1  #compute gain\n",
        "    discounts = np.log2(np.arange(len(doc_score))+2)  # Compute denominator\n",
        "    return np.sum(gain / discounts)  #return DCG@k\n",
        "\n",
        "\n",
        "def ndcg_at_k(doc_score, y_score, k=10):\n",
        "    dcg_max = dcg_at_k(doc_score, doc_score,k) # Ideal DCG\n",
        "    if not dcg_max:\n",
        "        return 0\n",
        "    return np.round(dcg_at_k(doc_score, y_score, k)/dcg_max, 4) # return NCDG@k"
      ],
      "metadata": {
        "id": "31C4hFuz7b42"
      },
      "execution_count": null,
      "outputs": []
    },
    {
      "cell_type": "markdown",
      "source": [
        "#### Baseline with 3 queries and the ground truth"
      ],
      "metadata": {
        "id": "aAaB-Xc4jlj6"
      }
    },
    {
      "cell_type": "code",
      "source": [
        "search_results = pd.read_csv(\"drive/My Drive/inputs/evaluation_gt.csv\")\n",
        "search_results.head()"
      ],
      "metadata": {
        "colab": {
          "base_uri": "https://localhost:8080/",
          "height": 206
        },
        "id": "DUWo_K2P54Xg",
        "outputId": "d8862e3c-15bf-4e04-fbfb-36fc219b651e"
      },
      "execution_count": null,
      "outputs": [
        {
          "output_type": "execute_result",
          "data": {
            "text/plain": [
              "       doc  query_id  label\n",
              "0   doc_12         1      1\n",
              "1    doc_9         1      1\n",
              "2   doc_18         1      1\n",
              "3   doc_45         1      1\n",
              "4  doc_501         1      1"
            ],
            "text/html": [
              "\n",
              "  <div id=\"df-37f2638b-bffe-469b-b6c2-7880c6a6c3f4\">\n",
              "    <div class=\"colab-df-container\">\n",
              "      <div>\n",
              "<style scoped>\n",
              "    .dataframe tbody tr th:only-of-type {\n",
              "        vertical-align: middle;\n",
              "    }\n",
              "\n",
              "    .dataframe tbody tr th {\n",
              "        vertical-align: top;\n",
              "    }\n",
              "\n",
              "    .dataframe thead th {\n",
              "        text-align: right;\n",
              "    }\n",
              "</style>\n",
              "<table border=\"1\" class=\"dataframe\">\n",
              "  <thead>\n",
              "    <tr style=\"text-align: right;\">\n",
              "      <th></th>\n",
              "      <th>doc</th>\n",
              "      <th>query_id</th>\n",
              "      <th>label</th>\n",
              "    </tr>\n",
              "  </thead>\n",
              "  <tbody>\n",
              "    <tr>\n",
              "      <th>0</th>\n",
              "      <td>doc_12</td>\n",
              "      <td>1</td>\n",
              "      <td>1</td>\n",
              "    </tr>\n",
              "    <tr>\n",
              "      <th>1</th>\n",
              "      <td>doc_9</td>\n",
              "      <td>1</td>\n",
              "      <td>1</td>\n",
              "    </tr>\n",
              "    <tr>\n",
              "      <th>2</th>\n",
              "      <td>doc_18</td>\n",
              "      <td>1</td>\n",
              "      <td>1</td>\n",
              "    </tr>\n",
              "    <tr>\n",
              "      <th>3</th>\n",
              "      <td>doc_45</td>\n",
              "      <td>1</td>\n",
              "      <td>1</td>\n",
              "    </tr>\n",
              "    <tr>\n",
              "      <th>4</th>\n",
              "      <td>doc_501</td>\n",
              "      <td>1</td>\n",
              "      <td>1</td>\n",
              "    </tr>\n",
              "  </tbody>\n",
              "</table>\n",
              "</div>\n",
              "      <button class=\"colab-df-convert\" onclick=\"convertToInteractive('df-37f2638b-bffe-469b-b6c2-7880c6a6c3f4')\"\n",
              "              title=\"Convert this dataframe to an interactive table.\"\n",
              "              style=\"display:none;\">\n",
              "        \n",
              "  <svg xmlns=\"http://www.w3.org/2000/svg\" height=\"24px\"viewBox=\"0 0 24 24\"\n",
              "       width=\"24px\">\n",
              "    <path d=\"M0 0h24v24H0V0z\" fill=\"none\"/>\n",
              "    <path d=\"M18.56 5.44l.94 2.06.94-2.06 2.06-.94-2.06-.94-.94-2.06-.94 2.06-2.06.94zm-11 1L8.5 8.5l.94-2.06 2.06-.94-2.06-.94L8.5 2.5l-.94 2.06-2.06.94zm10 10l.94 2.06.94-2.06 2.06-.94-2.06-.94-.94-2.06-.94 2.06-2.06.94z\"/><path d=\"M17.41 7.96l-1.37-1.37c-.4-.4-.92-.59-1.43-.59-.52 0-1.04.2-1.43.59L10.3 9.45l-7.72 7.72c-.78.78-.78 2.05 0 2.83L4 21.41c.39.39.9.59 1.41.59.51 0 1.02-.2 1.41-.59l7.78-7.78 2.81-2.81c.8-.78.8-2.07 0-2.86zM5.41 20L4 18.59l7.72-7.72 1.47 1.35L5.41 20z\"/>\n",
              "  </svg>\n",
              "      </button>\n",
              "      \n",
              "  <style>\n",
              "    .colab-df-container {\n",
              "      display:flex;\n",
              "      flex-wrap:wrap;\n",
              "      gap: 12px;\n",
              "    }\n",
              "\n",
              "    .colab-df-convert {\n",
              "      background-color: #E8F0FE;\n",
              "      border: none;\n",
              "      border-radius: 50%;\n",
              "      cursor: pointer;\n",
              "      display: none;\n",
              "      fill: #1967D2;\n",
              "      height: 32px;\n",
              "      padding: 0 0 0 0;\n",
              "      width: 32px;\n",
              "    }\n",
              "\n",
              "    .colab-df-convert:hover {\n",
              "      background-color: #E2EBFA;\n",
              "      box-shadow: 0px 1px 2px rgba(60, 64, 67, 0.3), 0px 1px 3px 1px rgba(60, 64, 67, 0.15);\n",
              "      fill: #174EA6;\n",
              "    }\n",
              "\n",
              "    [theme=dark] .colab-df-convert {\n",
              "      background-color: #3B4455;\n",
              "      fill: #D2E3FC;\n",
              "    }\n",
              "\n",
              "    [theme=dark] .colab-df-convert:hover {\n",
              "      background-color: #434B5C;\n",
              "      box-shadow: 0px 1px 3px 1px rgba(0, 0, 0, 0.15);\n",
              "      filter: drop-shadow(0px 1px 2px rgba(0, 0, 0, 0.3));\n",
              "      fill: #FFFFFF;\n",
              "    }\n",
              "  </style>\n",
              "\n",
              "      <script>\n",
              "        const buttonEl =\n",
              "          document.querySelector('#df-37f2638b-bffe-469b-b6c2-7880c6a6c3f4 button.colab-df-convert');\n",
              "        buttonEl.style.display =\n",
              "          google.colab.kernel.accessAllowed ? 'block' : 'none';\n",
              "\n",
              "        async function convertToInteractive(key) {\n",
              "          const element = document.querySelector('#df-37f2638b-bffe-469b-b6c2-7880c6a6c3f4');\n",
              "          const dataTable =\n",
              "            await google.colab.kernel.invokeFunction('convertToInteractive',\n",
              "                                                     [key], {});\n",
              "          if (!dataTable) return;\n",
              "\n",
              "          const docLinkHtml = 'Like what you see? Visit the ' +\n",
              "            '<a target=\"_blank\" href=https://colab.research.google.com/notebooks/data_table.ipynb>data table notebook</a>'\n",
              "            + ' to learn more about interactive tables.';\n",
              "          element.innerHTML = '';\n",
              "          dataTable['output_type'] = 'display_data';\n",
              "          await google.colab.output.renderOutput(dataTable, element);\n",
              "          const docLink = document.createElement('div');\n",
              "          docLink.innerHTML = docLinkHtml;\n",
              "          element.appendChild(docLink);\n",
              "        }\n",
              "      </script>\n",
              "    </div>\n",
              "  </div>\n",
              "  "
            ]
          },
          "metadata": {},
          "execution_count": 269
        }
      ]
    },
    {
      "cell_type": "code",
      "source": [
        "#binary relevance\n",
        "print_result = search_results[\"label\"].unique()\n",
        "print(\"The ground truth of our dataset is composed of {} Relevance Levels: {}\".format(len(print_result), sorted(print_result)))"
      ],
      "metadata": {
        "colab": {
          "base_uri": "https://localhost:8080/"
        },
        "id": "TxXPHh1v585i",
        "outputId": "89779132-c805-4afe-9290-20ae6f493ade"
      },
      "execution_count": null,
      "outputs": [
        {
          "output_type": "stream",
          "name": "stdout",
          "text": [
            "The ground truth of our dataset is composed of 2 Relevance Levels: [0, 1]\n"
          ]
        }
      ]
    },
    {
      "cell_type": "code",
      "source": [
        "search_results['doc_id'] = [int(re.sub('doc_','',d)) for d in search_results['doc']]\n",
        "# We create a column predicted scores and initialize it to 0, where we will store the ranking scores of our system for the corresponding docs.\n",
        "search_results[\"predicted_scores\"] = 0\n",
        "search_results[\"predicted_scores\"] = search_results[\"predicted_scores\"].astype(float) #we convert it to float\n"
      ],
      "metadata": {
        "id": "UgPZZ8iY76kb"
      },
      "execution_count": null,
      "outputs": []
    },
    {
      "cell_type": "code",
      "source": [
        "search_results.head()"
      ],
      "metadata": {
        "colab": {
          "base_uri": "https://localhost:8080/",
          "height": 206
        },
        "id": "qycET3Nk9QEe",
        "outputId": "d52706f8-28e7-4e9e-8205-06db90c131aa"
      },
      "execution_count": null,
      "outputs": [
        {
          "output_type": "execute_result",
          "data": {
            "text/plain": [
              "       doc  query_id  label  doc_id  predicted_scores\n",
              "0   doc_12         1      1      12               0.0\n",
              "1    doc_9         1      1       9               0.0\n",
              "2   doc_18         1      1      18               0.0\n",
              "3   doc_45         1      1      45               0.0\n",
              "4  doc_501         1      1     501               0.0"
            ],
            "text/html": [
              "\n",
              "  <div id=\"df-e79b03f1-d4de-4ced-802c-ba5cd0862af4\">\n",
              "    <div class=\"colab-df-container\">\n",
              "      <div>\n",
              "<style scoped>\n",
              "    .dataframe tbody tr th:only-of-type {\n",
              "        vertical-align: middle;\n",
              "    }\n",
              "\n",
              "    .dataframe tbody tr th {\n",
              "        vertical-align: top;\n",
              "    }\n",
              "\n",
              "    .dataframe thead th {\n",
              "        text-align: right;\n",
              "    }\n",
              "</style>\n",
              "<table border=\"1\" class=\"dataframe\">\n",
              "  <thead>\n",
              "    <tr style=\"text-align: right;\">\n",
              "      <th></th>\n",
              "      <th>doc</th>\n",
              "      <th>query_id</th>\n",
              "      <th>label</th>\n",
              "      <th>doc_id</th>\n",
              "      <th>predicted_scores</th>\n",
              "    </tr>\n",
              "  </thead>\n",
              "  <tbody>\n",
              "    <tr>\n",
              "      <th>0</th>\n",
              "      <td>doc_12</td>\n",
              "      <td>1</td>\n",
              "      <td>1</td>\n",
              "      <td>12</td>\n",
              "      <td>0.0</td>\n",
              "    </tr>\n",
              "    <tr>\n",
              "      <th>1</th>\n",
              "      <td>doc_9</td>\n",
              "      <td>1</td>\n",
              "      <td>1</td>\n",
              "      <td>9</td>\n",
              "      <td>0.0</td>\n",
              "    </tr>\n",
              "    <tr>\n",
              "      <th>2</th>\n",
              "      <td>doc_18</td>\n",
              "      <td>1</td>\n",
              "      <td>1</td>\n",
              "      <td>18</td>\n",
              "      <td>0.0</td>\n",
              "    </tr>\n",
              "    <tr>\n",
              "      <th>3</th>\n",
              "      <td>doc_45</td>\n",
              "      <td>1</td>\n",
              "      <td>1</td>\n",
              "      <td>45</td>\n",
              "      <td>0.0</td>\n",
              "    </tr>\n",
              "    <tr>\n",
              "      <th>4</th>\n",
              "      <td>doc_501</td>\n",
              "      <td>1</td>\n",
              "      <td>1</td>\n",
              "      <td>501</td>\n",
              "      <td>0.0</td>\n",
              "    </tr>\n",
              "  </tbody>\n",
              "</table>\n",
              "</div>\n",
              "      <button class=\"colab-df-convert\" onclick=\"convertToInteractive('df-e79b03f1-d4de-4ced-802c-ba5cd0862af4')\"\n",
              "              title=\"Convert this dataframe to an interactive table.\"\n",
              "              style=\"display:none;\">\n",
              "        \n",
              "  <svg xmlns=\"http://www.w3.org/2000/svg\" height=\"24px\"viewBox=\"0 0 24 24\"\n",
              "       width=\"24px\">\n",
              "    <path d=\"M0 0h24v24H0V0z\" fill=\"none\"/>\n",
              "    <path d=\"M18.56 5.44l.94 2.06.94-2.06 2.06-.94-2.06-.94-.94-2.06-.94 2.06-2.06.94zm-11 1L8.5 8.5l.94-2.06 2.06-.94-2.06-.94L8.5 2.5l-.94 2.06-2.06.94zm10 10l.94 2.06.94-2.06 2.06-.94-2.06-.94-.94-2.06-.94 2.06-2.06.94z\"/><path d=\"M17.41 7.96l-1.37-1.37c-.4-.4-.92-.59-1.43-.59-.52 0-1.04.2-1.43.59L10.3 9.45l-7.72 7.72c-.78.78-.78 2.05 0 2.83L4 21.41c.39.39.9.59 1.41.59.51 0 1.02-.2 1.41-.59l7.78-7.78 2.81-2.81c.8-.78.8-2.07 0-2.86zM5.41 20L4 18.59l7.72-7.72 1.47 1.35L5.41 20z\"/>\n",
              "  </svg>\n",
              "      </button>\n",
              "      \n",
              "  <style>\n",
              "    .colab-df-container {\n",
              "      display:flex;\n",
              "      flex-wrap:wrap;\n",
              "      gap: 12px;\n",
              "    }\n",
              "\n",
              "    .colab-df-convert {\n",
              "      background-color: #E8F0FE;\n",
              "      border: none;\n",
              "      border-radius: 50%;\n",
              "      cursor: pointer;\n",
              "      display: none;\n",
              "      fill: #1967D2;\n",
              "      height: 32px;\n",
              "      padding: 0 0 0 0;\n",
              "      width: 32px;\n",
              "    }\n",
              "\n",
              "    .colab-df-convert:hover {\n",
              "      background-color: #E2EBFA;\n",
              "      box-shadow: 0px 1px 2px rgba(60, 64, 67, 0.3), 0px 1px 3px 1px rgba(60, 64, 67, 0.15);\n",
              "      fill: #174EA6;\n",
              "    }\n",
              "\n",
              "    [theme=dark] .colab-df-convert {\n",
              "      background-color: #3B4455;\n",
              "      fill: #D2E3FC;\n",
              "    }\n",
              "\n",
              "    [theme=dark] .colab-df-convert:hover {\n",
              "      background-color: #434B5C;\n",
              "      box-shadow: 0px 1px 3px 1px rgba(0, 0, 0, 0.15);\n",
              "      filter: drop-shadow(0px 1px 2px rgba(0, 0, 0, 0.3));\n",
              "      fill: #FFFFFF;\n",
              "    }\n",
              "  </style>\n",
              "\n",
              "      <script>\n",
              "        const buttonEl =\n",
              "          document.querySelector('#df-e79b03f1-d4de-4ced-802c-ba5cd0862af4 button.colab-df-convert');\n",
              "        buttonEl.style.display =\n",
              "          google.colab.kernel.accessAllowed ? 'block' : 'none';\n",
              "\n",
              "        async function convertToInteractive(key) {\n",
              "          const element = document.querySelector('#df-e79b03f1-d4de-4ced-802c-ba5cd0862af4');\n",
              "          const dataTable =\n",
              "            await google.colab.kernel.invokeFunction('convertToInteractive',\n",
              "                                                     [key], {});\n",
              "          if (!dataTable) return;\n",
              "\n",
              "          const docLinkHtml = 'Like what you see? Visit the ' +\n",
              "            '<a target=\"_blank\" href=https://colab.research.google.com/notebooks/data_table.ipynb>data table notebook</a>'\n",
              "            + ' to learn more about interactive tables.';\n",
              "          element.innerHTML = '';\n",
              "          dataTable['output_type'] = 'display_data';\n",
              "          await google.colab.output.renderOutput(dataTable, element);\n",
              "          const docLink = document.createElement('div');\n",
              "          docLink.innerHTML = docLinkHtml;\n",
              "          element.appendChild(docLink);\n",
              "        }\n",
              "      </script>\n",
              "    </div>\n",
              "  </div>\n",
              "  "
            ]
          },
          "metadata": {},
          "execution_count": 272
        }
      ]
    },
    {
      "cell_type": "markdown",
      "source": [
        "##### Query 1\n",
        "Query 1: 'Landfall in South Caroline'\n",
        "\n",
        "We compute the different evaluation metrics mentioned before, by using the functions that we have defined"
      ],
      "metadata": {
        "id": "ePdDvmCbj7Hj"
      }
    },
    {
      "cell_type": "code",
      "source": [
        "# in the following lines we reduce the ground truth dataframe to those rows related to query 1, and save the corresponding predicted score of our ranking system\n",
        "# the reduced data frame is q1_sr\n",
        "\n",
        "q = 'Landfall in South Carolina'\n",
        "qn = 1\n",
        "q_sr = search_results[search_results[\"query_id\"] == qn]\n",
        "\n",
        "ranked_docs_q,ranked_scores_q = search_tf_idf(q, index)\n",
        "for i, d_id in enumerate(ranked_docs_q):\n",
        "  if (d_id == q_sr['doc_id']).any(): # if our ranking doc coincides with a doc in the ground truth add the score\n",
        "    search_results.loc[search_results['doc_id'] == d_id, 'predicted_scores'] = ranked_scores_q[i]\n",
        "\n",
        "q_sr = search_results[search_results[\"query_id\"] == qn] #now we have the predicted_scores in the reduced dataframe"
      ],
      "metadata": {
        "id": "YBeauNzh9sXT"
      },
      "execution_count": null,
      "outputs": []
    },
    {
      "cell_type": "markdown",
      "source": [
        " <font color='blue'>Precision P@K</font>"
      ],
      "metadata": {
        "id": "qAAET6nQYpFt"
      }
    },
    {
      "cell_type": "code",
      "source": [
        "current_query_res = q_sr\n",
        "k = 3\n",
        "print(\"==> Precision@{}: {}\\n\".format(k, precision_at_k(current_query_res[\"label\"], current_query_res[\"predicted_scores\"], k)))\n",
        "\n",
        "k = 10\n",
        "print(\"==> Precision@{}: {}\\n\".format(k, precision_at_k(current_query_res[\"label\"], current_query_res[\"predicted_scores\"], k)))\n",
        "\n",
        "k = 20\n",
        "print(\"==> Precision@{}: {}\\n\".format(k, precision_at_k(current_query_res[\"label\"], current_query_res[\"predicted_scores\"], k)))"
      ],
      "metadata": {
        "colab": {
          "base_uri": "https://localhost:8080/"
        },
        "id": "s9bRygZj60LH",
        "outputId": "4255c8ef-28cb-44b5-dbba-5e88dd07c82d"
      },
      "execution_count": null,
      "outputs": [
        {
          "output_type": "stream",
          "name": "stdout",
          "text": [
            "==> Precision@3: 1.0\n",
            "\n",
            "==> Precision@10: 0.9\n",
            "\n",
            "==> Precision@20: 0.5\n",
            "\n"
          ]
        }
      ]
    },
    {
      "cell_type": "markdown",
      "source": [
        " <font color='blue'>Recall R@K"
      ],
      "metadata": {
        "id": "pBejF1JSYuzf"
      }
    },
    {
      "cell_type": "code",
      "source": [
        "k = 3\n",
        "print(\"==> Recall@{}: {}\\n\".format(k, recall_at_k(current_query_res[\"label\"], current_query_res[\"predicted_scores\"], k)))\n",
        "\n",
        "k = 10\n",
        "print(\"==> Recall@{}: {}\\n\".format(k, recall_at_k(current_query_res[\"label\"], current_query_res[\"predicted_scores\"], k)))\n",
        "\n",
        "k = 20\n",
        "print(\"==> Recall@{}: {}\\n\".format(k, recall_at_k(current_query_res[\"label\"], current_query_res[\"predicted_scores\"], k)))"
      ],
      "metadata": {
        "colab": {
          "base_uri": "https://localhost:8080/"
        },
        "id": "uRff9453aGoS",
        "outputId": "3b1e8a3b-22fe-4107-bea3-60414eecdc5b"
      },
      "execution_count": null,
      "outputs": [
        {
          "output_type": "stream",
          "name": "stdout",
          "text": [
            "==> Recall@3: 0.3\n",
            "\n",
            "==> Recall@10: 0.9\n",
            "\n",
            "==> Recall@20: 1.0\n",
            "\n"
          ]
        }
      ]
    },
    {
      "cell_type": "markdown",
      "source": [
        " <font color='blue'>Avg Precision P@K"
      ],
      "metadata": {
        "id": "FD-31HZ6YxtP"
      }
    },
    {
      "cell_type": "code",
      "source": [
        "k = 10\n",
        "print(\"==> Recall@{}: {}\\n\".format(k, avg_precision_at_k(np.array(current_query_res[\"label\"]), np.array(current_query_res[\"predicted_scores\"]), k)))\n",
        "\n",
        "k=20\n",
        "print(\"==> Recall@{}: {}\\n\".format(k, avg_precision_at_k(np.array(current_query_res[\"label\"]), np.array(current_query_res[\"predicted_scores\"]), k)))"
      ],
      "metadata": {
        "colab": {
          "base_uri": "https://localhost:8080/"
        },
        "id": "6hobyc8O68xR",
        "outputId": "a7fa4ae6-db38-40c8-88b2-0e024d1764a0"
      },
      "execution_count": null,
      "outputs": [
        {
          "output_type": "stream",
          "name": "stdout",
          "text": [
            "==> Recall@10: 0.8154365079365078\n",
            "\n",
            "==> Recall@20: 0.8654365079365078\n",
            "\n"
          ]
        }
      ]
    },
    {
      "cell_type": "markdown",
      "source": [
        " <font color='blue'>F1-score"
      ],
      "metadata": {
        "id": "vFofZlW4Y0ej"
      }
    },
    {
      "cell_type": "code",
      "source": [
        "k = 3\n",
        "print(\"==> F1-score@{}: {}\\n\".format(k, f1_score(current_query_res[\"label\"], current_query_res[\"predicted_scores\"], k)))\n",
        "\n",
        "k = 10\n",
        "print(\"==> F1-score@{}: {}\\n\".format(k, f1_score(current_query_res[\"label\"], current_query_res[\"predicted_scores\"], k)))\n",
        "\n",
        "k = 20\n",
        "print(\"==> F1-score@{}: {}\\n\".format(k, f1_score(current_query_res[\"label\"], current_query_res[\"predicted_scores\"], k)))"
      ],
      "metadata": {
        "colab": {
          "base_uri": "https://localhost:8080/"
        },
        "id": "-ozU4Q7KcCFN",
        "outputId": "f6d781e0-90a8-4371-e830-2e818e4bcb21"
      },
      "execution_count": null,
      "outputs": [
        {
          "output_type": "stream",
          "name": "stdout",
          "text": [
            "==> F1-score@3: 0.4615384615384615\n",
            "\n",
            "==> F1-score@10: 0.9\n",
            "\n",
            "==> F1-score@20: 0.6666666666666666\n",
            "\n"
          ]
        }
      ]
    },
    {
      "cell_type": "markdown",
      "source": [
        "<font color='blue'>MAP"
      ],
      "metadata": {
        "id": "08_bxZ4NY2io"
      }
    },
    {
      "cell_type": "code",
      "source": [
        "current_query_res.sort_values(\"predicted_scores\", ascending=False).head(10)"
      ],
      "metadata": {
        "colab": {
          "base_uri": "https://localhost:8080/",
          "height": 363
        },
        "id": "QLw0d3827FJV",
        "outputId": "bc09f12e-ea38-4dce-e14c-f018a98fbff9"
      },
      "execution_count": null,
      "outputs": [
        {
          "output_type": "execute_result",
          "data": {
            "text/plain": [
              "         doc  query_id  label  doc_id  predicted_scores\n",
              "6     doc_82         1      1      82          3.788680\n",
              "4    doc_501         1      1     501          3.358919\n",
              "9    doc_165         1      1     165          2.809781\n",
              "0     doc_12         1      1      12          0.000000\n",
              "32   doc_441         1      0     441          0.000000\n",
              "38  doc_1195         1      0    1195          0.000000\n",
              "37  doc_1096         1      0    1096          0.000000\n",
              "36  doc_1076         1      0    1076          0.000000\n",
              "35  doc_1002         1      0    1002          0.000000\n",
              "34   doc_525         1      0     525          0.000000"
            ],
            "text/html": [
              "\n",
              "  <div id=\"df-20c069fd-87fe-4a41-963e-e087314e950f\">\n",
              "    <div class=\"colab-df-container\">\n",
              "      <div>\n",
              "<style scoped>\n",
              "    .dataframe tbody tr th:only-of-type {\n",
              "        vertical-align: middle;\n",
              "    }\n",
              "\n",
              "    .dataframe tbody tr th {\n",
              "        vertical-align: top;\n",
              "    }\n",
              "\n",
              "    .dataframe thead th {\n",
              "        text-align: right;\n",
              "    }\n",
              "</style>\n",
              "<table border=\"1\" class=\"dataframe\">\n",
              "  <thead>\n",
              "    <tr style=\"text-align: right;\">\n",
              "      <th></th>\n",
              "      <th>doc</th>\n",
              "      <th>query_id</th>\n",
              "      <th>label</th>\n",
              "      <th>doc_id</th>\n",
              "      <th>predicted_scores</th>\n",
              "    </tr>\n",
              "  </thead>\n",
              "  <tbody>\n",
              "    <tr>\n",
              "      <th>6</th>\n",
              "      <td>doc_82</td>\n",
              "      <td>1</td>\n",
              "      <td>1</td>\n",
              "      <td>82</td>\n",
              "      <td>3.788680</td>\n",
              "    </tr>\n",
              "    <tr>\n",
              "      <th>4</th>\n",
              "      <td>doc_501</td>\n",
              "      <td>1</td>\n",
              "      <td>1</td>\n",
              "      <td>501</td>\n",
              "      <td>3.358919</td>\n",
              "    </tr>\n",
              "    <tr>\n",
              "      <th>9</th>\n",
              "      <td>doc_165</td>\n",
              "      <td>1</td>\n",
              "      <td>1</td>\n",
              "      <td>165</td>\n",
              "      <td>2.809781</td>\n",
              "    </tr>\n",
              "    <tr>\n",
              "      <th>0</th>\n",
              "      <td>doc_12</td>\n",
              "      <td>1</td>\n",
              "      <td>1</td>\n",
              "      <td>12</td>\n",
              "      <td>0.000000</td>\n",
              "    </tr>\n",
              "    <tr>\n",
              "      <th>32</th>\n",
              "      <td>doc_441</td>\n",
              "      <td>1</td>\n",
              "      <td>0</td>\n",
              "      <td>441</td>\n",
              "      <td>0.000000</td>\n",
              "    </tr>\n",
              "    <tr>\n",
              "      <th>38</th>\n",
              "      <td>doc_1195</td>\n",
              "      <td>1</td>\n",
              "      <td>0</td>\n",
              "      <td>1195</td>\n",
              "      <td>0.000000</td>\n",
              "    </tr>\n",
              "    <tr>\n",
              "      <th>37</th>\n",
              "      <td>doc_1096</td>\n",
              "      <td>1</td>\n",
              "      <td>0</td>\n",
              "      <td>1096</td>\n",
              "      <td>0.000000</td>\n",
              "    </tr>\n",
              "    <tr>\n",
              "      <th>36</th>\n",
              "      <td>doc_1076</td>\n",
              "      <td>1</td>\n",
              "      <td>0</td>\n",
              "      <td>1076</td>\n",
              "      <td>0.000000</td>\n",
              "    </tr>\n",
              "    <tr>\n",
              "      <th>35</th>\n",
              "      <td>doc_1002</td>\n",
              "      <td>1</td>\n",
              "      <td>0</td>\n",
              "      <td>1002</td>\n",
              "      <td>0.000000</td>\n",
              "    </tr>\n",
              "    <tr>\n",
              "      <th>34</th>\n",
              "      <td>doc_525</td>\n",
              "      <td>1</td>\n",
              "      <td>0</td>\n",
              "      <td>525</td>\n",
              "      <td>0.000000</td>\n",
              "    </tr>\n",
              "  </tbody>\n",
              "</table>\n",
              "</div>\n",
              "      <button class=\"colab-df-convert\" onclick=\"convertToInteractive('df-20c069fd-87fe-4a41-963e-e087314e950f')\"\n",
              "              title=\"Convert this dataframe to an interactive table.\"\n",
              "              style=\"display:none;\">\n",
              "        \n",
              "  <svg xmlns=\"http://www.w3.org/2000/svg\" height=\"24px\"viewBox=\"0 0 24 24\"\n",
              "       width=\"24px\">\n",
              "    <path d=\"M0 0h24v24H0V0z\" fill=\"none\"/>\n",
              "    <path d=\"M18.56 5.44l.94 2.06.94-2.06 2.06-.94-2.06-.94-.94-2.06-.94 2.06-2.06.94zm-11 1L8.5 8.5l.94-2.06 2.06-.94-2.06-.94L8.5 2.5l-.94 2.06-2.06.94zm10 10l.94 2.06.94-2.06 2.06-.94-2.06-.94-.94-2.06-.94 2.06-2.06.94z\"/><path d=\"M17.41 7.96l-1.37-1.37c-.4-.4-.92-.59-1.43-.59-.52 0-1.04.2-1.43.59L10.3 9.45l-7.72 7.72c-.78.78-.78 2.05 0 2.83L4 21.41c.39.39.9.59 1.41.59.51 0 1.02-.2 1.41-.59l7.78-7.78 2.81-2.81c.8-.78.8-2.07 0-2.86zM5.41 20L4 18.59l7.72-7.72 1.47 1.35L5.41 20z\"/>\n",
              "  </svg>\n",
              "      </button>\n",
              "      \n",
              "  <style>\n",
              "    .colab-df-container {\n",
              "      display:flex;\n",
              "      flex-wrap:wrap;\n",
              "      gap: 12px;\n",
              "    }\n",
              "\n",
              "    .colab-df-convert {\n",
              "      background-color: #E8F0FE;\n",
              "      border: none;\n",
              "      border-radius: 50%;\n",
              "      cursor: pointer;\n",
              "      display: none;\n",
              "      fill: #1967D2;\n",
              "      height: 32px;\n",
              "      padding: 0 0 0 0;\n",
              "      width: 32px;\n",
              "    }\n",
              "\n",
              "    .colab-df-convert:hover {\n",
              "      background-color: #E2EBFA;\n",
              "      box-shadow: 0px 1px 2px rgba(60, 64, 67, 0.3), 0px 1px 3px 1px rgba(60, 64, 67, 0.15);\n",
              "      fill: #174EA6;\n",
              "    }\n",
              "\n",
              "    [theme=dark] .colab-df-convert {\n",
              "      background-color: #3B4455;\n",
              "      fill: #D2E3FC;\n",
              "    }\n",
              "\n",
              "    [theme=dark] .colab-df-convert:hover {\n",
              "      background-color: #434B5C;\n",
              "      box-shadow: 0px 1px 3px 1px rgba(0, 0, 0, 0.15);\n",
              "      filter: drop-shadow(0px 1px 2px rgba(0, 0, 0, 0.3));\n",
              "      fill: #FFFFFF;\n",
              "    }\n",
              "  </style>\n",
              "\n",
              "      <script>\n",
              "        const buttonEl =\n",
              "          document.querySelector('#df-20c069fd-87fe-4a41-963e-e087314e950f button.colab-df-convert');\n",
              "        buttonEl.style.display =\n",
              "          google.colab.kernel.accessAllowed ? 'block' : 'none';\n",
              "\n",
              "        async function convertToInteractive(key) {\n",
              "          const element = document.querySelector('#df-20c069fd-87fe-4a41-963e-e087314e950f');\n",
              "          const dataTable =\n",
              "            await google.colab.kernel.invokeFunction('convertToInteractive',\n",
              "                                                     [key], {});\n",
              "          if (!dataTable) return;\n",
              "\n",
              "          const docLinkHtml = 'Like what you see? Visit the ' +\n",
              "            '<a target=\"_blank\" href=https://colab.research.google.com/notebooks/data_table.ipynb>data table notebook</a>'\n",
              "            + ' to learn more about interactive tables.';\n",
              "          element.innerHTML = '';\n",
              "          dataTable['output_type'] = 'display_data';\n",
              "          await google.colab.output.renderOutput(dataTable, element);\n",
              "          const docLink = document.createElement('div');\n",
              "          docLink.innerHTML = docLinkHtml;\n",
              "          element.appendChild(docLink);\n",
              "        }\n",
              "      </script>\n",
              "    </div>\n",
              "  </div>\n",
              "  "
            ]
          },
          "metadata": {},
          "execution_count": 278
        }
      ]
    },
    {
      "cell_type": "code",
      "source": [
        "k = 3\n",
        "map_k, avp = map_at_k(search_results, k)\n",
        "print(\"==> MAP@{}: {}\\n\".format(k, map_k))\n",
        "\n",
        "k = 10\n",
        "map_k, avp = map_at_k(search_results, k)\n",
        "print(\"==> MAP@{}: {}\\n\".format(k, map_k))\n",
        "\n",
        "k = 20\n",
        "map_k, avp = map_at_k(search_results, k)\n",
        "print(\"==> MAP@{}: {}\\n\".format(k, map_k))"
      ],
      "metadata": {
        "colab": {
          "base_uri": "https://localhost:8080/"
        },
        "id": "eydN8Pns7MEq",
        "outputId": "190b44b5-2fbd-4808-d779-33b32a1384af"
      },
      "execution_count": null,
      "outputs": [
        {
          "output_type": "stream",
          "name": "stdout",
          "text": [
            "==> MAP@3: 0.12222222222222222\n",
            "\n",
            "==> MAP@10: 0.614616402116402\n",
            "\n",
            "==> MAP@20: 0.7191618566618566\n",
            "\n"
          ]
        }
      ]
    },
    {
      "cell_type": "markdown",
      "source": [
        "<font color='blue'>MRR"
      ],
      "metadata": {
        "id": "WsxpBs0zY5kr"
      }
    },
    {
      "cell_type": "code",
      "source": [
        "mrr = {}\n",
        "q=1\n",
        "for k in [3, 10, 20]:\n",
        "    RRs = []\n",
        "    for q in search_results['query_id'].unique():  # loop over all query ids\n",
        "        labels =  np.array(current_query_res[\"label\"]) # get labels for current query\n",
        "        scores =  np.array(current_query_res[\"predicted_scores\"])# get predicted score for current query\n",
        "        RRs.append(rr_at_k(labels, scores, k))  # append RR for current query\n",
        "    mrr[k] = np.round(float(sum(RRs)/len(RRs)), 4)  # Mean RR at current k\n",
        "    print(\"==> MRR@{}: {}\\n\".format(k, mrr[k]))"
      ],
      "metadata": {
        "id": "ec25lpxP7Wle",
        "colab": {
          "base_uri": "https://localhost:8080/"
        },
        "outputId": "495e1a91-09d8-43e9-dc76-cc765062e467"
      },
      "execution_count": null,
      "outputs": [
        {
          "output_type": "stream",
          "name": "stdout",
          "text": [
            "==> MRR@3: 1.0\n",
            "\n",
            "==> MRR@10: 1.0\n",
            "\n",
            "==> MRR@20: 1.0\n",
            "\n"
          ]
        }
      ]
    },
    {
      "cell_type": "markdown",
      "source": [
        "<font color='blue'>NDCG"
      ],
      "metadata": {
        "id": "b_b4jX6HY7mW"
      }
    },
    {
      "cell_type": "code",
      "source": [
        "ndcgs = []\n",
        "k = 10\n",
        "for q in search_results['query_id'].unique() : # loop over all query ids\n",
        "    labels =  np.array(current_query_res[\"label\"]) ## get labels for current query\n",
        "    scores = np.array(current_query_res[\"predicted_scores\"]) # get predicted score for current query\n",
        "    ndcgs.append(ndcg_at_k(labels, scores, k)) # append NDCG for current query\n",
        "\n",
        "avg_ndcg = np.round(float(sum(ndcgs)/len(ndcgs)), 4) # Compute average NDCG\n",
        "print(\"Average NCDG@{}: {}\".format(k, avg_ndcg))"
      ],
      "metadata": {
        "colab": {
          "base_uri": "https://localhost:8080/"
        },
        "id": "JWW2O_Yp7fhX",
        "outputId": "7e02e055-47bf-43ce-ef0b-e40e148c199d"
      },
      "execution_count": null,
      "outputs": [
        {
          "output_type": "stream",
          "name": "stdout",
          "text": [
            "Average NCDG@10: -0.1612\n"
          ]
        }
      ]
    },
    {
      "cell_type": "markdown",
      "source": [
        "##### Query 2"
      ],
      "metadata": {
        "id": "cdvwdNpskAcw"
      }
    },
    {
      "cell_type": "code",
      "source": [
        "# in the following lines we reduce the ground truth dataframe to those rows related to query 2, and save the corresponding predicted score of our ranking system\n",
        "# the reduced data frame is q2_sr \n",
        "q = 'Help and recovery during the hurricane disaster'\n",
        "qn = 2\n",
        "q_sr = search_results[search_results[\"query_id\"] == qn]\n",
        "ranked_docs_q,ranked_scores_q = search_tf_idf(q, index)\n",
        "for i, d_id in enumerate(ranked_docs_q):\n",
        "  if (d_id == q_sr['doc_id']).any():\n",
        "    search_results.loc[search_results.doc_id == d_id, 'predicted_scores'] = ranked_scores_q[i]\n",
        "\n",
        "q_sr = search_results[search_results[\"query_id\"] == qn]\n"
      ],
      "metadata": {
        "id": "rp1_aiiEkDff"
      },
      "execution_count": null,
      "outputs": []
    },
    {
      "cell_type": "markdown",
      "source": [
        " <font color='blue'>Precision P@K</font>"
      ],
      "metadata": {
        "id": "nGTbzRNFgXpY"
      }
    },
    {
      "cell_type": "code",
      "source": [
        "current_query_res = q_sr\n",
        "\n",
        "k = 3\n",
        "print(\"==> Precision@{}: {}\\n\".format(k, precision_at_k(current_query_res[\"label\"], current_query_res[\"predicted_scores\"], k)))\n",
        "\n",
        "k = 10\n",
        "print(\"==> Precision@{}: {}\\n\".format(k, precision_at_k(current_query_res[\"label\"], current_query_res[\"predicted_scores\"], k)))\n",
        "\n",
        "k = 20\n",
        "print(\"==> Precision@{}: {}\\n\".format(k, precision_at_k(current_query_res[\"label\"], current_query_res[\"predicted_scores\"], k)))"
      ],
      "metadata": {
        "colab": {
          "base_uri": "https://localhost:8080/"
        },
        "outputId": "4265eecd-e978-4ecc-a53d-cf1c0536fba0",
        "id": "bC3ycRRJgXpd"
      },
      "execution_count": null,
      "outputs": [
        {
          "output_type": "stream",
          "name": "stdout",
          "text": [
            "==> Precision@3: 0.3333333333333333\n",
            "\n",
            "==> Precision@10: 0.8\n",
            "\n",
            "==> Precision@20: 0.5\n",
            "\n"
          ]
        }
      ]
    },
    {
      "cell_type": "markdown",
      "source": [
        " <font color='blue'>Recall R@K"
      ],
      "metadata": {
        "id": "ZE3q4tc7gXpi"
      }
    },
    {
      "cell_type": "code",
      "source": [
        "k = 3\n",
        "print(\"==> Recall@{}: {}\\n\".format(k, recall_at_k(current_query_res[\"label\"], current_query_res[\"predicted_scores\"], k)))\n",
        "\n",
        "k = 10\n",
        "print(\"==> Recall@{}: {}\\n\".format(k, recall_at_k(current_query_res[\"label\"], current_query_res[\"predicted_scores\"], k)))\n",
        "\n",
        "k = 20\n",
        "print(\"==> Recall@{}: {}\\n\".format(k, recall_at_k(current_query_res[\"label\"], current_query_res[\"predicted_scores\"], k)))"
      ],
      "metadata": {
        "colab": {
          "base_uri": "https://localhost:8080/"
        },
        "outputId": "266bbc2a-406c-4eda-a0e2-6970b6c67036",
        "id": "md7U6m_jgXpk"
      },
      "execution_count": null,
      "outputs": [
        {
          "output_type": "stream",
          "name": "stdout",
          "text": [
            "==> Recall@3: 0.1\n",
            "\n",
            "==> Recall@10: 0.8\n",
            "\n",
            "==> Recall@20: 1.0\n",
            "\n"
          ]
        }
      ]
    },
    {
      "cell_type": "markdown",
      "source": [
        " <font color='blue'>Avg Precision P@K"
      ],
      "metadata": {
        "id": "aTHUZhp5gXpn"
      }
    },
    {
      "cell_type": "code",
      "source": [
        "k = 10\n",
        "print(\"==> Recall@{}: {}\\n\".format(k, avg_precision_at_k(np.array(current_query_res[\"label\"]), np.array(current_query_res[\"predicted_scores\"]), k)))\n",
        "\n",
        "k=20\n",
        "print(\"==> Recall@{}: {}\\n\".format(k, avg_precision_at_k(np.array(current_query_res[\"label\"]), np.array(current_query_res[\"predicted_scores\"]), k)))"
      ],
      "metadata": {
        "colab": {
          "base_uri": "https://localhost:8080/"
        },
        "outputId": "ff3b2887-e5fc-4459-82d8-b5429fc6484b",
        "id": "9_cKTmAqgXpq"
      },
      "execution_count": null,
      "outputs": [
        {
          "output_type": "stream",
          "name": "stdout",
          "text": [
            "==> Recall@10: 0.5142063492063491\n",
            "\n",
            "==> Recall@20: 0.646024531024531\n",
            "\n"
          ]
        }
      ]
    },
    {
      "cell_type": "markdown",
      "source": [
        " <font color='blue'>F1-score"
      ],
      "metadata": {
        "id": "E4_nDMGJgXpt"
      }
    },
    {
      "cell_type": "code",
      "source": [
        "k = 3\n",
        "print(\"==> F1-score@{}: {}\\n\".format(k, f1_score(current_query_res[\"label\"], current_query_res[\"predicted_scores\"], k)))\n",
        "\n",
        "k = 10\n",
        "print(\"==> F1-score@{}: {}\\n\".format(k, f1_score(current_query_res[\"label\"], current_query_res[\"predicted_scores\"], k)))\n",
        "\n",
        "k = 20\n",
        "print(\"==> F1-score@{}: {}\\n\".format(k, f1_score(current_query_res[\"label\"], current_query_res[\"predicted_scores\"], k)))"
      ],
      "metadata": {
        "colab": {
          "base_uri": "https://localhost:8080/"
        },
        "outputId": "30b215c4-18d7-49cc-ab60-2b2ab2ffd35f",
        "id": "qPQpSjI0gXpu"
      },
      "execution_count": null,
      "outputs": [
        {
          "output_type": "stream",
          "name": "stdout",
          "text": [
            "==> F1-score@3: 0.15384615384615383\n",
            "\n",
            "==> F1-score@10: 0.8000000000000002\n",
            "\n",
            "==> F1-score@20: 0.6666666666666666\n",
            "\n"
          ]
        }
      ]
    },
    {
      "cell_type": "markdown",
      "source": [
        "<font color='blue'>MAP"
      ],
      "metadata": {
        "id": "zvqU6dOZgXpx"
      }
    },
    {
      "cell_type": "code",
      "source": [
        "current_query_res.sort_values(\"predicted_scores\", ascending=False).head(10)"
      ],
      "metadata": {
        "colab": {
          "base_uri": "https://localhost:8080/",
          "height": 363
        },
        "outputId": "56c8bd52-9abe-4b8b-ada6-a8de5bd6357b",
        "id": "buoBwaXrgXpz"
      },
      "execution_count": null,
      "outputs": [
        {
          "output_type": "execute_result",
          "data": {
            "text/plain": [
              "         doc  query_id  label  doc_id  predicted_scores\n",
              "10   doc_158         2      1     158               0.0\n",
              "11   doc_175         2      1     175               0.0\n",
              "48  doc_1195         2      0    1195               0.0\n",
              "47  doc_1096         2      0    1096               0.0\n",
              "46  doc_1076         2      0    1076               0.0\n",
              "45  doc_1002         2      0    1002               0.0\n",
              "44   doc_525         2      0     525               0.0\n",
              "43   doc_494         2      0     494               0.0\n",
              "42   doc_441         2      0     441               0.0\n",
              "41   doc_306         2      0     306               0.0"
            ],
            "text/html": [
              "\n",
              "  <div id=\"df-59b7078e-85d4-475b-a4ab-f7f2d93b513b\">\n",
              "    <div class=\"colab-df-container\">\n",
              "      <div>\n",
              "<style scoped>\n",
              "    .dataframe tbody tr th:only-of-type {\n",
              "        vertical-align: middle;\n",
              "    }\n",
              "\n",
              "    .dataframe tbody tr th {\n",
              "        vertical-align: top;\n",
              "    }\n",
              "\n",
              "    .dataframe thead th {\n",
              "        text-align: right;\n",
              "    }\n",
              "</style>\n",
              "<table border=\"1\" class=\"dataframe\">\n",
              "  <thead>\n",
              "    <tr style=\"text-align: right;\">\n",
              "      <th></th>\n",
              "      <th>doc</th>\n",
              "      <th>query_id</th>\n",
              "      <th>label</th>\n",
              "      <th>doc_id</th>\n",
              "      <th>predicted_scores</th>\n",
              "    </tr>\n",
              "  </thead>\n",
              "  <tbody>\n",
              "    <tr>\n",
              "      <th>10</th>\n",
              "      <td>doc_158</td>\n",
              "      <td>2</td>\n",
              "      <td>1</td>\n",
              "      <td>158</td>\n",
              "      <td>0.0</td>\n",
              "    </tr>\n",
              "    <tr>\n",
              "      <th>11</th>\n",
              "      <td>doc_175</td>\n",
              "      <td>2</td>\n",
              "      <td>1</td>\n",
              "      <td>175</td>\n",
              "      <td>0.0</td>\n",
              "    </tr>\n",
              "    <tr>\n",
              "      <th>48</th>\n",
              "      <td>doc_1195</td>\n",
              "      <td>2</td>\n",
              "      <td>0</td>\n",
              "      <td>1195</td>\n",
              "      <td>0.0</td>\n",
              "    </tr>\n",
              "    <tr>\n",
              "      <th>47</th>\n",
              "      <td>doc_1096</td>\n",
              "      <td>2</td>\n",
              "      <td>0</td>\n",
              "      <td>1096</td>\n",
              "      <td>0.0</td>\n",
              "    </tr>\n",
              "    <tr>\n",
              "      <th>46</th>\n",
              "      <td>doc_1076</td>\n",
              "      <td>2</td>\n",
              "      <td>0</td>\n",
              "      <td>1076</td>\n",
              "      <td>0.0</td>\n",
              "    </tr>\n",
              "    <tr>\n",
              "      <th>45</th>\n",
              "      <td>doc_1002</td>\n",
              "      <td>2</td>\n",
              "      <td>0</td>\n",
              "      <td>1002</td>\n",
              "      <td>0.0</td>\n",
              "    </tr>\n",
              "    <tr>\n",
              "      <th>44</th>\n",
              "      <td>doc_525</td>\n",
              "      <td>2</td>\n",
              "      <td>0</td>\n",
              "      <td>525</td>\n",
              "      <td>0.0</td>\n",
              "    </tr>\n",
              "    <tr>\n",
              "      <th>43</th>\n",
              "      <td>doc_494</td>\n",
              "      <td>2</td>\n",
              "      <td>0</td>\n",
              "      <td>494</td>\n",
              "      <td>0.0</td>\n",
              "    </tr>\n",
              "    <tr>\n",
              "      <th>42</th>\n",
              "      <td>doc_441</td>\n",
              "      <td>2</td>\n",
              "      <td>0</td>\n",
              "      <td>441</td>\n",
              "      <td>0.0</td>\n",
              "    </tr>\n",
              "    <tr>\n",
              "      <th>41</th>\n",
              "      <td>doc_306</td>\n",
              "      <td>2</td>\n",
              "      <td>0</td>\n",
              "      <td>306</td>\n",
              "      <td>0.0</td>\n",
              "    </tr>\n",
              "  </tbody>\n",
              "</table>\n",
              "</div>\n",
              "      <button class=\"colab-df-convert\" onclick=\"convertToInteractive('df-59b7078e-85d4-475b-a4ab-f7f2d93b513b')\"\n",
              "              title=\"Convert this dataframe to an interactive table.\"\n",
              "              style=\"display:none;\">\n",
              "        \n",
              "  <svg xmlns=\"http://www.w3.org/2000/svg\" height=\"24px\"viewBox=\"0 0 24 24\"\n",
              "       width=\"24px\">\n",
              "    <path d=\"M0 0h24v24H0V0z\" fill=\"none\"/>\n",
              "    <path d=\"M18.56 5.44l.94 2.06.94-2.06 2.06-.94-2.06-.94-.94-2.06-.94 2.06-2.06.94zm-11 1L8.5 8.5l.94-2.06 2.06-.94-2.06-.94L8.5 2.5l-.94 2.06-2.06.94zm10 10l.94 2.06.94-2.06 2.06-.94-2.06-.94-.94-2.06-.94 2.06-2.06.94z\"/><path d=\"M17.41 7.96l-1.37-1.37c-.4-.4-.92-.59-1.43-.59-.52 0-1.04.2-1.43.59L10.3 9.45l-7.72 7.72c-.78.78-.78 2.05 0 2.83L4 21.41c.39.39.9.59 1.41.59.51 0 1.02-.2 1.41-.59l7.78-7.78 2.81-2.81c.8-.78.8-2.07 0-2.86zM5.41 20L4 18.59l7.72-7.72 1.47 1.35L5.41 20z\"/>\n",
              "  </svg>\n",
              "      </button>\n",
              "      \n",
              "  <style>\n",
              "    .colab-df-container {\n",
              "      display:flex;\n",
              "      flex-wrap:wrap;\n",
              "      gap: 12px;\n",
              "    }\n",
              "\n",
              "    .colab-df-convert {\n",
              "      background-color: #E8F0FE;\n",
              "      border: none;\n",
              "      border-radius: 50%;\n",
              "      cursor: pointer;\n",
              "      display: none;\n",
              "      fill: #1967D2;\n",
              "      height: 32px;\n",
              "      padding: 0 0 0 0;\n",
              "      width: 32px;\n",
              "    }\n",
              "\n",
              "    .colab-df-convert:hover {\n",
              "      background-color: #E2EBFA;\n",
              "      box-shadow: 0px 1px 2px rgba(60, 64, 67, 0.3), 0px 1px 3px 1px rgba(60, 64, 67, 0.15);\n",
              "      fill: #174EA6;\n",
              "    }\n",
              "\n",
              "    [theme=dark] .colab-df-convert {\n",
              "      background-color: #3B4455;\n",
              "      fill: #D2E3FC;\n",
              "    }\n",
              "\n",
              "    [theme=dark] .colab-df-convert:hover {\n",
              "      background-color: #434B5C;\n",
              "      box-shadow: 0px 1px 3px 1px rgba(0, 0, 0, 0.15);\n",
              "      filter: drop-shadow(0px 1px 2px rgba(0, 0, 0, 0.3));\n",
              "      fill: #FFFFFF;\n",
              "    }\n",
              "  </style>\n",
              "\n",
              "      <script>\n",
              "        const buttonEl =\n",
              "          document.querySelector('#df-59b7078e-85d4-475b-a4ab-f7f2d93b513b button.colab-df-convert');\n",
              "        buttonEl.style.display =\n",
              "          google.colab.kernel.accessAllowed ? 'block' : 'none';\n",
              "\n",
              "        async function convertToInteractive(key) {\n",
              "          const element = document.querySelector('#df-59b7078e-85d4-475b-a4ab-f7f2d93b513b');\n",
              "          const dataTable =\n",
              "            await google.colab.kernel.invokeFunction('convertToInteractive',\n",
              "                                                     [key], {});\n",
              "          if (!dataTable) return;\n",
              "\n",
              "          const docLinkHtml = 'Like what you see? Visit the ' +\n",
              "            '<a target=\"_blank\" href=https://colab.research.google.com/notebooks/data_table.ipynb>data table notebook</a>'\n",
              "            + ' to learn more about interactive tables.';\n",
              "          element.innerHTML = '';\n",
              "          dataTable['output_type'] = 'display_data';\n",
              "          await google.colab.output.renderOutput(dataTable, element);\n",
              "          const docLink = document.createElement('div');\n",
              "          docLink.innerHTML = docLinkHtml;\n",
              "          element.appendChild(docLink);\n",
              "        }\n",
              "      </script>\n",
              "    </div>\n",
              "  </div>\n",
              "  "
            ]
          },
          "metadata": {},
          "execution_count": 287
        }
      ]
    },
    {
      "cell_type": "code",
      "source": [
        "k = 3\n",
        "map_k, avp = map_at_k(search_results, k)\n",
        "print(\"==> MAP@{}: {}\\n\".format(k, map_k))\n",
        "\n",
        "k = 10\n",
        "map_k, avp = map_at_k(search_results, k)\n",
        "print(\"==> MAP@{}: {}\\n\".format(k, map_k))\n",
        "\n",
        "k = 20\n",
        "map_k, avp = map_at_k(search_results, k)\n",
        "print(\"==> MAP@{}: {}\\n\".format(k, map_k))"
      ],
      "metadata": {
        "colab": {
          "base_uri": "https://localhost:8080/"
        },
        "outputId": "ea739a02-38d9-4d50-ad1c-f66717a4f150",
        "id": "N9mcsNCrgXp1"
      },
      "execution_count": null,
      "outputs": [
        {
          "output_type": "stream",
          "name": "stdout",
          "text": [
            "==> MAP@3: 0.12222222222222222\n",
            "\n",
            "==> MAP@10: 0.614616402116402\n",
            "\n",
            "==> MAP@20: 0.7191618566618566\n",
            "\n"
          ]
        }
      ]
    },
    {
      "cell_type": "markdown",
      "source": [
        "<font color='blue'>MRR"
      ],
      "metadata": {
        "id": "6GLnm8FHgXp2"
      }
    },
    {
      "cell_type": "code",
      "source": [
        "mrr = {}\n",
        "q=1\n",
        "for k in [3, 10, 20]:\n",
        "    RRs = []\n",
        "    for q in search_results['query_id'].unique():  # loop over all query ids\n",
        "        labels =  np.array(current_query_res[\"label\"]) # get labels for current query\n",
        "        scores =  np.array(current_query_res[\"predicted_scores\"])# get predicted score for current query\n",
        "        RRs.append(rr_at_k(labels, scores, k))  # append RR for current query\n",
        "    mrr[k] = np.round(float(sum(RRs)/len(RRs)), 4)  # Mean RR at current k\n",
        "    print(\"==> MRR@{}: {}\\n\".format(k, mrr[k]))"
      ],
      "metadata": {
        "colab": {
          "base_uri": "https://localhost:8080/"
        },
        "outputId": "31712696-0807-4342-f974-d13da5160f83",
        "id": "QheLSQu2gXp2"
      },
      "execution_count": null,
      "outputs": [
        {
          "output_type": "stream",
          "name": "stdout",
          "text": [
            "==> MRR@3: 0.3333\n",
            "\n",
            "==> MRR@10: 0.3333\n",
            "\n",
            "==> MRR@20: 0.3333\n",
            "\n"
          ]
        }
      ]
    },
    {
      "cell_type": "markdown",
      "source": [
        "<font color='blue'>NDCG"
      ],
      "metadata": {
        "id": "K-fxOi6xgXp3"
      }
    },
    {
      "cell_type": "code",
      "source": [
        "ndcgs = []\n",
        "k = 10\n",
        "for q in search_results['query_id'].unique() : # loop over all query ids\n",
        "    labels =  np.array(current_query_res[\"label\"]) ## get labels for current query\n",
        "    scores = np.array(current_query_res[\"predicted_scores\"]) # get predicted score for current query\n",
        "    ndcgs.append(ndcg_at_k(labels, scores, k)) # append NDCG for current query\n",
        "\n",
        "avg_ndcg = np.round(float(sum(ndcgs)/len(ndcgs)), 4) # Compute average NDCG\n",
        "print(\"Average NCDG@{}: {}\".format(k, avg_ndcg))"
      ],
      "metadata": {
        "colab": {
          "base_uri": "https://localhost:8080/"
        },
        "outputId": "de7a58d1-ff43-4b98-b49d-7801a72f4554",
        "id": "dY5JoL-EgXp4"
      },
      "execution_count": null,
      "outputs": [
        {
          "output_type": "stream",
          "name": "stdout",
          "text": [
            "Average NCDG@10: -0.4326\n"
          ]
        }
      ]
    },
    {
      "cell_type": "markdown",
      "source": [
        "##### Query 3"
      ],
      "metadata": {
        "id": "-XKZfKF0kGtv"
      }
    },
    {
      "cell_type": "code",
      "source": [
        "# in the following lines we reduce the ground truth dataframe to those rows related to query 3, and save the corresponding predicted score of our ranking system\n",
        "# the reduced data frame is q3_sr\n",
        "q = 'Floodings in South Carolina'\n",
        "qn=3\n",
        "q_sr = search_results[search_results[\"query_id\"] == qn]\n",
        "ranked_docs_q, ranked_scores_q = search_tf_idf(q, index)\n",
        "for i, d_id in enumerate(ranked_docs_q):\n",
        "  if (d_id == q_sr['doc_id']).any():\n",
        "    search_results.loc[search_results.doc_id == d_id, 'predicted_scores'] = ranked_scores_q[i]\n",
        "\n",
        "q_sr = search_results[search_results[\"query_id\"] == qn]"
      ],
      "metadata": {
        "id": "wBrgILblkK7c"
      },
      "execution_count": null,
      "outputs": []
    },
    {
      "cell_type": "markdown",
      "source": [
        " <font color='blue'>Precision P@K</font>"
      ],
      "metadata": {
        "id": "0foLVE4SgzGU"
      }
    },
    {
      "cell_type": "code",
      "source": [
        "current_query_res = q_sr\n",
        "\n",
        "k = 3\n",
        "print(\"==> Precision@{}: {}\\n\".format(k, precision_at_k(current_query_res[\"label\"], current_query_res[\"predicted_scores\"], k)))\n",
        "\n",
        "k = 10\n",
        "print(\"==> Precision@{}: {}\\n\".format(k, precision_at_k(current_query_res[\"label\"], current_query_res[\"predicted_scores\"], k)))\n",
        "\n",
        "k = 20\n",
        "print(\"==> Precision@{}: {}\\n\".format(k, precision_at_k(current_query_res[\"label\"], current_query_res[\"predicted_scores\"], k)))"
      ],
      "metadata": {
        "colab": {
          "base_uri": "https://localhost:8080/"
        },
        "outputId": "68eee939-56ab-492c-be53-f140c128a295",
        "id": "jr9mpNvGgzGV"
      },
      "execution_count": null,
      "outputs": [
        {
          "output_type": "stream",
          "name": "stdout",
          "text": [
            "==> Precision@3: 1.0\n",
            "\n",
            "==> Precision@10: 0.6\n",
            "\n",
            "==> Precision@20: 0.5\n",
            "\n"
          ]
        }
      ]
    },
    {
      "cell_type": "markdown",
      "source": [
        " <font color='blue'>Recall R@K"
      ],
      "metadata": {
        "id": "aPAh4EbZgzGX"
      }
    },
    {
      "cell_type": "code",
      "source": [
        "k = 3\n",
        "print(\"==> Recall@{}: {}\\n\".format(k, recall_at_k(current_query_res[\"label\"], current_query_res[\"predicted_scores\"], k)))\n",
        "\n",
        "k = 10\n",
        "print(\"==> Recall@{}: {}\\n\".format(k, recall_at_k(current_query_res[\"label\"], current_query_res[\"predicted_scores\"], k)))\n",
        "\n",
        "k = 20\n",
        "print(\"==> Recall@{}: {}\\n\".format(k, recall_at_k(current_query_res[\"label\"], current_query_res[\"predicted_scores\"], k)))"
      ],
      "metadata": {
        "colab": {
          "base_uri": "https://localhost:8080/"
        },
        "outputId": "e9743429-2f50-44d9-da99-1c4040af6495",
        "id": "Seo-pPFRgzGY"
      },
      "execution_count": null,
      "outputs": [
        {
          "output_type": "stream",
          "name": "stdout",
          "text": [
            "==> Recall@3: 0.3\n",
            "\n",
            "==> Recall@10: 0.6\n",
            "\n",
            "==> Recall@20: 1.0\n",
            "\n"
          ]
        }
      ]
    },
    {
      "cell_type": "markdown",
      "source": [
        " <font color='blue'>Avg Precision P@K"
      ],
      "metadata": {
        "id": "gZfEnxiBgzGZ"
      }
    },
    {
      "cell_type": "code",
      "source": [
        "k = 10\n",
        "print(\"==> Recall@{}: {}\\n\".format(k, avg_precision_at_k(np.array(current_query_res[\"label\"]), np.array(current_query_res[\"predicted_scores\"]), k)))\n",
        "\n",
        "k=20\n",
        "print(\"==> Recall@{}: {}\\n\".format(k, avg_precision_at_k(np.array(current_query_res[\"label\"]), np.array(current_query_res[\"predicted_scores\"]), k)))"
      ],
      "metadata": {
        "colab": {
          "base_uri": "https://localhost:8080/"
        },
        "outputId": "0bf902c3-6f31-4263-aaf5-b5ce1e161449",
        "id": "Y5_dKuiZgzGZ"
      },
      "execution_count": null,
      "outputs": [
        {
          "output_type": "stream",
          "name": "stdout",
          "text": [
            "==> Recall@10: 0.6\n",
            "\n",
            "==> Recall@20: 0.8298125404007756\n",
            "\n"
          ]
        }
      ]
    },
    {
      "cell_type": "markdown",
      "source": [
        " <font color='blue'>F1-score"
      ],
      "metadata": {
        "id": "937wJFFmgzGb"
      }
    },
    {
      "cell_type": "code",
      "source": [
        "k = 3\n",
        "print(\"==> F1-score@{}: {}\\n\".format(k, f1_score(current_query_res[\"label\"], current_query_res[\"predicted_scores\"], k)))\n",
        "\n",
        "k = 10\n",
        "print(\"==> F1-score@{}: {}\\n\".format(k, f1_score(current_query_res[\"label\"], current_query_res[\"predicted_scores\"], k)))\n",
        "\n",
        "k = 20\n",
        "print(\"==> F1-score@{}: {}\\n\".format(k, f1_score(current_query_res[\"label\"], current_query_res[\"predicted_scores\"], k)))"
      ],
      "metadata": {
        "colab": {
          "base_uri": "https://localhost:8080/"
        },
        "outputId": "a85a0e1f-75b2-402b-b20b-b5949b48e537",
        "id": "IhNRILYVgzGb"
      },
      "execution_count": null,
      "outputs": [
        {
          "output_type": "stream",
          "name": "stdout",
          "text": [
            "==> F1-score@3: 0.4615384615384615\n",
            "\n",
            "==> F1-score@10: 0.6\n",
            "\n",
            "==> F1-score@20: 0.6666666666666666\n",
            "\n"
          ]
        }
      ]
    },
    {
      "cell_type": "markdown",
      "source": [
        "<font color='blue'>MAP"
      ],
      "metadata": {
        "id": "606bdKN3gzGc"
      }
    },
    {
      "cell_type": "code",
      "source": [
        "current_query_res.sort_values(\"predicted_scores\", ascending=False).head(10)"
      ],
      "metadata": {
        "colab": {
          "base_uri": "https://localhost:8080/",
          "height": 363
        },
        "outputId": "cb322118-acdd-43f9-ee49-57b1c585f68f",
        "id": "eG7CsR9ogzGd"
      },
      "execution_count": null,
      "outputs": [
        {
          "output_type": "execute_result",
          "data": {
            "text/plain": [
              "         doc  query_id  label  doc_id  predicted_scores\n",
              "22    doc_66         3      1      66          3.630488\n",
              "24   doc_148         3      1     148          2.922427\n",
              "29    doc_65         3      1      65          2.692461\n",
              "21    doc_65         3      1      65          2.692461\n",
              "20    doc_30         3      1      30          2.096411\n",
              "28    doc_30         3      1      30          2.096411\n",
              "53   doc_494         3      0     494          0.000000\n",
              "58  doc_1195         3      0    1195          0.000000\n",
              "57  doc_1096         3      0    1096          0.000000\n",
              "56  doc_1076         3      0    1076          0.000000"
            ],
            "text/html": [
              "\n",
              "  <div id=\"df-1de9343d-d1db-4cb1-91c2-62fb702ce914\">\n",
              "    <div class=\"colab-df-container\">\n",
              "      <div>\n",
              "<style scoped>\n",
              "    .dataframe tbody tr th:only-of-type {\n",
              "        vertical-align: middle;\n",
              "    }\n",
              "\n",
              "    .dataframe tbody tr th {\n",
              "        vertical-align: top;\n",
              "    }\n",
              "\n",
              "    .dataframe thead th {\n",
              "        text-align: right;\n",
              "    }\n",
              "</style>\n",
              "<table border=\"1\" class=\"dataframe\">\n",
              "  <thead>\n",
              "    <tr style=\"text-align: right;\">\n",
              "      <th></th>\n",
              "      <th>doc</th>\n",
              "      <th>query_id</th>\n",
              "      <th>label</th>\n",
              "      <th>doc_id</th>\n",
              "      <th>predicted_scores</th>\n",
              "    </tr>\n",
              "  </thead>\n",
              "  <tbody>\n",
              "    <tr>\n",
              "      <th>22</th>\n",
              "      <td>doc_66</td>\n",
              "      <td>3</td>\n",
              "      <td>1</td>\n",
              "      <td>66</td>\n",
              "      <td>3.630488</td>\n",
              "    </tr>\n",
              "    <tr>\n",
              "      <th>24</th>\n",
              "      <td>doc_148</td>\n",
              "      <td>3</td>\n",
              "      <td>1</td>\n",
              "      <td>148</td>\n",
              "      <td>2.922427</td>\n",
              "    </tr>\n",
              "    <tr>\n",
              "      <th>29</th>\n",
              "      <td>doc_65</td>\n",
              "      <td>3</td>\n",
              "      <td>1</td>\n",
              "      <td>65</td>\n",
              "      <td>2.692461</td>\n",
              "    </tr>\n",
              "    <tr>\n",
              "      <th>21</th>\n",
              "      <td>doc_65</td>\n",
              "      <td>3</td>\n",
              "      <td>1</td>\n",
              "      <td>65</td>\n",
              "      <td>2.692461</td>\n",
              "    </tr>\n",
              "    <tr>\n",
              "      <th>20</th>\n",
              "      <td>doc_30</td>\n",
              "      <td>3</td>\n",
              "      <td>1</td>\n",
              "      <td>30</td>\n",
              "      <td>2.096411</td>\n",
              "    </tr>\n",
              "    <tr>\n",
              "      <th>28</th>\n",
              "      <td>doc_30</td>\n",
              "      <td>3</td>\n",
              "      <td>1</td>\n",
              "      <td>30</td>\n",
              "      <td>2.096411</td>\n",
              "    </tr>\n",
              "    <tr>\n",
              "      <th>53</th>\n",
              "      <td>doc_494</td>\n",
              "      <td>3</td>\n",
              "      <td>0</td>\n",
              "      <td>494</td>\n",
              "      <td>0.000000</td>\n",
              "    </tr>\n",
              "    <tr>\n",
              "      <th>58</th>\n",
              "      <td>doc_1195</td>\n",
              "      <td>3</td>\n",
              "      <td>0</td>\n",
              "      <td>1195</td>\n",
              "      <td>0.000000</td>\n",
              "    </tr>\n",
              "    <tr>\n",
              "      <th>57</th>\n",
              "      <td>doc_1096</td>\n",
              "      <td>3</td>\n",
              "      <td>0</td>\n",
              "      <td>1096</td>\n",
              "      <td>0.000000</td>\n",
              "    </tr>\n",
              "    <tr>\n",
              "      <th>56</th>\n",
              "      <td>doc_1076</td>\n",
              "      <td>3</td>\n",
              "      <td>0</td>\n",
              "      <td>1076</td>\n",
              "      <td>0.000000</td>\n",
              "    </tr>\n",
              "  </tbody>\n",
              "</table>\n",
              "</div>\n",
              "      <button class=\"colab-df-convert\" onclick=\"convertToInteractive('df-1de9343d-d1db-4cb1-91c2-62fb702ce914')\"\n",
              "              title=\"Convert this dataframe to an interactive table.\"\n",
              "              style=\"display:none;\">\n",
              "        \n",
              "  <svg xmlns=\"http://www.w3.org/2000/svg\" height=\"24px\"viewBox=\"0 0 24 24\"\n",
              "       width=\"24px\">\n",
              "    <path d=\"M0 0h24v24H0V0z\" fill=\"none\"/>\n",
              "    <path d=\"M18.56 5.44l.94 2.06.94-2.06 2.06-.94-2.06-.94-.94-2.06-.94 2.06-2.06.94zm-11 1L8.5 8.5l.94-2.06 2.06-.94-2.06-.94L8.5 2.5l-.94 2.06-2.06.94zm10 10l.94 2.06.94-2.06 2.06-.94-2.06-.94-.94-2.06-.94 2.06-2.06.94z\"/><path d=\"M17.41 7.96l-1.37-1.37c-.4-.4-.92-.59-1.43-.59-.52 0-1.04.2-1.43.59L10.3 9.45l-7.72 7.72c-.78.78-.78 2.05 0 2.83L4 21.41c.39.39.9.59 1.41.59.51 0 1.02-.2 1.41-.59l7.78-7.78 2.81-2.81c.8-.78.8-2.07 0-2.86zM5.41 20L4 18.59l7.72-7.72 1.47 1.35L5.41 20z\"/>\n",
              "  </svg>\n",
              "      </button>\n",
              "      \n",
              "  <style>\n",
              "    .colab-df-container {\n",
              "      display:flex;\n",
              "      flex-wrap:wrap;\n",
              "      gap: 12px;\n",
              "    }\n",
              "\n",
              "    .colab-df-convert {\n",
              "      background-color: #E8F0FE;\n",
              "      border: none;\n",
              "      border-radius: 50%;\n",
              "      cursor: pointer;\n",
              "      display: none;\n",
              "      fill: #1967D2;\n",
              "      height: 32px;\n",
              "      padding: 0 0 0 0;\n",
              "      width: 32px;\n",
              "    }\n",
              "\n",
              "    .colab-df-convert:hover {\n",
              "      background-color: #E2EBFA;\n",
              "      box-shadow: 0px 1px 2px rgba(60, 64, 67, 0.3), 0px 1px 3px 1px rgba(60, 64, 67, 0.15);\n",
              "      fill: #174EA6;\n",
              "    }\n",
              "\n",
              "    [theme=dark] .colab-df-convert {\n",
              "      background-color: #3B4455;\n",
              "      fill: #D2E3FC;\n",
              "    }\n",
              "\n",
              "    [theme=dark] .colab-df-convert:hover {\n",
              "      background-color: #434B5C;\n",
              "      box-shadow: 0px 1px 3px 1px rgba(0, 0, 0, 0.15);\n",
              "      filter: drop-shadow(0px 1px 2px rgba(0, 0, 0, 0.3));\n",
              "      fill: #FFFFFF;\n",
              "    }\n",
              "  </style>\n",
              "\n",
              "      <script>\n",
              "        const buttonEl =\n",
              "          document.querySelector('#df-1de9343d-d1db-4cb1-91c2-62fb702ce914 button.colab-df-convert');\n",
              "        buttonEl.style.display =\n",
              "          google.colab.kernel.accessAllowed ? 'block' : 'none';\n",
              "\n",
              "        async function convertToInteractive(key) {\n",
              "          const element = document.querySelector('#df-1de9343d-d1db-4cb1-91c2-62fb702ce914');\n",
              "          const dataTable =\n",
              "            await google.colab.kernel.invokeFunction('convertToInteractive',\n",
              "                                                     [key], {});\n",
              "          if (!dataTable) return;\n",
              "\n",
              "          const docLinkHtml = 'Like what you see? Visit the ' +\n",
              "            '<a target=\"_blank\" href=https://colab.research.google.com/notebooks/data_table.ipynb>data table notebook</a>'\n",
              "            + ' to learn more about interactive tables.';\n",
              "          element.innerHTML = '';\n",
              "          dataTable['output_type'] = 'display_data';\n",
              "          await google.colab.output.renderOutput(dataTable, element);\n",
              "          const docLink = document.createElement('div');\n",
              "          docLink.innerHTML = docLinkHtml;\n",
              "          element.appendChild(docLink);\n",
              "        }\n",
              "      </script>\n",
              "    </div>\n",
              "  </div>\n",
              "  "
            ]
          },
          "metadata": {},
          "execution_count": 296
        }
      ]
    },
    {
      "cell_type": "code",
      "source": [
        "k = 3\n",
        "map_k, avp = map_at_k(search_results, k)\n",
        "print(\"==> MAP@{}: {}\\n\".format(k, map_k))\n",
        "\n",
        "k = 10\n",
        "map_k, avp = map_at_k(search_results, k)\n",
        "print(\"==> MAP@{}: {}\\n\".format(k, map_k))\n",
        "\n",
        "k = 20\n",
        "map_k, avp = map_at_k(search_results, k)\n",
        "print(\"==> MAP@{}: {}\\n\".format(k, map_k))"
      ],
      "metadata": {
        "colab": {
          "base_uri": "https://localhost:8080/"
        },
        "outputId": "cef00379-9b19-444f-da21-d0f067ef6276",
        "id": "QvMCjc33gzGe"
      },
      "execution_count": null,
      "outputs": [
        {
          "output_type": "stream",
          "name": "stdout",
          "text": [
            "==> MAP@3: 0.2111111111111111\n",
            "\n",
            "==> MAP@10: 0.6432142857142856\n",
            "\n",
            "==> MAP@20: 0.7804245264539381\n",
            "\n"
          ]
        }
      ]
    },
    {
      "cell_type": "markdown",
      "source": [
        "<font color='blue'>MRR"
      ],
      "metadata": {
        "id": "5YEBWPiMgzGf"
      }
    },
    {
      "cell_type": "code",
      "source": [
        "mrr = {}\n",
        "for k in [3, 10, 20]:\n",
        "    RRs = []\n",
        "    for q in search_results['query_id'].unique():  # loop over all query ids\n",
        "        labels =  np.array(current_query_res[\"label\"]) # get labels for current query\n",
        "        scores =  np.array(current_query_res[\"predicted_scores\"])# get predicted score for current query\n",
        "        RRs.append(rr_at_k(labels, scores, k))  # append RR for current query\n",
        "    mrr[k] = np.round(float(sum(RRs)/len(RRs)), 4)  # Mean RR at current k\n",
        "    print(\"==> MRR@{}: {}\\n\".format(k, mrr[k]))"
      ],
      "metadata": {
        "colab": {
          "base_uri": "https://localhost:8080/"
        },
        "outputId": "0bd9da52-a17f-4bf7-cc77-998bd904a2c7",
        "id": "Mv0UyhSrgzGf"
      },
      "execution_count": null,
      "outputs": [
        {
          "output_type": "stream",
          "name": "stdout",
          "text": [
            "==> MRR@3: 1.0\n",
            "\n",
            "==> MRR@10: 1.0\n",
            "\n",
            "==> MRR@20: 1.0\n",
            "\n"
          ]
        }
      ]
    },
    {
      "cell_type": "markdown",
      "source": [
        "<font color='blue'>NDCG"
      ],
      "metadata": {
        "id": "-Fzf2-kpgzGh"
      }
    },
    {
      "cell_type": "code",
      "source": [
        "ndcgs = []\n",
        "k = 10\n",
        "for q in search_results['query_id'].unique() : # loop over all query ids\n",
        "    labels =  np.array(current_query_res[\"label\"]) ## get labels for current query\n",
        "    scores = np.array(current_query_res[\"predicted_scores\"]) # get predicted score for current query\n",
        "    ndcgs.append(ndcg_at_k(labels, scores, k)) # append NDCG for current query\n",
        "\n",
        "avg_ndcg = np.round(float(sum(ndcgs)/len(ndcgs)), 4) # Compute average NDCG\n",
        "print(\"Average NCDG@{}: {}\".format(k, avg_ndcg))"
      ],
      "metadata": {
        "colab": {
          "base_uri": "https://localhost:8080/"
        },
        "outputId": "d8831526-55c1-4257-987f-f3ca392c583a",
        "id": "9XEdTIEZgzGh"
      },
      "execution_count": null,
      "outputs": [
        {
          "output_type": "stream",
          "name": "stdout",
          "text": [
            "Average NCDG@10: 0.1423\n"
          ]
        }
      ]
    },
    {
      "cell_type": "markdown",
      "source": [
        "####You will be the expert judges, so you will be setting the ground truth for each document and query in a binary way for the test queries that you defined in step 2 at the indexing stage"
      ],
      "metadata": {
        "id": "prwQ912Omqpj"
      }
    },
    {
      "cell_type": "code",
      "source": [
        "search_results_1 = pd.read_csv(\"drive/My Drive/inputs/evaluation_gt_ours.csv\")\n",
        "search_results_1.head()"
      ],
      "metadata": {
        "colab": {
          "base_uri": "https://localhost:8080/",
          "height": 206
        },
        "outputId": "a356dd23-d176-4e64-ed80-ff8dda1ae2fa",
        "id": "7fSvZAGVVy8J"
      },
      "execution_count": null,
      "outputs": [
        {
          "output_type": "execute_result",
          "data": {
            "text/plain": [
              "   doc_id  query_id  label\n",
              "0    2144         1      1\n",
              "1      59         1      1\n",
              "2    2567         1      1\n",
              "3    3448         1      1\n",
              "4    3530         1      1"
            ],
            "text/html": [
              "\n",
              "  <div id=\"df-954eb768-162e-432e-9a13-148dbf1af465\">\n",
              "    <div class=\"colab-df-container\">\n",
              "      <div>\n",
              "<style scoped>\n",
              "    .dataframe tbody tr th:only-of-type {\n",
              "        vertical-align: middle;\n",
              "    }\n",
              "\n",
              "    .dataframe tbody tr th {\n",
              "        vertical-align: top;\n",
              "    }\n",
              "\n",
              "    .dataframe thead th {\n",
              "        text-align: right;\n",
              "    }\n",
              "</style>\n",
              "<table border=\"1\" class=\"dataframe\">\n",
              "  <thead>\n",
              "    <tr style=\"text-align: right;\">\n",
              "      <th></th>\n",
              "      <th>doc_id</th>\n",
              "      <th>query_id</th>\n",
              "      <th>label</th>\n",
              "    </tr>\n",
              "  </thead>\n",
              "  <tbody>\n",
              "    <tr>\n",
              "      <th>0</th>\n",
              "      <td>2144</td>\n",
              "      <td>1</td>\n",
              "      <td>1</td>\n",
              "    </tr>\n",
              "    <tr>\n",
              "      <th>1</th>\n",
              "      <td>59</td>\n",
              "      <td>1</td>\n",
              "      <td>1</td>\n",
              "    </tr>\n",
              "    <tr>\n",
              "      <th>2</th>\n",
              "      <td>2567</td>\n",
              "      <td>1</td>\n",
              "      <td>1</td>\n",
              "    </tr>\n",
              "    <tr>\n",
              "      <th>3</th>\n",
              "      <td>3448</td>\n",
              "      <td>1</td>\n",
              "      <td>1</td>\n",
              "    </tr>\n",
              "    <tr>\n",
              "      <th>4</th>\n",
              "      <td>3530</td>\n",
              "      <td>1</td>\n",
              "      <td>1</td>\n",
              "    </tr>\n",
              "  </tbody>\n",
              "</table>\n",
              "</div>\n",
              "      <button class=\"colab-df-convert\" onclick=\"convertToInteractive('df-954eb768-162e-432e-9a13-148dbf1af465')\"\n",
              "              title=\"Convert this dataframe to an interactive table.\"\n",
              "              style=\"display:none;\">\n",
              "        \n",
              "  <svg xmlns=\"http://www.w3.org/2000/svg\" height=\"24px\"viewBox=\"0 0 24 24\"\n",
              "       width=\"24px\">\n",
              "    <path d=\"M0 0h24v24H0V0z\" fill=\"none\"/>\n",
              "    <path d=\"M18.56 5.44l.94 2.06.94-2.06 2.06-.94-2.06-.94-.94-2.06-.94 2.06-2.06.94zm-11 1L8.5 8.5l.94-2.06 2.06-.94-2.06-.94L8.5 2.5l-.94 2.06-2.06.94zm10 10l.94 2.06.94-2.06 2.06-.94-2.06-.94-.94-2.06-.94 2.06-2.06.94z\"/><path d=\"M17.41 7.96l-1.37-1.37c-.4-.4-.92-.59-1.43-.59-.52 0-1.04.2-1.43.59L10.3 9.45l-7.72 7.72c-.78.78-.78 2.05 0 2.83L4 21.41c.39.39.9.59 1.41.59.51 0 1.02-.2 1.41-.59l7.78-7.78 2.81-2.81c.8-.78.8-2.07 0-2.86zM5.41 20L4 18.59l7.72-7.72 1.47 1.35L5.41 20z\"/>\n",
              "  </svg>\n",
              "      </button>\n",
              "      \n",
              "  <style>\n",
              "    .colab-df-container {\n",
              "      display:flex;\n",
              "      flex-wrap:wrap;\n",
              "      gap: 12px;\n",
              "    }\n",
              "\n",
              "    .colab-df-convert {\n",
              "      background-color: #E8F0FE;\n",
              "      border: none;\n",
              "      border-radius: 50%;\n",
              "      cursor: pointer;\n",
              "      display: none;\n",
              "      fill: #1967D2;\n",
              "      height: 32px;\n",
              "      padding: 0 0 0 0;\n",
              "      width: 32px;\n",
              "    }\n",
              "\n",
              "    .colab-df-convert:hover {\n",
              "      background-color: #E2EBFA;\n",
              "      box-shadow: 0px 1px 2px rgba(60, 64, 67, 0.3), 0px 1px 3px 1px rgba(60, 64, 67, 0.15);\n",
              "      fill: #174EA6;\n",
              "    }\n",
              "\n",
              "    [theme=dark] .colab-df-convert {\n",
              "      background-color: #3B4455;\n",
              "      fill: #D2E3FC;\n",
              "    }\n",
              "\n",
              "    [theme=dark] .colab-df-convert:hover {\n",
              "      background-color: #434B5C;\n",
              "      box-shadow: 0px 1px 3px 1px rgba(0, 0, 0, 0.15);\n",
              "      filter: drop-shadow(0px 1px 2px rgba(0, 0, 0, 0.3));\n",
              "      fill: #FFFFFF;\n",
              "    }\n",
              "  </style>\n",
              "\n",
              "      <script>\n",
              "        const buttonEl =\n",
              "          document.querySelector('#df-954eb768-162e-432e-9a13-148dbf1af465 button.colab-df-convert');\n",
              "        buttonEl.style.display =\n",
              "          google.colab.kernel.accessAllowed ? 'block' : 'none';\n",
              "\n",
              "        async function convertToInteractive(key) {\n",
              "          const element = document.querySelector('#df-954eb768-162e-432e-9a13-148dbf1af465');\n",
              "          const dataTable =\n",
              "            await google.colab.kernel.invokeFunction('convertToInteractive',\n",
              "                                                     [key], {});\n",
              "          if (!dataTable) return;\n",
              "\n",
              "          const docLinkHtml = 'Like what you see? Visit the ' +\n",
              "            '<a target=\"_blank\" href=https://colab.research.google.com/notebooks/data_table.ipynb>data table notebook</a>'\n",
              "            + ' to learn more about interactive tables.';\n",
              "          element.innerHTML = '';\n",
              "          dataTable['output_type'] = 'display_data';\n",
              "          await google.colab.output.renderOutput(dataTable, element);\n",
              "          const docLink = document.createElement('div');\n",
              "          docLink.innerHTML = docLinkHtml;\n",
              "          element.appendChild(docLink);\n",
              "        }\n",
              "      </script>\n",
              "    </div>\n",
              "  </div>\n",
              "  "
            ]
          },
          "metadata": {},
          "execution_count": 361
        }
      ]
    },
    {
      "cell_type": "code",
      "source": [
        "#binary relevance\n",
        "print_result = search_results_1[\"label\"].unique()\n",
        "print(\"The ground truth of our dataset is composed of {} Relevance Levels: {}\".format(len(print_result), sorted(print_result)))"
      ],
      "metadata": {
        "colab": {
          "base_uri": "https://localhost:8080/"
        },
        "outputId": "19c3079d-3f95-48a7-f82b-27cb39857d0a",
        "id": "cXuCfcIMVy8L"
      },
      "execution_count": null,
      "outputs": [
        {
          "output_type": "stream",
          "name": "stdout",
          "text": [
            "The ground truth of our dataset is composed of 2 Relevance Levels: [0, 1]\n"
          ]
        }
      ]
    },
    {
      "cell_type": "code",
      "source": [
        "# We create a column predicted scores and initialize it to 0, where we will store the ranking scores of our system for the corresponding docs.\n",
        "search_results_1[\"predicted_scores\"] = 0\n",
        "search_results_1[\"predicted_scores\"] = search_results_1[\"predicted_scores\"].astype(float) #we convert it to float\n"
      ],
      "metadata": {
        "id": "zLgz_HD1Vy8M"
      },
      "execution_count": null,
      "outputs": []
    },
    {
      "cell_type": "code",
      "source": [
        "search_results_1.head()"
      ],
      "metadata": {
        "colab": {
          "base_uri": "https://localhost:8080/",
          "height": 206
        },
        "outputId": "06b7aca9-f7c3-436a-ecb2-2fea2ec65a2b",
        "id": "DwVWIf72Vy8N"
      },
      "execution_count": null,
      "outputs": [
        {
          "output_type": "execute_result",
          "data": {
            "text/plain": [
              "   doc_id  query_id  label  predicted_scores\n",
              "0    2144         1      1               0.0\n",
              "1      59         1      1               0.0\n",
              "2    2567         1      1               0.0\n",
              "3    3448         1      1               0.0\n",
              "4    3530         1      1               0.0"
            ],
            "text/html": [
              "\n",
              "  <div id=\"df-1e5f031c-4b8e-40a7-a041-1b6363215013\">\n",
              "    <div class=\"colab-df-container\">\n",
              "      <div>\n",
              "<style scoped>\n",
              "    .dataframe tbody tr th:only-of-type {\n",
              "        vertical-align: middle;\n",
              "    }\n",
              "\n",
              "    .dataframe tbody tr th {\n",
              "        vertical-align: top;\n",
              "    }\n",
              "\n",
              "    .dataframe thead th {\n",
              "        text-align: right;\n",
              "    }\n",
              "</style>\n",
              "<table border=\"1\" class=\"dataframe\">\n",
              "  <thead>\n",
              "    <tr style=\"text-align: right;\">\n",
              "      <th></th>\n",
              "      <th>doc_id</th>\n",
              "      <th>query_id</th>\n",
              "      <th>label</th>\n",
              "      <th>predicted_scores</th>\n",
              "    </tr>\n",
              "  </thead>\n",
              "  <tbody>\n",
              "    <tr>\n",
              "      <th>0</th>\n",
              "      <td>2144</td>\n",
              "      <td>1</td>\n",
              "      <td>1</td>\n",
              "      <td>0.0</td>\n",
              "    </tr>\n",
              "    <tr>\n",
              "      <th>1</th>\n",
              "      <td>59</td>\n",
              "      <td>1</td>\n",
              "      <td>1</td>\n",
              "      <td>0.0</td>\n",
              "    </tr>\n",
              "    <tr>\n",
              "      <th>2</th>\n",
              "      <td>2567</td>\n",
              "      <td>1</td>\n",
              "      <td>1</td>\n",
              "      <td>0.0</td>\n",
              "    </tr>\n",
              "    <tr>\n",
              "      <th>3</th>\n",
              "      <td>3448</td>\n",
              "      <td>1</td>\n",
              "      <td>1</td>\n",
              "      <td>0.0</td>\n",
              "    </tr>\n",
              "    <tr>\n",
              "      <th>4</th>\n",
              "      <td>3530</td>\n",
              "      <td>1</td>\n",
              "      <td>1</td>\n",
              "      <td>0.0</td>\n",
              "    </tr>\n",
              "  </tbody>\n",
              "</table>\n",
              "</div>\n",
              "      <button class=\"colab-df-convert\" onclick=\"convertToInteractive('df-1e5f031c-4b8e-40a7-a041-1b6363215013')\"\n",
              "              title=\"Convert this dataframe to an interactive table.\"\n",
              "              style=\"display:none;\">\n",
              "        \n",
              "  <svg xmlns=\"http://www.w3.org/2000/svg\" height=\"24px\"viewBox=\"0 0 24 24\"\n",
              "       width=\"24px\">\n",
              "    <path d=\"M0 0h24v24H0V0z\" fill=\"none\"/>\n",
              "    <path d=\"M18.56 5.44l.94 2.06.94-2.06 2.06-.94-2.06-.94-.94-2.06-.94 2.06-2.06.94zm-11 1L8.5 8.5l.94-2.06 2.06-.94-2.06-.94L8.5 2.5l-.94 2.06-2.06.94zm10 10l.94 2.06.94-2.06 2.06-.94-2.06-.94-.94-2.06-.94 2.06-2.06.94z\"/><path d=\"M17.41 7.96l-1.37-1.37c-.4-.4-.92-.59-1.43-.59-.52 0-1.04.2-1.43.59L10.3 9.45l-7.72 7.72c-.78.78-.78 2.05 0 2.83L4 21.41c.39.39.9.59 1.41.59.51 0 1.02-.2 1.41-.59l7.78-7.78 2.81-2.81c.8-.78.8-2.07 0-2.86zM5.41 20L4 18.59l7.72-7.72 1.47 1.35L5.41 20z\"/>\n",
              "  </svg>\n",
              "      </button>\n",
              "      \n",
              "  <style>\n",
              "    .colab-df-container {\n",
              "      display:flex;\n",
              "      flex-wrap:wrap;\n",
              "      gap: 12px;\n",
              "    }\n",
              "\n",
              "    .colab-df-convert {\n",
              "      background-color: #E8F0FE;\n",
              "      border: none;\n",
              "      border-radius: 50%;\n",
              "      cursor: pointer;\n",
              "      display: none;\n",
              "      fill: #1967D2;\n",
              "      height: 32px;\n",
              "      padding: 0 0 0 0;\n",
              "      width: 32px;\n",
              "    }\n",
              "\n",
              "    .colab-df-convert:hover {\n",
              "      background-color: #E2EBFA;\n",
              "      box-shadow: 0px 1px 2px rgba(60, 64, 67, 0.3), 0px 1px 3px 1px rgba(60, 64, 67, 0.15);\n",
              "      fill: #174EA6;\n",
              "    }\n",
              "\n",
              "    [theme=dark] .colab-df-convert {\n",
              "      background-color: #3B4455;\n",
              "      fill: #D2E3FC;\n",
              "    }\n",
              "\n",
              "    [theme=dark] .colab-df-convert:hover {\n",
              "      background-color: #434B5C;\n",
              "      box-shadow: 0px 1px 3px 1px rgba(0, 0, 0, 0.15);\n",
              "      filter: drop-shadow(0px 1px 2px rgba(0, 0, 0, 0.3));\n",
              "      fill: #FFFFFF;\n",
              "    }\n",
              "  </style>\n",
              "\n",
              "      <script>\n",
              "        const buttonEl =\n",
              "          document.querySelector('#df-1e5f031c-4b8e-40a7-a041-1b6363215013 button.colab-df-convert');\n",
              "        buttonEl.style.display =\n",
              "          google.colab.kernel.accessAllowed ? 'block' : 'none';\n",
              "\n",
              "        async function convertToInteractive(key) {\n",
              "          const element = document.querySelector('#df-1e5f031c-4b8e-40a7-a041-1b6363215013');\n",
              "          const dataTable =\n",
              "            await google.colab.kernel.invokeFunction('convertToInteractive',\n",
              "                                                     [key], {});\n",
              "          if (!dataTable) return;\n",
              "\n",
              "          const docLinkHtml = 'Like what you see? Visit the ' +\n",
              "            '<a target=\"_blank\" href=https://colab.research.google.com/notebooks/data_table.ipynb>data table notebook</a>'\n",
              "            + ' to learn more about interactive tables.';\n",
              "          element.innerHTML = '';\n",
              "          dataTable['output_type'] = 'display_data';\n",
              "          await google.colab.output.renderOutput(dataTable, element);\n",
              "          const docLink = document.createElement('div');\n",
              "          docLink.innerHTML = docLinkHtml;\n",
              "          element.appendChild(docLink);\n",
              "        }\n",
              "      </script>\n",
              "    </div>\n",
              "  </div>\n",
              "  "
            ]
          },
          "metadata": {},
          "execution_count": 364
        }
      ]
    },
    {
      "cell_type": "markdown",
      "source": [
        "##### Query 1\n",
        "\n",
        "First Responders"
      ],
      "metadata": {
        "id": "nyw3s8g1m5Iz"
      }
    },
    {
      "cell_type": "code",
      "source": [
        "# in the following lines we reduce the ground truth dataframe to those rows related to query 1, and save the corresponding predicted score of our ranking system\n",
        "# the reduced data frame is q1_sr\n",
        "\n",
        "q = 'First Responders'\n",
        "qn=1\n",
        "q_sr = search_results_1[search_results_1[\"query_id\"] == qn]\n",
        "\n",
        "ranked_docs_q,ranked_scores_q = search_tf_idf(q, index)\n",
        "for i, d_id in enumerate(ranked_docs_q):\n",
        "  if (d_id == q_sr['doc_id']).any(): # if our ranking doc coincides with a doc in the ground truth add the score\n",
        "    search_results_1.loc[search_results_1['doc_id'] == d_id, 'predicted_scores'] = ranked_scores_q[i]\n",
        "\n",
        "q_sr = search_results_1[search_results_1[\"query_id\"] == qn] #now we have the predicted_scores in the reduced dataframe"
      ],
      "metadata": {
        "id": "9I1InmGhVy8O"
      },
      "execution_count": null,
      "outputs": []
    },
    {
      "cell_type": "markdown",
      "source": [
        " <font color='blue'>Precision P@K</font>"
      ],
      "metadata": {
        "id": "3FxuRXSBhcGE"
      }
    },
    {
      "cell_type": "code",
      "source": [
        "current_query_res = q_sr\n",
        "k = 3\n",
        "print(\"==> Precision@{}: {}\\n\".format(k, precision_at_k(current_query_res[\"label\"], current_query_res[\"predicted_scores\"], k)))\n",
        "\n",
        "k = 10\n",
        "print(\"==> Precision@{}: {}\\n\".format(k, precision_at_k(current_query_res[\"label\"], current_query_res[\"predicted_scores\"], k)))\n",
        "\n",
        "k = 20\n",
        "print(\"==> Precision@{}: {}\\n\".format(k, precision_at_k(current_query_res[\"label\"], current_query_res[\"predicted_scores\"], k)))"
      ],
      "metadata": {
        "colab": {
          "base_uri": "https://localhost:8080/"
        },
        "outputId": "6191a9fa-3969-47b8-b5fd-c9f35c6f6e64",
        "id": "KGrXzPtbhcGJ"
      },
      "execution_count": null,
      "outputs": [
        {
          "output_type": "stream",
          "name": "stdout",
          "text": [
            "==> Precision@3: 1.0\n",
            "\n",
            "==> Precision@10: 1.0\n",
            "\n",
            "==> Precision@20: 0.5\n",
            "\n"
          ]
        }
      ]
    },
    {
      "cell_type": "markdown",
      "source": [
        " <font color='blue'>Recall R@K"
      ],
      "metadata": {
        "id": "PZn2rCighcGQ"
      }
    },
    {
      "cell_type": "code",
      "source": [
        "k = 3\n",
        "print(\"==> Recall@{}: {}\\n\".format(k, recall_at_k(current_query_res[\"label\"], current_query_res[\"predicted_scores\"], k)))\n",
        "\n",
        "k = 10\n",
        "print(\"==> Recall@{}: {}\\n\".format(k, recall_at_k(current_query_res[\"label\"], current_query_res[\"predicted_scores\"], k)))\n",
        "\n",
        "k = 20\n",
        "print(\"==> Recall@{}: {}\\n\".format(k, recall_at_k(current_query_res[\"label\"], current_query_res[\"predicted_scores\"], k)))"
      ],
      "metadata": {
        "colab": {
          "base_uri": "https://localhost:8080/"
        },
        "outputId": "d2d7112c-5415-41c9-ab48-cbf8ea122e06",
        "id": "k5oWswtPhcGS"
      },
      "execution_count": null,
      "outputs": [
        {
          "output_type": "stream",
          "name": "stdout",
          "text": [
            "==> Recall@3: 0.3\n",
            "\n",
            "==> Recall@10: 1.0\n",
            "\n",
            "==> Recall@20: 1.0\n",
            "\n"
          ]
        }
      ]
    },
    {
      "cell_type": "markdown",
      "source": [
        " <font color='blue'>Avg Precision P@K"
      ],
      "metadata": {
        "id": "mnugTusXhcGV"
      }
    },
    {
      "cell_type": "code",
      "source": [
        "k = 10\n",
        "print(\"==> P@{}: {}\\n\".format(k, avg_precision_at_k(np.array(current_query_res[\"label\"]), np.array(current_query_res[\"predicted_scores\"]), k)))\n",
        "\n",
        "k=20\n",
        "print(\"==> P@{}: {}\\n\".format(k, avg_precision_at_k(np.array(current_query_res[\"label\"]), np.array(current_query_res[\"predicted_scores\"]), k)))"
      ],
      "metadata": {
        "colab": {
          "base_uri": "https://localhost:8080/"
        },
        "outputId": "36712b71-181b-4cba-b9a7-766d9b3c9480",
        "id": "6SZ_AsIMhcGX"
      },
      "execution_count": null,
      "outputs": [
        {
          "output_type": "stream",
          "name": "stdout",
          "text": [
            "==> P@10: 1.0\n",
            "\n",
            "==> P@20: 1.0\n",
            "\n"
          ]
        }
      ]
    },
    {
      "cell_type": "markdown",
      "source": [
        " <font color='blue'>F1-score"
      ],
      "metadata": {
        "id": "zzCdY7uchcGb"
      }
    },
    {
      "cell_type": "code",
      "source": [
        "k = 3\n",
        "print(\"==> F1-score@{}: {}\\n\".format(k, f1_score(current_query_res[\"label\"], current_query_res[\"predicted_scores\"], k)))\n",
        "\n",
        "k = 10\n",
        "print(\"==> F1-score@{}: {}\\n\".format(k, f1_score(current_query_res[\"label\"], current_query_res[\"predicted_scores\"], k)))\n",
        "\n",
        "k = 20\n",
        "print(\"==> F1-score@{}: {}\\n\".format(k, f1_score(current_query_res[\"label\"], current_query_res[\"predicted_scores\"], k)))"
      ],
      "metadata": {
        "colab": {
          "base_uri": "https://localhost:8080/"
        },
        "outputId": "185d3496-084a-46d4-f5c1-2e60dda2b83d",
        "id": "fcM9z08IhcGd"
      },
      "execution_count": null,
      "outputs": [
        {
          "output_type": "stream",
          "name": "stdout",
          "text": [
            "==> F1-score@3: 0.4615384615384615\n",
            "\n",
            "==> F1-score@10: 1.0\n",
            "\n",
            "==> F1-score@20: 0.6666666666666666\n",
            "\n"
          ]
        }
      ]
    },
    {
      "cell_type": "markdown",
      "source": [
        "<font color='blue'>MAP"
      ],
      "metadata": {
        "id": "es9kQVcIhcGf"
      }
    },
    {
      "cell_type": "code",
      "source": [
        "current_query_res.sort_values(\"predicted_scores\", ascending=False).head(10)"
      ],
      "metadata": {
        "colab": {
          "base_uri": "https://localhost:8080/",
          "height": 363
        },
        "outputId": "edc531de-3eed-4620-84b0-a8b1ef7bed72",
        "id": "qJMshNfuhcGh"
      },
      "execution_count": null,
      "outputs": [
        {
          "output_type": "execute_result",
          "data": {
            "text/plain": [
              "   doc_id  query_id  label  predicted_scores\n",
              "8    2598         1      1          8.041350\n",
              "7     713         1      1          7.090429\n",
              "0    2144         1      1          6.570476\n",
              "1      59         1      1          6.179714\n",
              "2    2567         1      1          6.141634\n",
              "3    3448         1      1          5.901245\n",
              "4    3530         1      1          5.318353\n",
              "9    1488         1      1          5.158803\n",
              "5    3922         1      1          4.880121\n",
              "6    1967         1      1          4.341904"
            ],
            "text/html": [
              "\n",
              "  <div id=\"df-8f0416d1-181e-449f-860a-293a55a8b732\">\n",
              "    <div class=\"colab-df-container\">\n",
              "      <div>\n",
              "<style scoped>\n",
              "    .dataframe tbody tr th:only-of-type {\n",
              "        vertical-align: middle;\n",
              "    }\n",
              "\n",
              "    .dataframe tbody tr th {\n",
              "        vertical-align: top;\n",
              "    }\n",
              "\n",
              "    .dataframe thead th {\n",
              "        text-align: right;\n",
              "    }\n",
              "</style>\n",
              "<table border=\"1\" class=\"dataframe\">\n",
              "  <thead>\n",
              "    <tr style=\"text-align: right;\">\n",
              "      <th></th>\n",
              "      <th>doc_id</th>\n",
              "      <th>query_id</th>\n",
              "      <th>label</th>\n",
              "      <th>predicted_scores</th>\n",
              "    </tr>\n",
              "  </thead>\n",
              "  <tbody>\n",
              "    <tr>\n",
              "      <th>8</th>\n",
              "      <td>2598</td>\n",
              "      <td>1</td>\n",
              "      <td>1</td>\n",
              "      <td>8.041350</td>\n",
              "    </tr>\n",
              "    <tr>\n",
              "      <th>7</th>\n",
              "      <td>713</td>\n",
              "      <td>1</td>\n",
              "      <td>1</td>\n",
              "      <td>7.090429</td>\n",
              "    </tr>\n",
              "    <tr>\n",
              "      <th>0</th>\n",
              "      <td>2144</td>\n",
              "      <td>1</td>\n",
              "      <td>1</td>\n",
              "      <td>6.570476</td>\n",
              "    </tr>\n",
              "    <tr>\n",
              "      <th>1</th>\n",
              "      <td>59</td>\n",
              "      <td>1</td>\n",
              "      <td>1</td>\n",
              "      <td>6.179714</td>\n",
              "    </tr>\n",
              "    <tr>\n",
              "      <th>2</th>\n",
              "      <td>2567</td>\n",
              "      <td>1</td>\n",
              "      <td>1</td>\n",
              "      <td>6.141634</td>\n",
              "    </tr>\n",
              "    <tr>\n",
              "      <th>3</th>\n",
              "      <td>3448</td>\n",
              "      <td>1</td>\n",
              "      <td>1</td>\n",
              "      <td>5.901245</td>\n",
              "    </tr>\n",
              "    <tr>\n",
              "      <th>4</th>\n",
              "      <td>3530</td>\n",
              "      <td>1</td>\n",
              "      <td>1</td>\n",
              "      <td>5.318353</td>\n",
              "    </tr>\n",
              "    <tr>\n",
              "      <th>9</th>\n",
              "      <td>1488</td>\n",
              "      <td>1</td>\n",
              "      <td>1</td>\n",
              "      <td>5.158803</td>\n",
              "    </tr>\n",
              "    <tr>\n",
              "      <th>5</th>\n",
              "      <td>3922</td>\n",
              "      <td>1</td>\n",
              "      <td>1</td>\n",
              "      <td>4.880121</td>\n",
              "    </tr>\n",
              "    <tr>\n",
              "      <th>6</th>\n",
              "      <td>1967</td>\n",
              "      <td>1</td>\n",
              "      <td>1</td>\n",
              "      <td>4.341904</td>\n",
              "    </tr>\n",
              "  </tbody>\n",
              "</table>\n",
              "</div>\n",
              "      <button class=\"colab-df-convert\" onclick=\"convertToInteractive('df-8f0416d1-181e-449f-860a-293a55a8b732')\"\n",
              "              title=\"Convert this dataframe to an interactive table.\"\n",
              "              style=\"display:none;\">\n",
              "        \n",
              "  <svg xmlns=\"http://www.w3.org/2000/svg\" height=\"24px\"viewBox=\"0 0 24 24\"\n",
              "       width=\"24px\">\n",
              "    <path d=\"M0 0h24v24H0V0z\" fill=\"none\"/>\n",
              "    <path d=\"M18.56 5.44l.94 2.06.94-2.06 2.06-.94-2.06-.94-.94-2.06-.94 2.06-2.06.94zm-11 1L8.5 8.5l.94-2.06 2.06-.94-2.06-.94L8.5 2.5l-.94 2.06-2.06.94zm10 10l.94 2.06.94-2.06 2.06-.94-2.06-.94-.94-2.06-.94 2.06-2.06.94z\"/><path d=\"M17.41 7.96l-1.37-1.37c-.4-.4-.92-.59-1.43-.59-.52 0-1.04.2-1.43.59L10.3 9.45l-7.72 7.72c-.78.78-.78 2.05 0 2.83L4 21.41c.39.39.9.59 1.41.59.51 0 1.02-.2 1.41-.59l7.78-7.78 2.81-2.81c.8-.78.8-2.07 0-2.86zM5.41 20L4 18.59l7.72-7.72 1.47 1.35L5.41 20z\"/>\n",
              "  </svg>\n",
              "      </button>\n",
              "      \n",
              "  <style>\n",
              "    .colab-df-container {\n",
              "      display:flex;\n",
              "      flex-wrap:wrap;\n",
              "      gap: 12px;\n",
              "    }\n",
              "\n",
              "    .colab-df-convert {\n",
              "      background-color: #E8F0FE;\n",
              "      border: none;\n",
              "      border-radius: 50%;\n",
              "      cursor: pointer;\n",
              "      display: none;\n",
              "      fill: #1967D2;\n",
              "      height: 32px;\n",
              "      padding: 0 0 0 0;\n",
              "      width: 32px;\n",
              "    }\n",
              "\n",
              "    .colab-df-convert:hover {\n",
              "      background-color: #E2EBFA;\n",
              "      box-shadow: 0px 1px 2px rgba(60, 64, 67, 0.3), 0px 1px 3px 1px rgba(60, 64, 67, 0.15);\n",
              "      fill: #174EA6;\n",
              "    }\n",
              "\n",
              "    [theme=dark] .colab-df-convert {\n",
              "      background-color: #3B4455;\n",
              "      fill: #D2E3FC;\n",
              "    }\n",
              "\n",
              "    [theme=dark] .colab-df-convert:hover {\n",
              "      background-color: #434B5C;\n",
              "      box-shadow: 0px 1px 3px 1px rgba(0, 0, 0, 0.15);\n",
              "      filter: drop-shadow(0px 1px 2px rgba(0, 0, 0, 0.3));\n",
              "      fill: #FFFFFF;\n",
              "    }\n",
              "  </style>\n",
              "\n",
              "      <script>\n",
              "        const buttonEl =\n",
              "          document.querySelector('#df-8f0416d1-181e-449f-860a-293a55a8b732 button.colab-df-convert');\n",
              "        buttonEl.style.display =\n",
              "          google.colab.kernel.accessAllowed ? 'block' : 'none';\n",
              "\n",
              "        async function convertToInteractive(key) {\n",
              "          const element = document.querySelector('#df-8f0416d1-181e-449f-860a-293a55a8b732');\n",
              "          const dataTable =\n",
              "            await google.colab.kernel.invokeFunction('convertToInteractive',\n",
              "                                                     [key], {});\n",
              "          if (!dataTable) return;\n",
              "\n",
              "          const docLinkHtml = 'Like what you see? Visit the ' +\n",
              "            '<a target=\"_blank\" href=https://colab.research.google.com/notebooks/data_table.ipynb>data table notebook</a>'\n",
              "            + ' to learn more about interactive tables.';\n",
              "          element.innerHTML = '';\n",
              "          dataTable['output_type'] = 'display_data';\n",
              "          await google.colab.output.renderOutput(dataTable, element);\n",
              "          const docLink = document.createElement('div');\n",
              "          docLink.innerHTML = docLinkHtml;\n",
              "          element.appendChild(docLink);\n",
              "        }\n",
              "      </script>\n",
              "    </div>\n",
              "  </div>\n",
              "  "
            ]
          },
          "metadata": {},
          "execution_count": 370
        }
      ]
    },
    {
      "cell_type": "code",
      "source": [
        "k = 3\n",
        "map_k, avp = map_at_k(search_results_1, k)\n",
        "print(\"==> MAP@{}: {}\\n\".format(k, map_k))\n",
        "\n",
        "k = 10\n",
        "map_k, avp = map_at_k(search_results_1, k)\n",
        "print(\"==> MAP@{}: {}\\n\".format(k, map_k))\n",
        "\n",
        "k = 20\n",
        "map_k, avp = map_at_k(search_results_1, k)\n",
        "print(\"==> MAP@{}: {}\\n\".format(k, map_k))"
      ],
      "metadata": {
        "colab": {
          "base_uri": "https://localhost:8080/"
        },
        "outputId": "c866e0d8-0234-44c2-c888-838d213890ab",
        "id": "krPw0PrNhcGj"
      },
      "execution_count": null,
      "outputs": [
        {
          "output_type": "stream",
          "name": "stdout",
          "text": [
            "==> MAP@3: 0.08666666666666666\n",
            "\n",
            "==> MAP@10: 0.6113650793650793\n",
            "\n",
            "==> MAP@20: 0.7168196248196248\n",
            "\n"
          ]
        }
      ]
    },
    {
      "cell_type": "markdown",
      "source": [
        "<font color='blue'>MRR"
      ],
      "metadata": {
        "id": "AualY-YqhcGm"
      }
    },
    {
      "cell_type": "code",
      "source": [
        "mrr = {}\n",
        "for k in [3, 10, 20]:\n",
        "    RRs = []\n",
        "    for q in search_results_1['query_id'].unique():  # loop over all query ids\n",
        "        labels =  np.array(current_query_res[\"label\"]) # get labels for current query\n",
        "        scores =  np.array(current_query_res[\"predicted_scores\"])# get predicted score for current query\n",
        "        RRs.append(rr_at_k(labels, scores, k))  # append RR for current query\n",
        "    mrr[k] = np.round(float(sum(RRs)/len(RRs)), 4)  # Mean RR at current k\n",
        "    print(\"==> MRR@{}: {}\\n\".format(k, mrr[k]))"
      ],
      "metadata": {
        "colab": {
          "base_uri": "https://localhost:8080/"
        },
        "outputId": "39ef3661-c92e-486c-c627-b34628c702e2",
        "id": "QD52OgqZhcGm"
      },
      "execution_count": null,
      "outputs": [
        {
          "output_type": "stream",
          "name": "stdout",
          "text": [
            "==> MRR@3: 1.0\n",
            "\n",
            "==> MRR@10: 1.0\n",
            "\n",
            "==> MRR@20: 1.0\n",
            "\n"
          ]
        }
      ]
    },
    {
      "cell_type": "markdown",
      "source": [
        "<font color='blue'>NDCG"
      ],
      "metadata": {
        "id": "PmGE7U-uhcGn"
      }
    },
    {
      "cell_type": "code",
      "source": [
        "ndcgs = []\n",
        "k = 10\n",
        "for q in search_results_1['query_id'].unique() : # loop over all query ids\n",
        "    labels =  np.array(current_query_res[\"label\"]) ## get labels for current query\n",
        "    scores = np.array(current_query_res[\"predicted_scores\"]) # get predicted score for current query\n",
        "    ndcgs.append(ndcg_at_k(labels, scores, k)) # append NDCG for current query\n",
        "\n",
        "avg_ndcg = np.round(float(sum(ndcgs)/len(ndcgs)), 4) # Compute average NDCG\n",
        "print(\"Average NCDG@{}: {}\".format(k, avg_ndcg))"
      ],
      "metadata": {
        "colab": {
          "base_uri": "https://localhost:8080/"
        },
        "outputId": "f9f1170b-0625-4cd3-abef-555f88d0bdc1",
        "id": "44REK04lhcGo"
      },
      "execution_count": null,
      "outputs": [
        {
          "output_type": "stream",
          "name": "stdout",
          "text": [
            "Average NCDG@10: 1.0\n"
          ]
        }
      ]
    },
    {
      "cell_type": "markdown",
      "source": [
        "#####Query 2\n",
        "\n",
        "\n",
        "Need of Supplies"
      ],
      "metadata": {
        "id": "UTPkp9ram9z9"
      }
    },
    {
      "cell_type": "code",
      "source": [
        "# in the following lines we reduce the ground truth dataframe to those rows related to query 2, and save the corresponding predicted score of our ranking system\n",
        "# the reduced data frame is q_sr\n",
        "\n",
        "q = 'Need of Supplies'\n",
        "qn = 2\n",
        "q_sr = search_results_1[search_results_1[\"query_id\"] == qn]\n",
        "\n",
        "ranked_docs_q,ranked_scores_q = search_tf_idf(q, index)\n",
        "for i, d_id in enumerate(ranked_docs_q):\n",
        "  if (d_id == q_sr['doc_id']).any(): # if our ranking doc coincides with a doc in the ground truth add the score\n",
        "    search_results_1.loc[search_results_1['doc_id'] == d_id, 'predicted_scores'] = ranked_scores_q[i]\n",
        "\n",
        "q_sr = search_results_1[search_results_1[\"query_id\"] == qn] #now we have the predicted_scores in the reduced dataframe"
      ],
      "metadata": {
        "id": "rSrZrlE4XKCq"
      },
      "execution_count": null,
      "outputs": []
    },
    {
      "cell_type": "markdown",
      "source": [
        " <font color='blue'>Precision P@K</font>"
      ],
      "metadata": {
        "id": "EoayZuR6h5-O"
      }
    },
    {
      "cell_type": "code",
      "source": [
        "current_query_res = q_sr\n",
        "\n",
        "k = 3\n",
        "print(\"==> Precision@{}: {}\\n\".format(k, precision_at_k(current_query_res[\"label\"], current_query_res[\"predicted_scores\"], k)))\n",
        "\n",
        "k = 10\n",
        "print(\"==> Precision@{}: {}\\n\".format(k, precision_at_k(current_query_res[\"label\"], current_query_res[\"predicted_scores\"], k)))\n",
        "\n",
        "k = 20\n",
        "print(\"==> Precision@{}: {}\\n\".format(k, precision_at_k(current_query_res[\"label\"], current_query_res[\"predicted_scores\"], k)))"
      ],
      "metadata": {
        "colab": {
          "base_uri": "https://localhost:8080/"
        },
        "outputId": "4ad5af55-4ab4-4548-d7c6-1764a243ed17",
        "id": "N5soPneeh5-P"
      },
      "execution_count": null,
      "outputs": [
        {
          "output_type": "stream",
          "name": "stdout",
          "text": [
            "==> Precision@3: 1.0\n",
            "\n",
            "==> Precision@10: 1.0\n",
            "\n",
            "==> Precision@20: 0.5\n",
            "\n"
          ]
        }
      ]
    },
    {
      "cell_type": "markdown",
      "source": [
        " <font color='blue'>Recall R@K"
      ],
      "metadata": {
        "id": "Xnb7rx_Lh5-R"
      }
    },
    {
      "cell_type": "code",
      "source": [
        "k = 3\n",
        "print(\"==> Recall@{}: {}\\n\".format(k, recall_at_k(current_query_res[\"label\"], current_query_res[\"predicted_scores\"], k)))\n",
        "\n",
        "k = 10\n",
        "print(\"==> Recall@{}: {}\\n\".format(k, recall_at_k(current_query_res[\"label\"], current_query_res[\"predicted_scores\"], k)))\n",
        "\n",
        "k = 20\n",
        "print(\"==> Recall@{}: {}\\n\".format(k, recall_at_k(current_query_res[\"label\"], current_query_res[\"predicted_scores\"], k)))"
      ],
      "metadata": {
        "colab": {
          "base_uri": "https://localhost:8080/"
        },
        "outputId": "c666849c-1713-4e12-ef37-4266dec79bb8",
        "id": "tH67JunUh5-S"
      },
      "execution_count": null,
      "outputs": [
        {
          "output_type": "stream",
          "name": "stdout",
          "text": [
            "==> Recall@3: 0.3\n",
            "\n",
            "==> Recall@10: 1.0\n",
            "\n",
            "==> Recall@20: 1.0\n",
            "\n"
          ]
        }
      ]
    },
    {
      "cell_type": "markdown",
      "source": [
        " <font color='blue'>Avg Precision P@K"
      ],
      "metadata": {
        "id": "WuThGBPPh5-T"
      }
    },
    {
      "cell_type": "code",
      "source": [
        "k = 10\n",
        "print(\"==> Recall@{}: {}\\n\".format(k, avg_precision_at_k(np.array(current_query_res[\"label\"]), np.array(current_query_res[\"predicted_scores\"]), k)))\n",
        "\n",
        "k=20\n",
        "print(\"==> Recall@{}: {}\\n\".format(k, avg_precision_at_k(np.array(current_query_res[\"label\"]), np.array(current_query_res[\"predicted_scores\"]), k)))"
      ],
      "metadata": {
        "colab": {
          "base_uri": "https://localhost:8080/"
        },
        "outputId": "99cb07db-0021-4043-ba60-e3a3ebf6e46c",
        "id": "YZxpvlGnh5-T"
      },
      "execution_count": null,
      "outputs": [
        {
          "output_type": "stream",
          "name": "stdout",
          "text": [
            "==> Recall@10: 1.0\n",
            "\n",
            "==> Recall@20: 1.0\n",
            "\n"
          ]
        }
      ]
    },
    {
      "cell_type": "markdown",
      "source": [
        " <font color='blue'>F1-score"
      ],
      "metadata": {
        "id": "xj-GMcE8h5-U"
      }
    },
    {
      "cell_type": "code",
      "source": [
        "k = 3\n",
        "print(\"==> F1-score@{}: {}\\n\".format(k, f1_score(current_query_res[\"label\"], current_query_res[\"predicted_scores\"], k)))\n",
        "\n",
        "k = 10\n",
        "print(\"==> F1-score@{}: {}\\n\".format(k, f1_score(current_query_res[\"label\"], current_query_res[\"predicted_scores\"], k)))\n",
        "\n",
        "k = 20\n",
        "print(\"==> F1-score@{}: {}\\n\".format(k, f1_score(current_query_res[\"label\"], current_query_res[\"predicted_scores\"], k)))"
      ],
      "metadata": {
        "colab": {
          "base_uri": "https://localhost:8080/"
        },
        "outputId": "184a253f-1dce-4bce-f307-ccd4b3090d3f",
        "id": "YFcmOq2xh5-V"
      },
      "execution_count": null,
      "outputs": [
        {
          "output_type": "stream",
          "name": "stdout",
          "text": [
            "==> F1-score@3: 0.4615384615384615\n",
            "\n",
            "==> F1-score@10: 1.0\n",
            "\n",
            "==> F1-score@20: 0.6666666666666666\n",
            "\n"
          ]
        }
      ]
    },
    {
      "cell_type": "markdown",
      "source": [
        "<font color='blue'>MAP"
      ],
      "metadata": {
        "id": "U4Dvody4h5-V"
      }
    },
    {
      "cell_type": "code",
      "source": [
        "current_query_res.sort_values(\"predicted_scores\", ascending=False).head(10)"
      ],
      "metadata": {
        "colab": {
          "base_uri": "https://localhost:8080/",
          "height": 363
        },
        "outputId": "d9488803-4c79-4ad2-876b-e9991008c993",
        "id": "y7cIYsUoh5-W"
      },
      "execution_count": null,
      "outputs": [
        {
          "output_type": "execute_result",
          "data": {
            "text/plain": [
              "    doc_id  query_id  label  predicted_scores\n",
              "10    3515         2      1          7.835436\n",
              "12    3617         2      1          5.627975\n",
              "11    3646         2      1          5.627975\n",
              "13      60         2      1          5.164230\n",
              "14      62         2      1          5.033661\n",
              "15    2417         2      1          4.912097\n",
              "16    1074         2      1          4.594679\n",
              "17    2038         2      1          3.919322\n",
              "18     693         2      1          3.919322\n",
              "19      29         2      1          3.700956"
            ],
            "text/html": [
              "\n",
              "  <div id=\"df-13beabb8-82d4-46d1-915b-8958e33bb253\">\n",
              "    <div class=\"colab-df-container\">\n",
              "      <div>\n",
              "<style scoped>\n",
              "    .dataframe tbody tr th:only-of-type {\n",
              "        vertical-align: middle;\n",
              "    }\n",
              "\n",
              "    .dataframe tbody tr th {\n",
              "        vertical-align: top;\n",
              "    }\n",
              "\n",
              "    .dataframe thead th {\n",
              "        text-align: right;\n",
              "    }\n",
              "</style>\n",
              "<table border=\"1\" class=\"dataframe\">\n",
              "  <thead>\n",
              "    <tr style=\"text-align: right;\">\n",
              "      <th></th>\n",
              "      <th>doc_id</th>\n",
              "      <th>query_id</th>\n",
              "      <th>label</th>\n",
              "      <th>predicted_scores</th>\n",
              "    </tr>\n",
              "  </thead>\n",
              "  <tbody>\n",
              "    <tr>\n",
              "      <th>10</th>\n",
              "      <td>3515</td>\n",
              "      <td>2</td>\n",
              "      <td>1</td>\n",
              "      <td>7.835436</td>\n",
              "    </tr>\n",
              "    <tr>\n",
              "      <th>12</th>\n",
              "      <td>3617</td>\n",
              "      <td>2</td>\n",
              "      <td>1</td>\n",
              "      <td>5.627975</td>\n",
              "    </tr>\n",
              "    <tr>\n",
              "      <th>11</th>\n",
              "      <td>3646</td>\n",
              "      <td>2</td>\n",
              "      <td>1</td>\n",
              "      <td>5.627975</td>\n",
              "    </tr>\n",
              "    <tr>\n",
              "      <th>13</th>\n",
              "      <td>60</td>\n",
              "      <td>2</td>\n",
              "      <td>1</td>\n",
              "      <td>5.164230</td>\n",
              "    </tr>\n",
              "    <tr>\n",
              "      <th>14</th>\n",
              "      <td>62</td>\n",
              "      <td>2</td>\n",
              "      <td>1</td>\n",
              "      <td>5.033661</td>\n",
              "    </tr>\n",
              "    <tr>\n",
              "      <th>15</th>\n",
              "      <td>2417</td>\n",
              "      <td>2</td>\n",
              "      <td>1</td>\n",
              "      <td>4.912097</td>\n",
              "    </tr>\n",
              "    <tr>\n",
              "      <th>16</th>\n",
              "      <td>1074</td>\n",
              "      <td>2</td>\n",
              "      <td>1</td>\n",
              "      <td>4.594679</td>\n",
              "    </tr>\n",
              "    <tr>\n",
              "      <th>17</th>\n",
              "      <td>2038</td>\n",
              "      <td>2</td>\n",
              "      <td>1</td>\n",
              "      <td>3.919322</td>\n",
              "    </tr>\n",
              "    <tr>\n",
              "      <th>18</th>\n",
              "      <td>693</td>\n",
              "      <td>2</td>\n",
              "      <td>1</td>\n",
              "      <td>3.919322</td>\n",
              "    </tr>\n",
              "    <tr>\n",
              "      <th>19</th>\n",
              "      <td>29</td>\n",
              "      <td>2</td>\n",
              "      <td>1</td>\n",
              "      <td>3.700956</td>\n",
              "    </tr>\n",
              "  </tbody>\n",
              "</table>\n",
              "</div>\n",
              "      <button class=\"colab-df-convert\" onclick=\"convertToInteractive('df-13beabb8-82d4-46d1-915b-8958e33bb253')\"\n",
              "              title=\"Convert this dataframe to an interactive table.\"\n",
              "              style=\"display:none;\">\n",
              "        \n",
              "  <svg xmlns=\"http://www.w3.org/2000/svg\" height=\"24px\"viewBox=\"0 0 24 24\"\n",
              "       width=\"24px\">\n",
              "    <path d=\"M0 0h24v24H0V0z\" fill=\"none\"/>\n",
              "    <path d=\"M18.56 5.44l.94 2.06.94-2.06 2.06-.94-2.06-.94-.94-2.06-.94 2.06-2.06.94zm-11 1L8.5 8.5l.94-2.06 2.06-.94-2.06-.94L8.5 2.5l-.94 2.06-2.06.94zm10 10l.94 2.06.94-2.06 2.06-.94-2.06-.94-.94-2.06-.94 2.06-2.06.94z\"/><path d=\"M17.41 7.96l-1.37-1.37c-.4-.4-.92-.59-1.43-.59-.52 0-1.04.2-1.43.59L10.3 9.45l-7.72 7.72c-.78.78-.78 2.05 0 2.83L4 21.41c.39.39.9.59 1.41.59.51 0 1.02-.2 1.41-.59l7.78-7.78 2.81-2.81c.8-.78.8-2.07 0-2.86zM5.41 20L4 18.59l7.72-7.72 1.47 1.35L5.41 20z\"/>\n",
              "  </svg>\n",
              "      </button>\n",
              "      \n",
              "  <style>\n",
              "    .colab-df-container {\n",
              "      display:flex;\n",
              "      flex-wrap:wrap;\n",
              "      gap: 12px;\n",
              "    }\n",
              "\n",
              "    .colab-df-convert {\n",
              "      background-color: #E8F0FE;\n",
              "      border: none;\n",
              "      border-radius: 50%;\n",
              "      cursor: pointer;\n",
              "      display: none;\n",
              "      fill: #1967D2;\n",
              "      height: 32px;\n",
              "      padding: 0 0 0 0;\n",
              "      width: 32px;\n",
              "    }\n",
              "\n",
              "    .colab-df-convert:hover {\n",
              "      background-color: #E2EBFA;\n",
              "      box-shadow: 0px 1px 2px rgba(60, 64, 67, 0.3), 0px 1px 3px 1px rgba(60, 64, 67, 0.15);\n",
              "      fill: #174EA6;\n",
              "    }\n",
              "\n",
              "    [theme=dark] .colab-df-convert {\n",
              "      background-color: #3B4455;\n",
              "      fill: #D2E3FC;\n",
              "    }\n",
              "\n",
              "    [theme=dark] .colab-df-convert:hover {\n",
              "      background-color: #434B5C;\n",
              "      box-shadow: 0px 1px 3px 1px rgba(0, 0, 0, 0.15);\n",
              "      filter: drop-shadow(0px 1px 2px rgba(0, 0, 0, 0.3));\n",
              "      fill: #FFFFFF;\n",
              "    }\n",
              "  </style>\n",
              "\n",
              "      <script>\n",
              "        const buttonEl =\n",
              "          document.querySelector('#df-13beabb8-82d4-46d1-915b-8958e33bb253 button.colab-df-convert');\n",
              "        buttonEl.style.display =\n",
              "          google.colab.kernel.accessAllowed ? 'block' : 'none';\n",
              "\n",
              "        async function convertToInteractive(key) {\n",
              "          const element = document.querySelector('#df-13beabb8-82d4-46d1-915b-8958e33bb253');\n",
              "          const dataTable =\n",
              "            await google.colab.kernel.invokeFunction('convertToInteractive',\n",
              "                                                     [key], {});\n",
              "          if (!dataTable) return;\n",
              "\n",
              "          const docLinkHtml = 'Like what you see? Visit the ' +\n",
              "            '<a target=\"_blank\" href=https://colab.research.google.com/notebooks/data_table.ipynb>data table notebook</a>'\n",
              "            + ' to learn more about interactive tables.';\n",
              "          element.innerHTML = '';\n",
              "          dataTable['output_type'] = 'display_data';\n",
              "          await google.colab.output.renderOutput(dataTable, element);\n",
              "          const docLink = document.createElement('div');\n",
              "          docLink.innerHTML = docLinkHtml;\n",
              "          element.appendChild(docLink);\n",
              "        }\n",
              "      </script>\n",
              "    </div>\n",
              "  </div>\n",
              "  "
            ]
          },
          "metadata": {},
          "execution_count": 379
        }
      ]
    },
    {
      "cell_type": "code",
      "source": [
        "k = 3\n",
        "map_k, avp = map_at_k(search_results_1, k)\n",
        "print(\"==> MAP@{}: {}\\n\".format(k, map_k))\n",
        "\n",
        "k = 10\n",
        "map_k, avp = map_at_k(search_results_1, k)\n",
        "print(\"==> MAP@{}: {}\\n\".format(k, map_k))\n",
        "\n",
        "k = 20\n",
        "map_k, avp = map_at_k(search_results_1, k)\n",
        "print(\"==> MAP@{}: {}\\n\".format(k, map_k))"
      ],
      "metadata": {
        "colab": {
          "base_uri": "https://localhost:8080/"
        },
        "outputId": "e3a8b9a6-16ea-45ca-d305-ece38f034eb9",
        "id": "SK_EUa-zh5-Y"
      },
      "execution_count": null,
      "outputs": [
        {
          "output_type": "stream",
          "name": "stdout",
          "text": [
            "==> MAP@3: 0.13999999999999999\n",
            "\n",
            "==> MAP@10: 0.7085238095238093\n",
            "\n",
            "==> MAP@20: 0.7876147186147184\n",
            "\n"
          ]
        }
      ]
    },
    {
      "cell_type": "markdown",
      "source": [
        "<font color='blue'>MRR"
      ],
      "metadata": {
        "id": "9KpqGZefh5-Z"
      }
    },
    {
      "cell_type": "code",
      "source": [
        "mrr = {}\n",
        "for k in [3, 10, 20]:\n",
        "    RRs = []\n",
        "    for q in search_results_1['query_id'].unique():  # loop over all query ids\n",
        "        labels =  np.array(current_query_res[\"label\"]) # get labels for current query\n",
        "        scores =  np.array(current_query_res[\"predicted_scores\"])# get predicted score for current query\n",
        "        RRs.append(rr_at_k(labels, scores, k))  # append RR for current query\n",
        "    mrr[k] = np.round(float(sum(RRs)/len(RRs)), 4)  # Mean RR at current k\n",
        "    print(\"==> MRR@{}: {}\\n\".format(k, mrr[k]))"
      ],
      "metadata": {
        "colab": {
          "base_uri": "https://localhost:8080/"
        },
        "outputId": "2acd9faf-c35a-4d85-e8c8-5a250767da76",
        "id": "u_EdEiZrh5-Z"
      },
      "execution_count": null,
      "outputs": [
        {
          "output_type": "stream",
          "name": "stdout",
          "text": [
            "==> MRR@3: 1.0\n",
            "\n",
            "==> MRR@10: 1.0\n",
            "\n",
            "==> MRR@20: 1.0\n",
            "\n"
          ]
        }
      ]
    },
    {
      "cell_type": "markdown",
      "source": [
        "<font color='blue'>NDCG"
      ],
      "metadata": {
        "id": "OB_Zv5Gnh5-a"
      }
    },
    {
      "cell_type": "code",
      "source": [
        "ndcgs = []\n",
        "k = 10\n",
        "for q in search_results_1['query_id'].unique() : # loop over all query ids\n",
        "    labels =  np.array(current_query_res[\"label\"]) ## get labels for current query\n",
        "    scores = np.array(current_query_res[\"predicted_scores\"]) # get predicted score for current query\n",
        "    ndcgs.append(ndcg_at_k(labels, scores, k)) # append NDCG for current query\n",
        "\n",
        "avg_ndcg = np.round(float(sum(ndcgs)/len(ndcgs)), 4) # Compute average NDCG\n",
        "print(\"Average NCDG@{}: {}\".format(k, avg_ndcg))"
      ],
      "metadata": {
        "colab": {
          "base_uri": "https://localhost:8080/"
        },
        "outputId": "e1f3915d-35e0-44f5-f6e0-501d2d226344",
        "id": "xBGknpgYh5-b"
      },
      "execution_count": null,
      "outputs": [
        {
          "output_type": "stream",
          "name": "stdout",
          "text": [
            "Average NCDG@10: 1.0\n"
          ]
        }
      ]
    },
    {
      "cell_type": "markdown",
      "source": [
        "#####Query 3\n",
        "\n",
        "Power Outages"
      ],
      "metadata": {
        "id": "mwIUJRYOnAdD"
      }
    },
    {
      "cell_type": "code",
      "source": [
        "# in the following lines we reduce the ground truth dataframe to those rows related to query 3, and save the corresponding predicted score of our ranking system\n",
        "# the reduced data frame is q_sr\n",
        "\n",
        "q = 'Power Outages'\n",
        "qn = 3\n",
        "q_sr = search_results_1[search_results_1[\"query_id\"] == qn]\n",
        "\n",
        "ranked_docs_q,ranked_scores_q = search_tf_idf(q, index)\n",
        "for i, d_id in enumerate(ranked_docs_q):\n",
        "  if (d_id == q_sr['doc_id']).any(): # if our ranking doc coincides with a doc in the ground truth add the score\n",
        "    search_results_1.loc[search_results_1['doc_id'] == d_id, 'predicted_scores'] = ranked_scores_q[i]\n",
        "\n",
        "q_sr = search_results_1[search_results_1[\"query_id\"] ==qn ] #now we have the predicted_scores in the reduced dataframe"
      ],
      "metadata": {
        "id": "SY2_z3sZXxJj"
      },
      "execution_count": null,
      "outputs": []
    },
    {
      "cell_type": "markdown",
      "source": [
        " <font color='blue'>Precision P@K</font>"
      ],
      "metadata": {
        "id": "9h45ZJthiKp9"
      }
    },
    {
      "cell_type": "code",
      "source": [
        "current_query_res = q_sr\n",
        "k = 3\n",
        "print(\"==> Precision@{}: {}\\n\".format(k, precision_at_k(current_query_res[\"label\"], current_query_res[\"predicted_scores\"], k)))\n",
        "\n",
        "k = 10\n",
        "print(\"==> Precision@{}: {}\\n\".format(k, precision_at_k(current_query_res[\"label\"], current_query_res[\"predicted_scores\"], k)))\n",
        "\n",
        "k = 20\n",
        "print(\"==> Precision@{}: {}\\n\".format(k, precision_at_k(current_query_res[\"label\"], current_query_res[\"predicted_scores\"], k)))"
      ],
      "metadata": {
        "colab": {
          "base_uri": "https://localhost:8080/"
        },
        "outputId": "3cc2450d-4f23-46f6-853b-40c0d382717a",
        "id": "Feo8vqgEiKp_"
      },
      "execution_count": null,
      "outputs": [
        {
          "output_type": "stream",
          "name": "stdout",
          "text": [
            "==> Precision@3: 1.0\n",
            "\n",
            "==> Precision@10: 1.0\n",
            "\n",
            "==> Precision@20: 0.5\n",
            "\n"
          ]
        }
      ]
    },
    {
      "cell_type": "markdown",
      "source": [
        " <font color='blue'>Recall R@K"
      ],
      "metadata": {
        "id": "LDyWqiMOiKqB"
      }
    },
    {
      "cell_type": "code",
      "source": [
        "k = 3\n",
        "print(\"==> Recall@{}: {}\\n\".format(k, recall_at_k(current_query_res[\"label\"], current_query_res[\"predicted_scores\"], k)))\n",
        "\n",
        "k = 10\n",
        "print(\"==> Recall@{}: {}\\n\".format(k, recall_at_k(current_query_res[\"label\"], current_query_res[\"predicted_scores\"], k)))\n",
        "\n",
        "k = 20\n",
        "print(\"==> Recall@{}: {}\\n\".format(k, recall_at_k(current_query_res[\"label\"], current_query_res[\"predicted_scores\"], k)))"
      ],
      "metadata": {
        "colab": {
          "base_uri": "https://localhost:8080/"
        },
        "outputId": "ae0de7c0-ccfa-4478-f0ad-8ae02e09bb14",
        "id": "d8_uAcMSiKqC"
      },
      "execution_count": null,
      "outputs": [
        {
          "output_type": "stream",
          "name": "stdout",
          "text": [
            "==> Recall@3: 0.3\n",
            "\n",
            "==> Recall@10: 1.0\n",
            "\n",
            "==> Recall@20: 1.0\n",
            "\n"
          ]
        }
      ]
    },
    {
      "cell_type": "markdown",
      "source": [
        " <font color='blue'>Avg Precision P@K"
      ],
      "metadata": {
        "id": "TKbLezPJiKqE"
      }
    },
    {
      "cell_type": "code",
      "source": [
        "k = 10\n",
        "print(\"==> P@{}: {}\\n\".format(k, avg_precision_at_k(np.array(current_query_res[\"label\"]), np.array(current_query_res[\"predicted_scores\"]), k)))\n",
        "\n",
        "k=20\n",
        "print(\"==> P@{}: {}\\n\".format(k, avg_precision_at_k(np.array(current_query_res[\"label\"]), np.array(current_query_res[\"predicted_scores\"]), k)))"
      ],
      "metadata": {
        "colab": {
          "base_uri": "https://localhost:8080/"
        },
        "outputId": "7948820a-c749-427a-d5ce-fb5b43ca5120",
        "id": "dsYsjKOliKqG"
      },
      "execution_count": null,
      "outputs": [
        {
          "output_type": "stream",
          "name": "stdout",
          "text": [
            "==> P@10: 1.0\n",
            "\n",
            "==> P@20: 1.0\n",
            "\n"
          ]
        }
      ]
    },
    {
      "cell_type": "markdown",
      "source": [
        " <font color='blue'>F1-score"
      ],
      "metadata": {
        "id": "J1cupGBtiKqH"
      }
    },
    {
      "cell_type": "code",
      "source": [
        "k = 3\n",
        "print(\"==> F1-score@{}: {}\\n\".format(k, f1_score(current_query_res[\"label\"], current_query_res[\"predicted_scores\"], k)))\n",
        "\n",
        "k = 10\n",
        "print(\"==> F1-score@{}: {}\\n\".format(k, f1_score(current_query_res[\"label\"], current_query_res[\"predicted_scores\"], k)))\n",
        "\n",
        "k = 20\n",
        "print(\"==> F1-score@{}: {}\\n\".format(k, f1_score(current_query_res[\"label\"], current_query_res[\"predicted_scores\"], k)))"
      ],
      "metadata": {
        "colab": {
          "base_uri": "https://localhost:8080/"
        },
        "outputId": "a35ab602-b1ea-496e-d94e-f51120cd967d",
        "id": "E4pIbJJ0iKqJ"
      },
      "execution_count": null,
      "outputs": [
        {
          "output_type": "stream",
          "name": "stdout",
          "text": [
            "==> F1-score@3: 0.4615384615384615\n",
            "\n",
            "==> F1-score@10: 1.0\n",
            "\n",
            "==> F1-score@20: 0.6666666666666666\n",
            "\n"
          ]
        }
      ]
    },
    {
      "cell_type": "markdown",
      "source": [
        "<font color='blue'>MAP"
      ],
      "metadata": {
        "id": "J7Rq5XWPiKqK"
      }
    },
    {
      "cell_type": "code",
      "source": [
        "current_query_res.sort_values(\"predicted_scores\", ascending=False).head(10)"
      ],
      "metadata": {
        "colab": {
          "base_uri": "https://localhost:8080/",
          "height": 363
        },
        "outputId": "c1747d70-0f2c-4fdf-8cb9-b58ef5442e75",
        "id": "rs6AVCuLiKqL"
      },
      "execution_count": null,
      "outputs": [
        {
          "output_type": "execute_result",
          "data": {
            "text/plain": [
              "    doc_id  query_id  label  predicted_scores\n",
              "20    1622         3      1          5.827223\n",
              "22    1589         3      1          4.989402\n",
              "21    1850         3      1          4.989402\n",
              "23    2552         3      1          4.926049\n",
              "24     686         3      1          4.926049\n",
              "25    3510         3      1          4.758346\n",
              "26    1965         3      1          4.203079\n",
              "27    1503         3      1          4.021190\n",
              "28    2754         3      1          3.929045\n",
              "29    1654         3      1          3.900691"
            ],
            "text/html": [
              "\n",
              "  <div id=\"df-cc64a88b-c7a5-4644-beb8-7cb11acc54db\">\n",
              "    <div class=\"colab-df-container\">\n",
              "      <div>\n",
              "<style scoped>\n",
              "    .dataframe tbody tr th:only-of-type {\n",
              "        vertical-align: middle;\n",
              "    }\n",
              "\n",
              "    .dataframe tbody tr th {\n",
              "        vertical-align: top;\n",
              "    }\n",
              "\n",
              "    .dataframe thead th {\n",
              "        text-align: right;\n",
              "    }\n",
              "</style>\n",
              "<table border=\"1\" class=\"dataframe\">\n",
              "  <thead>\n",
              "    <tr style=\"text-align: right;\">\n",
              "      <th></th>\n",
              "      <th>doc_id</th>\n",
              "      <th>query_id</th>\n",
              "      <th>label</th>\n",
              "      <th>predicted_scores</th>\n",
              "    </tr>\n",
              "  </thead>\n",
              "  <tbody>\n",
              "    <tr>\n",
              "      <th>20</th>\n",
              "      <td>1622</td>\n",
              "      <td>3</td>\n",
              "      <td>1</td>\n",
              "      <td>5.827223</td>\n",
              "    </tr>\n",
              "    <tr>\n",
              "      <th>22</th>\n",
              "      <td>1589</td>\n",
              "      <td>3</td>\n",
              "      <td>1</td>\n",
              "      <td>4.989402</td>\n",
              "    </tr>\n",
              "    <tr>\n",
              "      <th>21</th>\n",
              "      <td>1850</td>\n",
              "      <td>3</td>\n",
              "      <td>1</td>\n",
              "      <td>4.989402</td>\n",
              "    </tr>\n",
              "    <tr>\n",
              "      <th>23</th>\n",
              "      <td>2552</td>\n",
              "      <td>3</td>\n",
              "      <td>1</td>\n",
              "      <td>4.926049</td>\n",
              "    </tr>\n",
              "    <tr>\n",
              "      <th>24</th>\n",
              "      <td>686</td>\n",
              "      <td>3</td>\n",
              "      <td>1</td>\n",
              "      <td>4.926049</td>\n",
              "    </tr>\n",
              "    <tr>\n",
              "      <th>25</th>\n",
              "      <td>3510</td>\n",
              "      <td>3</td>\n",
              "      <td>1</td>\n",
              "      <td>4.758346</td>\n",
              "    </tr>\n",
              "    <tr>\n",
              "      <th>26</th>\n",
              "      <td>1965</td>\n",
              "      <td>3</td>\n",
              "      <td>1</td>\n",
              "      <td>4.203079</td>\n",
              "    </tr>\n",
              "    <tr>\n",
              "      <th>27</th>\n",
              "      <td>1503</td>\n",
              "      <td>3</td>\n",
              "      <td>1</td>\n",
              "      <td>4.021190</td>\n",
              "    </tr>\n",
              "    <tr>\n",
              "      <th>28</th>\n",
              "      <td>2754</td>\n",
              "      <td>3</td>\n",
              "      <td>1</td>\n",
              "      <td>3.929045</td>\n",
              "    </tr>\n",
              "    <tr>\n",
              "      <th>29</th>\n",
              "      <td>1654</td>\n",
              "      <td>3</td>\n",
              "      <td>1</td>\n",
              "      <td>3.900691</td>\n",
              "    </tr>\n",
              "  </tbody>\n",
              "</table>\n",
              "</div>\n",
              "      <button class=\"colab-df-convert\" onclick=\"convertToInteractive('df-cc64a88b-c7a5-4644-beb8-7cb11acc54db')\"\n",
              "              title=\"Convert this dataframe to an interactive table.\"\n",
              "              style=\"display:none;\">\n",
              "        \n",
              "  <svg xmlns=\"http://www.w3.org/2000/svg\" height=\"24px\"viewBox=\"0 0 24 24\"\n",
              "       width=\"24px\">\n",
              "    <path d=\"M0 0h24v24H0V0z\" fill=\"none\"/>\n",
              "    <path d=\"M18.56 5.44l.94 2.06.94-2.06 2.06-.94-2.06-.94-.94-2.06-.94 2.06-2.06.94zm-11 1L8.5 8.5l.94-2.06 2.06-.94-2.06-.94L8.5 2.5l-.94 2.06-2.06.94zm10 10l.94 2.06.94-2.06 2.06-.94-2.06-.94-.94-2.06-.94 2.06-2.06.94z\"/><path d=\"M17.41 7.96l-1.37-1.37c-.4-.4-.92-.59-1.43-.59-.52 0-1.04.2-1.43.59L10.3 9.45l-7.72 7.72c-.78.78-.78 2.05 0 2.83L4 21.41c.39.39.9.59 1.41.59.51 0 1.02-.2 1.41-.59l7.78-7.78 2.81-2.81c.8-.78.8-2.07 0-2.86zM5.41 20L4 18.59l7.72-7.72 1.47 1.35L5.41 20z\"/>\n",
              "  </svg>\n",
              "      </button>\n",
              "      \n",
              "  <style>\n",
              "    .colab-df-container {\n",
              "      display:flex;\n",
              "      flex-wrap:wrap;\n",
              "      gap: 12px;\n",
              "    }\n",
              "\n",
              "    .colab-df-convert {\n",
              "      background-color: #E8F0FE;\n",
              "      border: none;\n",
              "      border-radius: 50%;\n",
              "      cursor: pointer;\n",
              "      display: none;\n",
              "      fill: #1967D2;\n",
              "      height: 32px;\n",
              "      padding: 0 0 0 0;\n",
              "      width: 32px;\n",
              "    }\n",
              "\n",
              "    .colab-df-convert:hover {\n",
              "      background-color: #E2EBFA;\n",
              "      box-shadow: 0px 1px 2px rgba(60, 64, 67, 0.3), 0px 1px 3px 1px rgba(60, 64, 67, 0.15);\n",
              "      fill: #174EA6;\n",
              "    }\n",
              "\n",
              "    [theme=dark] .colab-df-convert {\n",
              "      background-color: #3B4455;\n",
              "      fill: #D2E3FC;\n",
              "    }\n",
              "\n",
              "    [theme=dark] .colab-df-convert:hover {\n",
              "      background-color: #434B5C;\n",
              "      box-shadow: 0px 1px 3px 1px rgba(0, 0, 0, 0.15);\n",
              "      filter: drop-shadow(0px 1px 2px rgba(0, 0, 0, 0.3));\n",
              "      fill: #FFFFFF;\n",
              "    }\n",
              "  </style>\n",
              "\n",
              "      <script>\n",
              "        const buttonEl =\n",
              "          document.querySelector('#df-cc64a88b-c7a5-4644-beb8-7cb11acc54db button.colab-df-convert');\n",
              "        buttonEl.style.display =\n",
              "          google.colab.kernel.accessAllowed ? 'block' : 'none';\n",
              "\n",
              "        async function convertToInteractive(key) {\n",
              "          const element = document.querySelector('#df-cc64a88b-c7a5-4644-beb8-7cb11acc54db');\n",
              "          const dataTable =\n",
              "            await google.colab.kernel.invokeFunction('convertToInteractive',\n",
              "                                                     [key], {});\n",
              "          if (!dataTable) return;\n",
              "\n",
              "          const docLinkHtml = 'Like what you see? Visit the ' +\n",
              "            '<a target=\"_blank\" href=https://colab.research.google.com/notebooks/data_table.ipynb>data table notebook</a>'\n",
              "            + ' to learn more about interactive tables.';\n",
              "          element.innerHTML = '';\n",
              "          dataTable['output_type'] = 'display_data';\n",
              "          await google.colab.output.renderOutput(dataTable, element);\n",
              "          const docLink = document.createElement('div');\n",
              "          docLink.innerHTML = docLinkHtml;\n",
              "          element.appendChild(docLink);\n",
              "        }\n",
              "      </script>\n",
              "    </div>\n",
              "  </div>\n",
              "  "
            ]
          },
          "metadata": {},
          "execution_count": 388
        }
      ]
    },
    {
      "cell_type": "code",
      "source": [
        "k = 3\n",
        "map_k, avp = map_at_k(search_results_1, k)\n",
        "print(\"==> MAP@{}: {}\\n\".format(k, map_k))\n",
        "\n",
        "k = 10\n",
        "map_k, avp = map_at_k(search_results_1, k)\n",
        "print(\"==> MAP@{}: {}\\n\".format(k, map_k))\n",
        "\n",
        "k = 20\n",
        "map_k, avp = map_at_k(search_results_1, k)\n",
        "print(\"==> MAP@{}: {}\\n\".format(k, map_k))"
      ],
      "metadata": {
        "colab": {
          "base_uri": "https://localhost:8080/"
        },
        "outputId": "96d3c271-4312-4182-f332-017266d6b2ad",
        "id": "woJ2uc4JiKqM"
      },
      "execution_count": null,
      "outputs": [
        {
          "output_type": "stream",
          "name": "stdout",
          "text": [
            "==> MAP@3: 0.1933333333333333\n",
            "\n",
            "==> MAP@10: 0.8056825396825396\n",
            "\n",
            "==> MAP@20: 0.8584098124098123\n",
            "\n"
          ]
        }
      ]
    },
    {
      "cell_type": "markdown",
      "source": [
        "<font color='blue'>MRR"
      ],
      "metadata": {
        "id": "2yal_kO1iKqP"
      }
    },
    {
      "cell_type": "code",
      "source": [
        "mrr = {}\n",
        "for k in [3, 10, 20]:\n",
        "    RRs = []\n",
        "    for q in search_results_1['query_id'].unique():  # loop over all query ids\n",
        "        labels =  np.array(current_query_res[\"label\"]) # get labels for current query\n",
        "        scores =  np.array(current_query_res[\"predicted_scores\"])# get predicted score for current query\n",
        "        RRs.append(rr_at_k(labels, scores, k))  # append RR for current query\n",
        "    mrr[k] = np.round(float(sum(RRs)/len(RRs)), 4)  # Mean RR at current k\n",
        "    print(\"==> MRR@{}: {}\\n\".format(k, mrr[k]))"
      ],
      "metadata": {
        "colab": {
          "base_uri": "https://localhost:8080/"
        },
        "outputId": "61d1cbb2-c72d-4af8-ca4d-365a4d7883fe",
        "id": "kpsrscWUiKqP"
      },
      "execution_count": null,
      "outputs": [
        {
          "output_type": "stream",
          "name": "stdout",
          "text": [
            "==> MRR@3: 1.0\n",
            "\n",
            "==> MRR@10: 1.0\n",
            "\n",
            "==> MRR@20: 1.0\n",
            "\n"
          ]
        }
      ]
    },
    {
      "cell_type": "markdown",
      "source": [
        "<font color='blue'>NDCG"
      ],
      "metadata": {
        "id": "GfiQJvxAiKqQ"
      }
    },
    {
      "cell_type": "code",
      "source": [
        "ndcgs = []\n",
        "k = 10\n",
        "for q in search_results_1['query_id'].unique() : # loop over all query ids\n",
        "    labels =  np.array(current_query_res[\"label\"]) ## get labels for current query\n",
        "    scores = np.array(current_query_res[\"predicted_scores\"]) # get predicted score for current query\n",
        "    ndcgs.append(ndcg_at_k(labels, scores, k)) # append NDCG for current query\n",
        "\n",
        "avg_ndcg = np.round(float(sum(ndcgs)/len(ndcgs)), 4) # Compute average NDCG\n",
        "print(\"Average NCDG@{}: {}\".format(k, avg_ndcg))"
      ],
      "metadata": {
        "colab": {
          "base_uri": "https://localhost:8080/"
        },
        "outputId": "ca1c9d32-3e51-48f2-db5f-c3fc2753cea1",
        "id": "wHExhFTKiKqQ"
      },
      "execution_count": null,
      "outputs": [
        {
          "output_type": "stream",
          "name": "stdout",
          "text": [
            "Average NCDG@10: 1.0\n"
          ]
        }
      ]
    },
    {
      "cell_type": "markdown",
      "source": [
        "#####Query 4\n",
        "\n",
        "Search and Rescue"
      ],
      "metadata": {
        "id": "wC04Pr6vnBz8"
      }
    },
    {
      "cell_type": "code",
      "source": [
        "# in the following lines we reduce the ground truth dataframe to those rows related to query 4, and save the corresponding predicted score of our ranking system\n",
        "# the reduced data frame is q_sr\n",
        "\n",
        "q = 'Search and Rescue'\n",
        "qn=4\n",
        "q_sr = search_results_1[search_results_1[\"query_id\"] == qn]\n",
        "\n",
        "ranked_docs_q,ranked_scores_q = search_tf_idf(q, index)\n",
        "for i, d_id in enumerate(ranked_docs_q):\n",
        "  if (d_id == q_sr['doc_id']).any(): # if our ranking doc coincides with a doc in the ground truth add the score\n",
        "    search_results_1.loc[search_results_1['doc_id'] == d_id, 'predicted_scores'] = ranked_scores_q[i]\n",
        "\n",
        "q_sr = search_results_1[search_results_1[\"query_id\"] ==qn ] #now we have the predicted_scores in the reduced dataframe"
      ],
      "metadata": {
        "id": "q_P8kTSUX36x"
      },
      "execution_count": null,
      "outputs": []
    },
    {
      "cell_type": "markdown",
      "source": [
        " <font color='blue'>Precision P@K</font>"
      ],
      "metadata": {
        "id": "3nuqs3X4iflv"
      }
    },
    {
      "cell_type": "code",
      "source": [
        "current_query_res = q_sr\n",
        "\n",
        "k = 3\n",
        "print(\"==> Precision@{}: {}\\n\".format(k, precision_at_k(current_query_res[\"label\"], current_query_res[\"predicted_scores\"], k)))\n",
        "\n",
        "k = 10\n",
        "print(\"==> Precision@{}: {}\\n\".format(k, precision_at_k(current_query_res[\"label\"], current_query_res[\"predicted_scores\"], k)))\n",
        "\n",
        "k = 20\n",
        "print(\"==> Precision@{}: {}\\n\".format(k, precision_at_k(current_query_res[\"label\"], current_query_res[\"predicted_scores\"], k)))"
      ],
      "metadata": {
        "colab": {
          "base_uri": "https://localhost:8080/"
        },
        "outputId": "c3613622-8a93-48bf-90ac-61c590b88374",
        "id": "jH66u4xtiflx"
      },
      "execution_count": null,
      "outputs": [
        {
          "output_type": "stream",
          "name": "stdout",
          "text": [
            "==> Precision@3: 1.0\n",
            "\n",
            "==> Precision@10: 1.0\n",
            "\n",
            "==> Precision@20: 0.5\n",
            "\n"
          ]
        }
      ]
    },
    {
      "cell_type": "markdown",
      "source": [
        " <font color='blue'>Recall R@K"
      ],
      "metadata": {
        "id": "AmmJPtXhiflz"
      }
    },
    {
      "cell_type": "code",
      "source": [
        "k = 3\n",
        "print(\"==> Recall@{}: {}\\n\".format(k, recall_at_k(current_query_res[\"label\"], current_query_res[\"predicted_scores\"], k)))\n",
        "\n",
        "k = 10\n",
        "print(\"==> Recall@{}: {}\\n\".format(k, recall_at_k(current_query_res[\"label\"], current_query_res[\"predicted_scores\"], k)))\n",
        "\n",
        "k = 20\n",
        "print(\"==> Recall@{}: {}\\n\".format(k, recall_at_k(current_query_res[\"label\"], current_query_res[\"predicted_scores\"], k)))"
      ],
      "metadata": {
        "colab": {
          "base_uri": "https://localhost:8080/"
        },
        "outputId": "914da68a-47cf-4ea8-b0b8-d039471d4361",
        "id": "yW_o-gjwifl0"
      },
      "execution_count": null,
      "outputs": [
        {
          "output_type": "stream",
          "name": "stdout",
          "text": [
            "==> Recall@3: 0.3\n",
            "\n",
            "==> Recall@10: 1.0\n",
            "\n",
            "==> Recall@20: 1.0\n",
            "\n"
          ]
        }
      ]
    },
    {
      "cell_type": "markdown",
      "source": [
        " <font color='blue'>Avg Precision P@K"
      ],
      "metadata": {
        "id": "QEEUO7boifl2"
      }
    },
    {
      "cell_type": "code",
      "source": [
        "k = 10\n",
        "print(\"==> P@{}: {}\\n\".format(k, avg_precision_at_k(np.array(current_query_res[\"label\"]), np.array(current_query_res[\"predicted_scores\"]), k)))\n",
        "\n",
        "k=20\n",
        "print(\"==> P@{}: {}\\n\".format(k, avg_precision_at_k(np.array(current_query_res[\"label\"]), np.array(current_query_res[\"predicted_scores\"]), k)))"
      ],
      "metadata": {
        "colab": {
          "base_uri": "https://localhost:8080/"
        },
        "outputId": "50edb494-eb14-465d-d3a2-3dcfa908d822",
        "id": "-5x34m7Jifl4"
      },
      "execution_count": null,
      "outputs": [
        {
          "output_type": "stream",
          "name": "stdout",
          "text": [
            "==> P@10: 1.0\n",
            "\n",
            "==> P@20: 1.0\n",
            "\n"
          ]
        }
      ]
    },
    {
      "cell_type": "markdown",
      "source": [
        " <font color='blue'>F1-score"
      ],
      "metadata": {
        "id": "LuFG1Mwuifl5"
      }
    },
    {
      "cell_type": "code",
      "source": [
        "k = 3\n",
        "print(\"==> F1-score@{}: {}\\n\".format(k, f1_score(current_query_res[\"label\"], current_query_res[\"predicted_scores\"], k)))\n",
        "\n",
        "k = 10\n",
        "print(\"==> F1-score@{}: {}\\n\".format(k, f1_score(current_query_res[\"label\"], current_query_res[\"predicted_scores\"], k)))\n",
        "\n",
        "k = 20\n",
        "print(\"==> F1-score@{}: {}\\n\".format(k, f1_score(current_query_res[\"label\"], current_query_res[\"predicted_scores\"], k)))"
      ],
      "metadata": {
        "colab": {
          "base_uri": "https://localhost:8080/"
        },
        "outputId": "e8f8a496-494c-46a5-f347-60409367bbe1",
        "id": "HUFYI8ERifl6"
      },
      "execution_count": null,
      "outputs": [
        {
          "output_type": "stream",
          "name": "stdout",
          "text": [
            "==> F1-score@3: 0.4615384615384615\n",
            "\n",
            "==> F1-score@10: 1.0\n",
            "\n",
            "==> F1-score@20: 0.6666666666666666\n",
            "\n"
          ]
        }
      ]
    },
    {
      "cell_type": "markdown",
      "source": [
        "<font color='blue'>MAP"
      ],
      "metadata": {
        "id": "xz4layXnifl8"
      }
    },
    {
      "cell_type": "code",
      "source": [
        "current_query_res.sort_values(\"predicted_scores\", ascending=False).head(10)"
      ],
      "metadata": {
        "colab": {
          "base_uri": "https://localhost:8080/",
          "height": 363
        },
        "outputId": "0dd0483a-c091-4844-e847-58e6def4ffa2",
        "id": "cO_bC9vZifl9"
      },
      "execution_count": null,
      "outputs": [
        {
          "output_type": "execute_result",
          "data": {
            "text/plain": [
              "    doc_id  query_id  label  predicted_scores\n",
              "30    3005         4      1         12.192323\n",
              "31    1479         4      1          8.623037\n",
              "32    2347         4      1          8.304719\n",
              "33    2761         4      1          8.142777\n",
              "34    1364         4      1          7.712048\n",
              "35    1361         4      1          7.457638\n",
              "36     608         4      1          7.457638\n",
              "37     838         4      1          7.243112\n",
              "38    3181         4      1          6.826479\n",
              "39     850         4      1          6.517308"
            ],
            "text/html": [
              "\n",
              "  <div id=\"df-574861fb-5be8-48de-b926-66e4886869e2\">\n",
              "    <div class=\"colab-df-container\">\n",
              "      <div>\n",
              "<style scoped>\n",
              "    .dataframe tbody tr th:only-of-type {\n",
              "        vertical-align: middle;\n",
              "    }\n",
              "\n",
              "    .dataframe tbody tr th {\n",
              "        vertical-align: top;\n",
              "    }\n",
              "\n",
              "    .dataframe thead th {\n",
              "        text-align: right;\n",
              "    }\n",
              "</style>\n",
              "<table border=\"1\" class=\"dataframe\">\n",
              "  <thead>\n",
              "    <tr style=\"text-align: right;\">\n",
              "      <th></th>\n",
              "      <th>doc_id</th>\n",
              "      <th>query_id</th>\n",
              "      <th>label</th>\n",
              "      <th>predicted_scores</th>\n",
              "    </tr>\n",
              "  </thead>\n",
              "  <tbody>\n",
              "    <tr>\n",
              "      <th>30</th>\n",
              "      <td>3005</td>\n",
              "      <td>4</td>\n",
              "      <td>1</td>\n",
              "      <td>12.192323</td>\n",
              "    </tr>\n",
              "    <tr>\n",
              "      <th>31</th>\n",
              "      <td>1479</td>\n",
              "      <td>4</td>\n",
              "      <td>1</td>\n",
              "      <td>8.623037</td>\n",
              "    </tr>\n",
              "    <tr>\n",
              "      <th>32</th>\n",
              "      <td>2347</td>\n",
              "      <td>4</td>\n",
              "      <td>1</td>\n",
              "      <td>8.304719</td>\n",
              "    </tr>\n",
              "    <tr>\n",
              "      <th>33</th>\n",
              "      <td>2761</td>\n",
              "      <td>4</td>\n",
              "      <td>1</td>\n",
              "      <td>8.142777</td>\n",
              "    </tr>\n",
              "    <tr>\n",
              "      <th>34</th>\n",
              "      <td>1364</td>\n",
              "      <td>4</td>\n",
              "      <td>1</td>\n",
              "      <td>7.712048</td>\n",
              "    </tr>\n",
              "    <tr>\n",
              "      <th>35</th>\n",
              "      <td>1361</td>\n",
              "      <td>4</td>\n",
              "      <td>1</td>\n",
              "      <td>7.457638</td>\n",
              "    </tr>\n",
              "    <tr>\n",
              "      <th>36</th>\n",
              "      <td>608</td>\n",
              "      <td>4</td>\n",
              "      <td>1</td>\n",
              "      <td>7.457638</td>\n",
              "    </tr>\n",
              "    <tr>\n",
              "      <th>37</th>\n",
              "      <td>838</td>\n",
              "      <td>4</td>\n",
              "      <td>1</td>\n",
              "      <td>7.243112</td>\n",
              "    </tr>\n",
              "    <tr>\n",
              "      <th>38</th>\n",
              "      <td>3181</td>\n",
              "      <td>4</td>\n",
              "      <td>1</td>\n",
              "      <td>6.826479</td>\n",
              "    </tr>\n",
              "    <tr>\n",
              "      <th>39</th>\n",
              "      <td>850</td>\n",
              "      <td>4</td>\n",
              "      <td>1</td>\n",
              "      <td>6.517308</td>\n",
              "    </tr>\n",
              "  </tbody>\n",
              "</table>\n",
              "</div>\n",
              "      <button class=\"colab-df-convert\" onclick=\"convertToInteractive('df-574861fb-5be8-48de-b926-66e4886869e2')\"\n",
              "              title=\"Convert this dataframe to an interactive table.\"\n",
              "              style=\"display:none;\">\n",
              "        \n",
              "  <svg xmlns=\"http://www.w3.org/2000/svg\" height=\"24px\"viewBox=\"0 0 24 24\"\n",
              "       width=\"24px\">\n",
              "    <path d=\"M0 0h24v24H0V0z\" fill=\"none\"/>\n",
              "    <path d=\"M18.56 5.44l.94 2.06.94-2.06 2.06-.94-2.06-.94-.94-2.06-.94 2.06-2.06.94zm-11 1L8.5 8.5l.94-2.06 2.06-.94-2.06-.94L8.5 2.5l-.94 2.06-2.06.94zm10 10l.94 2.06.94-2.06 2.06-.94-2.06-.94-.94-2.06-.94 2.06-2.06.94z\"/><path d=\"M17.41 7.96l-1.37-1.37c-.4-.4-.92-.59-1.43-.59-.52 0-1.04.2-1.43.59L10.3 9.45l-7.72 7.72c-.78.78-.78 2.05 0 2.83L4 21.41c.39.39.9.59 1.41.59.51 0 1.02-.2 1.41-.59l7.78-7.78 2.81-2.81c.8-.78.8-2.07 0-2.86zM5.41 20L4 18.59l7.72-7.72 1.47 1.35L5.41 20z\"/>\n",
              "  </svg>\n",
              "      </button>\n",
              "      \n",
              "  <style>\n",
              "    .colab-df-container {\n",
              "      display:flex;\n",
              "      flex-wrap:wrap;\n",
              "      gap: 12px;\n",
              "    }\n",
              "\n",
              "    .colab-df-convert {\n",
              "      background-color: #E8F0FE;\n",
              "      border: none;\n",
              "      border-radius: 50%;\n",
              "      cursor: pointer;\n",
              "      display: none;\n",
              "      fill: #1967D2;\n",
              "      height: 32px;\n",
              "      padding: 0 0 0 0;\n",
              "      width: 32px;\n",
              "    }\n",
              "\n",
              "    .colab-df-convert:hover {\n",
              "      background-color: #E2EBFA;\n",
              "      box-shadow: 0px 1px 2px rgba(60, 64, 67, 0.3), 0px 1px 3px 1px rgba(60, 64, 67, 0.15);\n",
              "      fill: #174EA6;\n",
              "    }\n",
              "\n",
              "    [theme=dark] .colab-df-convert {\n",
              "      background-color: #3B4455;\n",
              "      fill: #D2E3FC;\n",
              "    }\n",
              "\n",
              "    [theme=dark] .colab-df-convert:hover {\n",
              "      background-color: #434B5C;\n",
              "      box-shadow: 0px 1px 3px 1px rgba(0, 0, 0, 0.15);\n",
              "      filter: drop-shadow(0px 1px 2px rgba(0, 0, 0, 0.3));\n",
              "      fill: #FFFFFF;\n",
              "    }\n",
              "  </style>\n",
              "\n",
              "      <script>\n",
              "        const buttonEl =\n",
              "          document.querySelector('#df-574861fb-5be8-48de-b926-66e4886869e2 button.colab-df-convert');\n",
              "        buttonEl.style.display =\n",
              "          google.colab.kernel.accessAllowed ? 'block' : 'none';\n",
              "\n",
              "        async function convertToInteractive(key) {\n",
              "          const element = document.querySelector('#df-574861fb-5be8-48de-b926-66e4886869e2');\n",
              "          const dataTable =\n",
              "            await google.colab.kernel.invokeFunction('convertToInteractive',\n",
              "                                                     [key], {});\n",
              "          if (!dataTable) return;\n",
              "\n",
              "          const docLinkHtml = 'Like what you see? Visit the ' +\n",
              "            '<a target=\"_blank\" href=https://colab.research.google.com/notebooks/data_table.ipynb>data table notebook</a>'\n",
              "            + ' to learn more about interactive tables.';\n",
              "          element.innerHTML = '';\n",
              "          dataTable['output_type'] = 'display_data';\n",
              "          await google.colab.output.renderOutput(dataTable, element);\n",
              "          const docLink = document.createElement('div');\n",
              "          docLink.innerHTML = docLinkHtml;\n",
              "          element.appendChild(docLink);\n",
              "        }\n",
              "      </script>\n",
              "    </div>\n",
              "  </div>\n",
              "  "
            ]
          },
          "metadata": {},
          "execution_count": 397
        }
      ]
    },
    {
      "cell_type": "code",
      "source": [
        "k = 3\n",
        "map_k, avp = map_at_k(search_results_1, k)\n",
        "print(\"==> MAP@{}: {}\\n\".format(k, map_k))\n",
        "\n",
        "k = 10\n",
        "map_k, avp = map_at_k(search_results_1, k)\n",
        "print(\"==> MAP@{}: {}\\n\".format(k, map_k))\n",
        "\n",
        "k = 20\n",
        "map_k, avp = map_at_k(search_results_1, k)\n",
        "print(\"==> MAP@{}: {}\\n\".format(k, map_k))"
      ],
      "metadata": {
        "colab": {
          "base_uri": "https://localhost:8080/"
        },
        "outputId": "acc49c5b-ef4e-496a-d512-1a30bbcb6785",
        "id": "4tDQXABSifl-"
      },
      "execution_count": null,
      "outputs": [
        {
          "output_type": "stream",
          "name": "stdout",
          "text": [
            "==> MAP@3: 0.24666666666666667\n",
            "\n",
            "==> MAP@10: 0.9028412698412698\n",
            "\n",
            "==> MAP@20: 0.9292049062049061\n",
            "\n"
          ]
        }
      ]
    },
    {
      "cell_type": "markdown",
      "source": [
        "<font color='blue'>MRR"
      ],
      "metadata": {
        "id": "v6yG92aQifmC"
      }
    },
    {
      "cell_type": "code",
      "source": [
        "mrr = {}\n",
        "for k in [3, 10, 20]:\n",
        "    RRs = []\n",
        "    for q in search_results_1['query_id'].unique():  # loop over all query ids\n",
        "        labels =  np.array(current_query_res[\"label\"]) # get labels for current query\n",
        "        scores =  np.array(current_query_res[\"predicted_scores\"])# get predicted score for current query\n",
        "        RRs.append(rr_at_k(labels, scores, k))  # append RR for current query\n",
        "    mrr[k] = np.round(float(sum(RRs)/len(RRs)), 4)  # Mean RR at current k\n",
        "    print(\"==> MRR@{}: {}\\n\".format(k, mrr[k]))"
      ],
      "metadata": {
        "colab": {
          "base_uri": "https://localhost:8080/"
        },
        "outputId": "29221203-b6ee-4fc3-bd15-e1f47d61c423",
        "id": "93qutqSoifmC"
      },
      "execution_count": null,
      "outputs": [
        {
          "output_type": "stream",
          "name": "stdout",
          "text": [
            "==> MRR@3: 1.0\n",
            "\n",
            "==> MRR@10: 1.0\n",
            "\n",
            "==> MRR@20: 1.0\n",
            "\n"
          ]
        }
      ]
    },
    {
      "cell_type": "markdown",
      "source": [
        "<font color='blue'>NDCG"
      ],
      "metadata": {
        "id": "cSBEazNtifmD"
      }
    },
    {
      "cell_type": "code",
      "source": [
        "ndcgs = []\n",
        "k = 10\n",
        "for q in search_results_1['query_id'].unique() : # loop over all query ids\n",
        "    labels =  np.array(current_query_res[\"label\"]) ## get labels for current query\n",
        "    scores = np.array(current_query_res[\"predicted_scores\"]) # get predicted score for current query\n",
        "    ndcgs.append(ndcg_at_k(labels, scores, k)) # append NDCG for current query\n",
        "\n",
        "avg_ndcg = np.round(float(sum(ndcgs)/len(ndcgs)), 4) # Compute average NDCG\n",
        "print(\"Average NCDG@{}: {}\".format(k, avg_ndcg))"
      ],
      "metadata": {
        "colab": {
          "base_uri": "https://localhost:8080/"
        },
        "outputId": "6d8ba482-6c5b-462d-eecf-f9a917cbead0",
        "id": "WiK2JyC0ifmF"
      },
      "execution_count": null,
      "outputs": [
        {
          "output_type": "stream",
          "name": "stdout",
          "text": [
            "Average NCDG@10: 1.0\n"
          ]
        }
      ]
    },
    {
      "cell_type": "markdown",
      "source": [
        "#####Query 5\n",
        "\n",
        "Damage Hurricane"
      ],
      "metadata": {
        "id": "yNR386LEnC0L"
      }
    },
    {
      "cell_type": "code",
      "source": [
        "# in the following lines we reduce the ground truth dataframe to those rows related to query 5, and save the corresponding predicted score of our ranking system\n",
        "# the reduced data frame is q_sr\n",
        "\n",
        "q = 'Damage Hurricane'\n",
        "qn = 5\n",
        "q_sr = search_results_1[search_results_1[\"query_id\"] == qn]\n",
        "\n",
        "ranked_docs_q,ranked_scores_q = search_tf_idf(q, index)\n",
        "for i, d_id in enumerate(ranked_docs_q):\n",
        "  if (d_id == q_sr['doc_id']).any(): # if our ranking doc coincides with a doc in the ground truth add the score\n",
        "    search_results_1.loc[search_results_1['doc_id'] == d_id, 'predicted_scores'] = ranked_scores_q[i]\n",
        "\n",
        "q_sr = search_results_1[search_results_1[\"query_id\"] == qn] #now we have the predicted_scores in the reduced dataframe"
      ],
      "metadata": {
        "id": "VGAsvSCqX_aT"
      },
      "execution_count": null,
      "outputs": []
    },
    {
      "cell_type": "markdown",
      "source": [
        " <font color='blue'>Precision P@K</font>"
      ],
      "metadata": {
        "id": "6n7WEZkhiswf"
      }
    },
    {
      "cell_type": "code",
      "source": [
        "current_query_res = q_sr\n",
        "\n",
        "k = 3\n",
        "print(\"==> Precision@{}: {}\\n\".format(k, precision_at_k(current_query_res[\"label\"], current_query_res[\"predicted_scores\"], k)))\n",
        "\n",
        "k = 10\n",
        "print(\"==> Precision@{}: {}\\n\".format(k, precision_at_k(current_query_res[\"label\"], current_query_res[\"predicted_scores\"], k)))\n",
        "\n",
        "k = 20\n",
        "print(\"==> Precision@{}: {}\\n\".format(k, precision_at_k(current_query_res[\"label\"], current_query_res[\"predicted_scores\"], k)))"
      ],
      "metadata": {
        "colab": {
          "base_uri": "https://localhost:8080/"
        },
        "outputId": "139cc4a9-5bab-4936-f818-8ebb03ee7e7b",
        "id": "4dUQC4aGiswj"
      },
      "execution_count": null,
      "outputs": [
        {
          "output_type": "stream",
          "name": "stdout",
          "text": [
            "==> Precision@3: 1.0\n",
            "\n",
            "==> Precision@10: 1.0\n",
            "\n",
            "==> Precision@20: 0.5\n",
            "\n"
          ]
        }
      ]
    },
    {
      "cell_type": "markdown",
      "source": [
        " <font color='blue'>Recall R@K"
      ],
      "metadata": {
        "id": "ivbVWAbhiswo"
      }
    },
    {
      "cell_type": "code",
      "source": [
        "k = 3\n",
        "print(\"==> Recall@{}: {}\\n\".format(k, recall_at_k(current_query_res[\"label\"], current_query_res[\"predicted_scores\"], k)))\n",
        "\n",
        "k = 10\n",
        "print(\"==> Recall@{}: {}\\n\".format(k, recall_at_k(current_query_res[\"label\"], current_query_res[\"predicted_scores\"], k)))\n",
        "\n",
        "k = 20\n",
        "print(\"==> Recall@{}: {}\\n\".format(k, recall_at_k(current_query_res[\"label\"], current_query_res[\"predicted_scores\"], k)))"
      ],
      "metadata": {
        "colab": {
          "base_uri": "https://localhost:8080/"
        },
        "outputId": "cafc32a2-b340-46b6-c1b2-373cbe97b38c",
        "id": "xdjajjObiswr"
      },
      "execution_count": null,
      "outputs": [
        {
          "output_type": "stream",
          "name": "stdout",
          "text": [
            "==> Recall@3: 0.3\n",
            "\n",
            "==> Recall@10: 1.0\n",
            "\n",
            "==> Recall@20: 1.0\n",
            "\n"
          ]
        }
      ]
    },
    {
      "cell_type": "markdown",
      "source": [
        " <font color='blue'>Avg Precision P@K"
      ],
      "metadata": {
        "id": "9lZ0l2TNiswv"
      }
    },
    {
      "cell_type": "code",
      "source": [
        "k = 10\n",
        "print(\"==> P@{}: {}\\n\".format(k, avg_precision_at_k(np.array(current_query_res[\"label\"]), np.array(current_query_res[\"predicted_scores\"]), k)))\n",
        "\n",
        "k=20\n",
        "print(\"==> P@{}: {}\\n\".format(k, avg_precision_at_k(np.array(current_query_res[\"label\"]), np.array(current_query_res[\"predicted_scores\"]), k)))"
      ],
      "metadata": {
        "colab": {
          "base_uri": "https://localhost:8080/"
        },
        "outputId": "6a283b08-ebfe-4cb0-b67b-9888cb7a1382",
        "id": "wiYqv-uKiswy"
      },
      "execution_count": null,
      "outputs": [
        {
          "output_type": "stream",
          "name": "stdout",
          "text": [
            "==> P@10: 1.0\n",
            "\n",
            "==> P@20: 1.0\n",
            "\n"
          ]
        }
      ]
    },
    {
      "cell_type": "markdown",
      "source": [
        " <font color='blue'>F1-score"
      ],
      "metadata": {
        "id": "B4MZXWMSisw1"
      }
    },
    {
      "cell_type": "code",
      "source": [
        "k = 3\n",
        "print(\"==> F1-score@{}: {}\\n\".format(k, f1_score(current_query_res[\"label\"], current_query_res[\"predicted_scores\"], k)))\n",
        "\n",
        "k = 10\n",
        "print(\"==> F1-score@{}: {}\\n\".format(k, f1_score(current_query_res[\"label\"], current_query_res[\"predicted_scores\"], k)))\n",
        "\n",
        "k = 20\n",
        "print(\"==> F1-score@{}: {}\\n\".format(k, f1_score(current_query_res[\"label\"], current_query_res[\"predicted_scores\"], k)))"
      ],
      "metadata": {
        "colab": {
          "base_uri": "https://localhost:8080/"
        },
        "outputId": "f5ac5ec6-408a-48d1-d769-b5bf06db7b64",
        "id": "0N6g1zOTisw3"
      },
      "execution_count": null,
      "outputs": [
        {
          "output_type": "stream",
          "name": "stdout",
          "text": [
            "==> F1-score@3: 0.4615384615384615\n",
            "\n",
            "==> F1-score@10: 1.0\n",
            "\n",
            "==> F1-score@20: 0.6666666666666666\n",
            "\n"
          ]
        }
      ]
    },
    {
      "cell_type": "markdown",
      "source": [
        "<font color='blue'>MAP"
      ],
      "metadata": {
        "id": "dPGhwBFyisw5"
      }
    },
    {
      "cell_type": "code",
      "source": [
        "current_query_res.sort_values(\"predicted_scores\", ascending=False).head(10)"
      ],
      "metadata": {
        "colab": {
          "base_uri": "https://localhost:8080/",
          "height": 363
        },
        "outputId": "bab29407-a625-47bf-fadc-83358e0ed80b",
        "id": "FFAma8jrisw7"
      },
      "execution_count": null,
      "outputs": [
        {
          "output_type": "execute_result",
          "data": {
            "text/plain": [
              "    doc_id  query_id  label  predicted_scores\n",
              "40    1373         5      1          2.596849\n",
              "41    3909         5      1          2.312034\n",
              "42    1949         5      1          2.178911\n",
              "43     536         5      1          2.017398\n",
              "44     277         5      1          2.017398\n",
              "45    3673         5      1          1.910793\n",
              "46    1985         5      1          1.886830\n",
              "47    3236         5      1          1.830225\n",
              "48    2120         5      1          1.830225\n",
              "49      97         5      1          1.830225"
            ],
            "text/html": [
              "\n",
              "  <div id=\"df-a618595b-29a4-43c1-ac40-5f06dac1d70f\">\n",
              "    <div class=\"colab-df-container\">\n",
              "      <div>\n",
              "<style scoped>\n",
              "    .dataframe tbody tr th:only-of-type {\n",
              "        vertical-align: middle;\n",
              "    }\n",
              "\n",
              "    .dataframe tbody tr th {\n",
              "        vertical-align: top;\n",
              "    }\n",
              "\n",
              "    .dataframe thead th {\n",
              "        text-align: right;\n",
              "    }\n",
              "</style>\n",
              "<table border=\"1\" class=\"dataframe\">\n",
              "  <thead>\n",
              "    <tr style=\"text-align: right;\">\n",
              "      <th></th>\n",
              "      <th>doc_id</th>\n",
              "      <th>query_id</th>\n",
              "      <th>label</th>\n",
              "      <th>predicted_scores</th>\n",
              "    </tr>\n",
              "  </thead>\n",
              "  <tbody>\n",
              "    <tr>\n",
              "      <th>40</th>\n",
              "      <td>1373</td>\n",
              "      <td>5</td>\n",
              "      <td>1</td>\n",
              "      <td>2.596849</td>\n",
              "    </tr>\n",
              "    <tr>\n",
              "      <th>41</th>\n",
              "      <td>3909</td>\n",
              "      <td>5</td>\n",
              "      <td>1</td>\n",
              "      <td>2.312034</td>\n",
              "    </tr>\n",
              "    <tr>\n",
              "      <th>42</th>\n",
              "      <td>1949</td>\n",
              "      <td>5</td>\n",
              "      <td>1</td>\n",
              "      <td>2.178911</td>\n",
              "    </tr>\n",
              "    <tr>\n",
              "      <th>43</th>\n",
              "      <td>536</td>\n",
              "      <td>5</td>\n",
              "      <td>1</td>\n",
              "      <td>2.017398</td>\n",
              "    </tr>\n",
              "    <tr>\n",
              "      <th>44</th>\n",
              "      <td>277</td>\n",
              "      <td>5</td>\n",
              "      <td>1</td>\n",
              "      <td>2.017398</td>\n",
              "    </tr>\n",
              "    <tr>\n",
              "      <th>45</th>\n",
              "      <td>3673</td>\n",
              "      <td>5</td>\n",
              "      <td>1</td>\n",
              "      <td>1.910793</td>\n",
              "    </tr>\n",
              "    <tr>\n",
              "      <th>46</th>\n",
              "      <td>1985</td>\n",
              "      <td>5</td>\n",
              "      <td>1</td>\n",
              "      <td>1.886830</td>\n",
              "    </tr>\n",
              "    <tr>\n",
              "      <th>47</th>\n",
              "      <td>3236</td>\n",
              "      <td>5</td>\n",
              "      <td>1</td>\n",
              "      <td>1.830225</td>\n",
              "    </tr>\n",
              "    <tr>\n",
              "      <th>48</th>\n",
              "      <td>2120</td>\n",
              "      <td>5</td>\n",
              "      <td>1</td>\n",
              "      <td>1.830225</td>\n",
              "    </tr>\n",
              "    <tr>\n",
              "      <th>49</th>\n",
              "      <td>97</td>\n",
              "      <td>5</td>\n",
              "      <td>1</td>\n",
              "      <td>1.830225</td>\n",
              "    </tr>\n",
              "  </tbody>\n",
              "</table>\n",
              "</div>\n",
              "      <button class=\"colab-df-convert\" onclick=\"convertToInteractive('df-a618595b-29a4-43c1-ac40-5f06dac1d70f')\"\n",
              "              title=\"Convert this dataframe to an interactive table.\"\n",
              "              style=\"display:none;\">\n",
              "        \n",
              "  <svg xmlns=\"http://www.w3.org/2000/svg\" height=\"24px\"viewBox=\"0 0 24 24\"\n",
              "       width=\"24px\">\n",
              "    <path d=\"M0 0h24v24H0V0z\" fill=\"none\"/>\n",
              "    <path d=\"M18.56 5.44l.94 2.06.94-2.06 2.06-.94-2.06-.94-.94-2.06-.94 2.06-2.06.94zm-11 1L8.5 8.5l.94-2.06 2.06-.94-2.06-.94L8.5 2.5l-.94 2.06-2.06.94zm10 10l.94 2.06.94-2.06 2.06-.94-2.06-.94-.94-2.06-.94 2.06-2.06.94z\"/><path d=\"M17.41 7.96l-1.37-1.37c-.4-.4-.92-.59-1.43-.59-.52 0-1.04.2-1.43.59L10.3 9.45l-7.72 7.72c-.78.78-.78 2.05 0 2.83L4 21.41c.39.39.9.59 1.41.59.51 0 1.02-.2 1.41-.59l7.78-7.78 2.81-2.81c.8-.78.8-2.07 0-2.86zM5.41 20L4 18.59l7.72-7.72 1.47 1.35L5.41 20z\"/>\n",
              "  </svg>\n",
              "      </button>\n",
              "      \n",
              "  <style>\n",
              "    .colab-df-container {\n",
              "      display:flex;\n",
              "      flex-wrap:wrap;\n",
              "      gap: 12px;\n",
              "    }\n",
              "\n",
              "    .colab-df-convert {\n",
              "      background-color: #E8F0FE;\n",
              "      border: none;\n",
              "      border-radius: 50%;\n",
              "      cursor: pointer;\n",
              "      display: none;\n",
              "      fill: #1967D2;\n",
              "      height: 32px;\n",
              "      padding: 0 0 0 0;\n",
              "      width: 32px;\n",
              "    }\n",
              "\n",
              "    .colab-df-convert:hover {\n",
              "      background-color: #E2EBFA;\n",
              "      box-shadow: 0px 1px 2px rgba(60, 64, 67, 0.3), 0px 1px 3px 1px rgba(60, 64, 67, 0.15);\n",
              "      fill: #174EA6;\n",
              "    }\n",
              "\n",
              "    [theme=dark] .colab-df-convert {\n",
              "      background-color: #3B4455;\n",
              "      fill: #D2E3FC;\n",
              "    }\n",
              "\n",
              "    [theme=dark] .colab-df-convert:hover {\n",
              "      background-color: #434B5C;\n",
              "      box-shadow: 0px 1px 3px 1px rgba(0, 0, 0, 0.15);\n",
              "      filter: drop-shadow(0px 1px 2px rgba(0, 0, 0, 0.3));\n",
              "      fill: #FFFFFF;\n",
              "    }\n",
              "  </style>\n",
              "\n",
              "      <script>\n",
              "        const buttonEl =\n",
              "          document.querySelector('#df-a618595b-29a4-43c1-ac40-5f06dac1d70f button.colab-df-convert');\n",
              "        buttonEl.style.display =\n",
              "          google.colab.kernel.accessAllowed ? 'block' : 'none';\n",
              "\n",
              "        async function convertToInteractive(key) {\n",
              "          const element = document.querySelector('#df-a618595b-29a4-43c1-ac40-5f06dac1d70f');\n",
              "          const dataTable =\n",
              "            await google.colab.kernel.invokeFunction('convertToInteractive',\n",
              "                                                     [key], {});\n",
              "          if (!dataTable) return;\n",
              "\n",
              "          const docLinkHtml = 'Like what you see? Visit the ' +\n",
              "            '<a target=\"_blank\" href=https://colab.research.google.com/notebooks/data_table.ipynb>data table notebook</a>'\n",
              "            + ' to learn more about interactive tables.';\n",
              "          element.innerHTML = '';\n",
              "          dataTable['output_type'] = 'display_data';\n",
              "          await google.colab.output.renderOutput(dataTable, element);\n",
              "          const docLink = document.createElement('div');\n",
              "          docLink.innerHTML = docLinkHtml;\n",
              "          element.appendChild(docLink);\n",
              "        }\n",
              "      </script>\n",
              "    </div>\n",
              "  </div>\n",
              "  "
            ]
          },
          "metadata": {},
          "execution_count": 406
        }
      ]
    },
    {
      "cell_type": "code",
      "source": [
        "k = 3\n",
        "map_k, avp = map_at_k(search_results_1, k)\n",
        "print(\"==> MAP@{}: {}\\n\".format(k, map_k))\n",
        "\n",
        "k = 10\n",
        "map_k, avp = map_at_k(search_results_1, k)\n",
        "print(\"==> MAP@{}: {}\\n\".format(k, map_k))\n",
        "\n",
        "k = 20\n",
        "map_k, avp = map_at_k(search_results_1, k)\n",
        "print(\"==> MAP@{}: {}\\n\".format(k, map_k))"
      ],
      "metadata": {
        "colab": {
          "base_uri": "https://localhost:8080/"
        },
        "outputId": "24c763be-47e3-44f8-fbcb-7b2aeadc2ad9",
        "id": "-og44cjSisw9"
      },
      "execution_count": null,
      "outputs": [
        {
          "output_type": "stream",
          "name": "stdout",
          "text": [
            "==> MAP@3: 0.3\n",
            "\n",
            "==> MAP@10: 1.0\n",
            "\n",
            "==> MAP@20: 1.0\n",
            "\n"
          ]
        }
      ]
    },
    {
      "cell_type": "markdown",
      "source": [
        "<font color='blue'>MRR"
      ],
      "metadata": {
        "id": "Xcp5eHE9isw_"
      }
    },
    {
      "cell_type": "code",
      "source": [
        "mrr = {}\n",
        "for k in [3, 10, 20]:\n",
        "    RRs = []\n",
        "    for q in search_results_1['query_id'].unique():  # loop over all query ids\n",
        "        labels =  np.array(current_query_res[\"label\"]) # get labels for current query\n",
        "        scores =  np.array(current_query_res[\"predicted_scores\"])# get predicted score for current query\n",
        "        RRs.append(rr_at_k(labels, scores, k))  # append RR for current query\n",
        "    mrr[k] = np.round(float(sum(RRs)/len(RRs)), 4)  # Mean RR at current k\n",
        "    print(\"==> MRR@{}: {}\\n\".format(k, mrr[k]))"
      ],
      "metadata": {
        "colab": {
          "base_uri": "https://localhost:8080/"
        },
        "outputId": "1a871904-ae61-4704-ad3f-03118f5b498b",
        "id": "Eq5ThEORisxD"
      },
      "execution_count": null,
      "outputs": [
        {
          "output_type": "stream",
          "name": "stdout",
          "text": [
            "==> MRR@3: 1.0\n",
            "\n",
            "==> MRR@10: 1.0\n",
            "\n",
            "==> MRR@20: 1.0\n",
            "\n"
          ]
        }
      ]
    },
    {
      "cell_type": "markdown",
      "source": [
        "<font color='blue'>NDCG"
      ],
      "metadata": {
        "id": "fSkEP0w-isxE"
      }
    },
    {
      "cell_type": "code",
      "source": [
        "ndcgs = []\n",
        "k = 10\n",
        "for q in search_results_1['query_id'].unique() : # loop over all query ids\n",
        "    labels =  np.array(current_query_res[\"label\"]) ## get labels for current query\n",
        "    scores = np.array(current_query_res[\"predicted_scores\"]) # get predicted score for current query\n",
        "    ndcgs.append(ndcg_at_k(labels, scores, k)) # append NDCG for current query\n",
        "\n",
        "avg_ndcg = np.round(float(sum(ndcgs)/len(ndcgs)), 4) # Compute average NDCG\n",
        "print(\"Average NCDG@{}: {}\".format(k, avg_ndcg))"
      ],
      "metadata": {
        "colab": {
          "base_uri": "https://localhost:8080/"
        },
        "outputId": "197fbe73-99ea-43e9-bf20-6e2a92fed6ef",
        "id": "08q-LfWQisxE"
      },
      "execution_count": null,
      "outputs": [
        {
          "output_type": "stream",
          "name": "stdout",
          "text": [
            "Average NCDG@10: 1.0\n"
          ]
        }
      ]
    },
    {
      "cell_type": "markdown",
      "source": [
        "#### Choose one vector representation, TF-IDF or word2vec, and represent the tweets in a two-dimensional scatter plot through the T-SNE (T-distributed Stochastic Neighbor Embedding) algorithm. To do so, you may need first to represent the word as a vector, and then the tweet, i.e., resulted as the average value over the words involved. Any other option rather than T-SNE may be used, but needs to be justified."
      ],
      "metadata": {
        "id": "DL2ZwZF5nGeb"
      }
    },
    {
      "cell_type": "markdown",
      "source": [
        "#### **T-SNE plot**"
      ],
      "metadata": {
        "id": "aRu6r7_MDz1F"
      }
    },
    {
      "cell_type": "code",
      "source": [
        "import re\n",
        "import matplotlib.pyplot as plt\n",
        "from gensim.models.word2vec import Word2Vec\n",
        "from sklearn.manifold import TSNE\n",
        "from sklearn.datasets import fetch_20newsgroups"
      ],
      "metadata": {
        "id": "3LhDW1BqDiqc"
      },
      "execution_count": null,
      "outputs": []
    },
    {
      "cell_type": "code",
      "source": [
        "!pip install --pre --upgrade gensim"
      ],
      "metadata": {
        "id": "SVnXyc7HpKY_",
        "colab": {
          "base_uri": "https://localhost:8080/"
        },
        "outputId": "26f9ae16-f56c-4075-a002-8864ad1bbe9a"
      },
      "execution_count": null,
      "outputs": [
        {
          "output_type": "stream",
          "name": "stdout",
          "text": [
            "Looking in indexes: https://pypi.org/simple, https://us-python.pkg.dev/colab-wheels/public/simple/\n",
            "Requirement already satisfied: gensim in /usr/local/lib/python3.7/dist-packages (4.2.0)\n",
            "Requirement already satisfied: scipy>=0.18.1 in /usr/local/lib/python3.7/dist-packages (from gensim) (1.7.3)\n",
            "Requirement already satisfied: numpy>=1.17.0 in /usr/local/lib/python3.7/dist-packages (from gensim) (1.21.6)\n",
            "Requirement already satisfied: smart-open>=1.8.1 in /usr/local/lib/python3.7/dist-packages (from gensim) (5.2.1)\n"
          ]
        }
      ]
    },
    {
      "cell_type": "code",
      "source": [
        "import gensim\n",
        "print(gensim.__version__)"
      ],
      "metadata": {
        "id": "O9e4QII9pMoO",
        "colab": {
          "base_uri": "https://localhost:8080/"
        },
        "outputId": "d1a40ef6-6219-4c99-fb9e-b4185017b04e"
      },
      "execution_count": null,
      "outputs": [
        {
          "output_type": "stream",
          "name": "stdout",
          "text": [
            "4.2.0\n"
          ]
        }
      ]
    },
    {
      "cell_type": "code",
      "source": [
        "#extracting the terms in the tweets from our preprocessed_lines list\n",
        "count = []\n",
        "for i in preprocessed_lines:\n",
        "  count.append(i[\"Tweet\"])"
      ],
      "metadata": {
        "id": "nsu903aADfWU"
      },
      "execution_count": null,
      "outputs": []
    },
    {
      "cell_type": "code",
      "source": [
        "#implementing the model \n",
        "model = Word2Vec(count)\n",
        "X = model.wv[model.wv.key_to_index]\n",
        "T_sne = TSNE(perplexity = 10)\n",
        "X_tsne = T_sne.fit_transform(X)\n",
        "plt.scatter(X_tsne[:,0], X_tsne[:,1])\n",
        "plt.show()"
      ],
      "metadata": {
        "id": "6iJHYgIApEdD",
        "colab": {
          "base_uri": "https://localhost:8080/",
          "height": 354
        },
        "outputId": "7c49595b-f0ab-41c5-f1a6-904cc54d4f17"
      },
      "execution_count": null,
      "outputs": [
        {
          "output_type": "stream",
          "name": "stderr",
          "text": [
            "/usr/local/lib/python3.7/dist-packages/sklearn/manifold/_t_sne.py:783: FutureWarning: The default initialization in TSNE will change from 'random' to 'pca' in 1.2.\n",
            "  FutureWarning,\n",
            "/usr/local/lib/python3.7/dist-packages/sklearn/manifold/_t_sne.py:793: FutureWarning: The default learning rate in TSNE will change from 200.0 to 'auto' in 1.2.\n",
            "  FutureWarning,\n"
          ]
        },
        {
          "output_type": "display_data",
          "data": {
            "text/plain": [
              "<Figure size 432x288 with 1 Axes>"
            ],
            "image/png": "[encoded data removed]"
          },
          "metadata": {
            "needs_background": "light"
          }
        }
      ]
    }
  ]
}